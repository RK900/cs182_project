{
 "cells": [
  {
   "cell_type": "code",
   "execution_count": 1,
   "id": "specific-feeling",
   "metadata": {
    "execution": {
     "iopub.execute_input": "2021-05-08T04:00:40.687336Z",
     "iopub.status.busy": "2021-05-08T04:00:40.686789Z",
     "iopub.status.idle": "2021-05-08T04:00:40.897661Z",
     "shell.execute_reply": "2021-05-08T04:00:40.897049Z"
    },
    "papermill": {
     "duration": 0.222037,
     "end_time": "2021-05-08T04:00:40.897787",
     "exception": false,
     "start_time": "2021-05-08T04:00:40.675750",
     "status": "completed"
    },
    "tags": []
   },
   "outputs": [],
   "source": [
    "from ablation import *\n",
    "import hickle\n",
    "import os"
   ]
  },
  {
   "cell_type": "code",
   "execution_count": 2,
   "id": "threaded-projector",
   "metadata": {
    "execution": {
     "iopub.execute_input": "2021-05-08T04:00:40.913757Z",
     "iopub.status.busy": "2021-05-08T04:00:40.913176Z",
     "iopub.status.idle": "2021-05-08T04:00:41.030085Z",
     "shell.execute_reply": "2021-05-08T04:00:41.029412Z"
    },
    "papermill": {
     "duration": 0.126971,
     "end_time": "2021-05-08T04:00:41.030213",
     "exception": false,
     "start_time": "2021-05-08T04:00:40.903242",
     "status": "completed"
    },
    "tags": []
   },
   "outputs": [
    {
     "name": "stdout",
     "output_type": "stream",
     "text": [
      "{'regressive_style_finetuning': False, 'enable_orig': 'orig', 'enable_aug': False, 'enable_aug3': True, 'max_training_samples': 200000, 'lstm_hidden_size': 64, 'epochs': 20}\n",
      "0.8203125\n"
     ]
    }
   ],
   "source": [
    "best_accuracy_so_far = 0\n",
    "best_accuracy_params = None\n",
    "\n",
    "def get_best_matrix(cur_matrix, cur_params):\n",
    "  global best_accuracy_so_far\n",
    "  global best_accuracy_params\n",
    "  if len(cur_matrix) == 0:\n",
    "    run_id = get_id(cur_params)\n",
    "    out_path = f\"completed-experiments/{run_id}\"\n",
    "    if os.path.exists(f\"{out_path}/main-accuracies.hkl\"):\n",
    "        train_accuracy, valid_accuracy = hickle.load(f\"{out_path}/main-accuracies.hkl\")\n",
    "        if valid_accuracy[-1] > best_accuracy_so_far:\n",
    "            best_accuracy_so_far = valid_accuracy[-1]\n",
    "            best_accuracy_params = cur_params\n",
    "  else:\n",
    "    key, options = cur_matrix[0]\n",
    "    for option in options:\n",
    "      new_params = cur_params.copy()\n",
    "      new_params[key] = option\n",
    "      get_best_matrix(cur_matrix[1:], new_params)\n",
    "\n",
    "get_best_matrix(matrix, dict())\n",
    "\n",
    "print(best_accuracy_params)\n",
    "print(best_accuracy_so_far)"
   ]
  },
  {
   "cell_type": "code",
   "execution_count": 3,
   "id": "fourth-fluid",
   "metadata": {
    "execution": {
     "iopub.execute_input": "2021-05-08T04:00:41.047026Z",
     "iopub.status.busy": "2021-05-08T04:00:41.046348Z",
     "iopub.status.idle": "2021-05-08T04:00:42.203548Z",
     "shell.execute_reply": "2021-05-08T04:00:42.207847Z"
    },
    "papermill": {
     "duration": 1.17202,
     "end_time": "2021-05-08T04:00:42.209093",
     "exception": false,
     "start_time": "2021-05-08T04:00:41.037073",
     "status": "completed"
    },
    "tags": []
   },
   "outputs": [],
   "source": [
    "from distutils.dir_util import copy_tree\n",
    "\n",
    "best_id = get_id(best_accuracy_params)\n",
    "copy_tree(f\"completed-experiments/{best_id}\", \".\")\n",
    "\n",
    "import json\n",
    "with open('model-config.json', 'w') as f:\n",
    "    json.dump(best_accuracy_params, f)"
   ]
  },
  {
   "cell_type": "code",
   "execution_count": 4,
   "id": "russian-alloy",
   "metadata": {
    "execution": {
     "iopub.execute_input": "2021-05-08T04:00:42.304415Z",
     "iopub.status.busy": "2021-05-08T04:00:42.300443Z",
     "iopub.status.idle": "2021-05-08T04:00:42.320656Z",
     "shell.execute_reply": "2021-05-08T04:00:42.323658Z"
    },
    "papermill": {
     "duration": 0.078913,
     "end_time": "2021-05-08T04:00:42.325071",
     "exception": false,
     "start_time": "2021-05-08T04:00:42.246158",
     "status": "completed"
    },
    "tags": []
   },
   "outputs": [],
   "source": [
    "ablation_param = \"lstm_hidden_size\""
   ]
  },
  {
   "cell_type": "code",
   "execution_count": 5,
   "id": "everyday-median",
   "metadata": {
    "execution": {
     "iopub.execute_input": "2021-05-08T04:00:42.436087Z",
     "iopub.status.busy": "2021-05-08T04:00:42.424785Z",
     "iopub.status.idle": "2021-05-08T04:00:42.895389Z",
     "shell.execute_reply": "2021-05-08T04:00:42.895641Z"
    },
    "papermill": {
     "duration": 0.534218,
     "end_time": "2021-05-08T04:00:42.895752",
     "exception": false,
     "start_time": "2021-05-08T04:00:42.361534",
     "status": "completed"
    },
    "tags": []
   },
   "outputs": [
    {
     "data": {
      "text/plain": [
       "<matplotlib.legend.Legend at 0x7f955efc7950>"
      ]
     },
     "execution_count": 5,
     "metadata": {},
     "output_type": "execute_result"
    },
    {
     "data": {
      "image/png": "[encoded data removed]",
      "text/plain": [
       "<Figure size 432x288 with 1 Axes>"
      ]
     },
     "metadata": {
      "needs_background": "light"
     },
     "output_type": "display_data"
    }
   ],
   "source": [
    "import matplotlib.pyplot as plt\n",
    "\n",
    "ablation_options = None\n",
    "for key, options in matrix:\n",
    "    if key == ablation_param:\n",
    "        ablation_options = options\n",
    "\n",
    "for option in ablation_options:\n",
    "    tweaked_dict = best_accuracy_params.copy()\n",
    "    tweaked_dict[ablation_param] = option\n",
    "    \n",
    "    run_id = get_id(tweaked_dict)\n",
    "    out_path = f\"completed-experiments/{run_id}\"\n",
    "    if os.path.exists(f\"{out_path}/main-accuracies.hkl\"):\n",
    "        train_accuracy, valid_accuracy = hickle.load(f\"{out_path}/main-accuracies.hkl\")\n",
    "        plt.plot(list(map(lambda x: x * 100, range(len(valid_accuracy)))), valid_accuracy, label = str(option))\n",
    "plt.xlabel(\"Iteration\")\n",
    "plt.ylabel(\"Validation Accuracy\")\n",
    "plt.legend()"
   ]
  }
 ],
 "metadata": {
  "kernelspec": {
   "display_name": "Python 3",
   "language": "python",
   "name": "python3"
  },
  "language_info": {
   "codemirror_mode": {
    "name": "ipython",
    "version": 3
   },
   "file_extension": ".py",
   "mimetype": "text/x-python",
   "name": "python",
   "nbconvert_exporter": "python",
   "pygments_lexer": "ipython3",
   "version": "3.7.10"
  },
  "papermill": {
   "default_parameters": {},
   "duration": 4.183429,
   "end_time": "2021-05-08T04:00:44.115893",
   "environment_variables": {},
   "exception": null,
   "input_path": "ablation_study.ipynb",
   "output_path": "ablation_study.ipynb",
   "parameters": {},
   "start_time": "2021-05-08T04:00:39.932464",
   "version": "2.3.3"
  }
 },
 "nbformat": 4,
 "nbformat_minor": 5
}