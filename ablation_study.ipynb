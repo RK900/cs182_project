{
 "cells": [
  {
   "cell_type": "code",
   "execution_count": 1,
   "id": "specific-feeling",
   "metadata": {
    "execution": {
     "iopub.execute_input": "2021-05-07T18:14:21.581263Z",
     "iopub.status.busy": "2021-05-07T18:14:21.580578Z",
     "iopub.status.idle": "2021-05-07T18:14:21.803034Z",
     "shell.execute_reply": "2021-05-07T18:14:21.803439Z"
    },
    "papermill": {
     "duration": 0.238491,
     "end_time": "2021-05-07T18:14:21.803636",
     "exception": false,
     "start_time": "2021-05-07T18:14:21.565145",
     "status": "completed"
    },
    "tags": []
   },
   "outputs": [],
   "source": [
    "from ablation import *\n",
    "import hickle\n",
    "import os"
   ]
  },
  {
   "cell_type": "code",
   "execution_count": 2,
   "id": "threaded-projector",
   "metadata": {
    "execution": {
     "iopub.execute_input": "2021-05-07T18:14:21.819495Z",
     "iopub.status.busy": "2021-05-07T18:14:21.819036Z",
     "iopub.status.idle": "2021-05-07T18:14:21.872160Z",
     "shell.execute_reply": "2021-05-07T18:14:21.872643Z"
    },
    "papermill": {
     "duration": 0.064064,
     "end_time": "2021-05-07T18:14:21.872787",
     "exception": false,
     "start_time": "2021-05-07T18:14:21.808723",
     "status": "completed"
    },
    "tags": []
   },
   "outputs": [
    {
     "name": "stdout",
     "output_type": "stream",
     "text": [
      "{'regressive_style_finetuning': False, 'enable_orig': 'orig', 'enable_aug': False, 'enable_aug3': True, 'max_training_samples': 200000, 'lstm_hidden_size': 64, 'epochs': 20}\n",
      "0.8203125\n"
     ]
    }
   ],
   "source": [
    "best_accuracy_so_far = 0\n",
    "best_accuracy_params = None\n",
    "\n",
    "def get_best_matrix(cur_matrix, cur_params):\n",
    "  global best_accuracy_so_far\n",
    "  global best_accuracy_params\n",
    "  if len(cur_matrix) == 0:\n",
    "    run_id = get_id(cur_params)\n",
    "    out_path = f\"completed-experiments/{run_id}\"\n",
    "    if os.path.exists(f\"{out_path}/main-accuracies.hkl\"):\n",
    "        train_accuracy, valid_accuracy = hickle.load(f\"{out_path}/main-accuracies.hkl\")\n",
    "        if valid_accuracy[-1] > best_accuracy_so_far:\n",
    "            best_accuracy_so_far = valid_accuracy[-1]\n",
    "            best_accuracy_params = cur_params\n",
    "  else:\n",
    "    key, options = cur_matrix[0]\n",
    "    for option in options:\n",
    "      new_params = cur_params.copy()\n",
    "      new_params[key] = option\n",
    "      get_best_matrix(cur_matrix[1:], new_params)\n",
    "\n",
    "get_best_matrix(matrix, dict())\n",
    "\n",
    "print(best_accuracy_params)\n",
    "print(best_accuracy_so_far)"
   ]
  },
  {
   "cell_type": "code",
   "execution_count": 3,
   "id": "fourth-fluid",
   "metadata": {
    "execution": {
     "iopub.execute_input": "2021-05-07T18:14:21.888482Z",
     "iopub.status.busy": "2021-05-07T18:14:21.887897Z",
     "iopub.status.idle": "2021-05-07T18:14:22.676363Z",
     "shell.execute_reply": "2021-05-07T18:14:22.676049Z"
    },
    "papermill": {
     "duration": 0.796706,
     "end_time": "2021-05-07T18:14:22.676442",
     "exception": false,
     "start_time": "2021-05-07T18:14:21.879736",
     "status": "completed"
    },
    "tags": []
   },
   "outputs": [],
   "source": [
    "from distutils.dir_util import copy_tree\n",
    "\n",
    "best_id = get_id(best_accuracy_params)\n",
    "copy_tree(f\"completed-experiments/{best_id}\", \".\")\n",
    "\n",
    "import json\n",
    "with open('model-config.json', 'w') as f:\n",
    "    json.dump(best_accuracy_params, f)"
   ]
  },
  {
   "cell_type": "code",
   "execution_count": 4,
   "id": "russian-alloy",
   "metadata": {
    "execution": {
     "iopub.execute_input": "2021-05-07T18:14:22.685033Z",
     "iopub.status.busy": "2021-05-07T18:14:22.684721Z",
     "iopub.status.idle": "2021-05-07T18:14:22.686277Z",
     "shell.execute_reply": "2021-05-07T18:14:22.685971Z"
    },
    "papermill": {
     "duration": 0.006501,
     "end_time": "2021-05-07T18:14:22.686336",
     "exception": false,
     "start_time": "2021-05-07T18:14:22.679835",
     "status": "completed"
    },
    "tags": []
   },
   "outputs": [],
   "source": [
    "ablation_param = \"enable_aug3\""
   ]
  },
  {
   "cell_type": "code",
   "execution_count": 5,
   "id": "everyday-median",
   "metadata": {
    "execution": {
     "iopub.execute_input": "2021-05-07T18:14:22.696901Z",
     "iopub.status.busy": "2021-05-07T18:14:22.696595Z",
     "iopub.status.idle": "2021-05-07T18:14:22.981088Z",
     "shell.execute_reply": "2021-05-07T18:14:22.980590Z"
    },
    "papermill": {
     "duration": 0.291805,
     "end_time": "2021-05-07T18:14:22.981182",
     "exception": false,
     "start_time": "2021-05-07T18:14:22.689377",
     "status": "completed"
    },
    "tags": []
   },
   "outputs": [
    {
     "data": {
      "text/plain": [
       "<matplotlib.legend.Legend at 0x7fb46702fad0>"
      ]
     },
     "execution_count": 5,
     "metadata": {},
     "output_type": "execute_result"
    },
    {
     "data": {
      "image/png": "[encoded data removed]",
      "text/plain": [
       "<Figure size 432x288 with 1 Axes>"
      ]
     },
     "metadata": {
      "needs_background": "light"
     },
     "output_type": "display_data"
    }
   ],
   "source": [
    "import matplotlib.pyplot as plt\n",
    "\n",
    "ablation_options = None\n",
    "for key, options in matrix:\n",
    "    if key == ablation_param:\n",
    "        ablation_options = options\n",
    "    \n",
    "for option in ablation_options:\n",
    "    tweaked_dict = best_accuracy_params.copy()\n",
    "    tweaked_dict[ablation_param] = option\n",
    "    \n",
    "    run_id = get_id(tweaked_dict)\n",
    "    out_path = f\"completed-experiments/{run_id}\"\n",
    "    if os.path.exists(f\"{out_path}/main-accuracies.hkl\"):\n",
    "        train_accuracy, valid_accuracy = hickle.load(f\"{out_path}/main-accuracies.hkl\")\n",
    "        plt.plot(list(map(lambda x: x * 100, range(len(valid_accuracy)))), valid_accuracy, label = str(option))\n",
    "plt.xlabel(\"Iteration\")\n",
    "plt.ylabel(\"Validation Accuracy\")\n",
    "plt.legend()"
   ]
  }
 ],
 "metadata": {
  "kernelspec": {
   "display_name": "Python 3",
   "language": "python",
   "name": "python3"
  },
  "language_info": {
   "codemirror_mode": {
    "name": "ipython",
    "version": 3
   },
   "file_extension": ".py",
   "mimetype": "text/x-python",
   "name": "python",
   "nbconvert_exporter": "python",
   "pygments_lexer": "ipython3",
   "version": "3.7.10"
  },
  "papermill": {
   "default_parameters": {},
   "duration": 2.674681,
   "end_time": "2021-05-07T18:14:23.291520",
   "environment_variables": {},
   "exception": null,
   "input_path": "ablation_study.ipynb",
   "output_path": "ablation_study.ipynb",
   "parameters": {},
   "start_time": "2021-05-07T18:14:20.616839",
   "version": "2.3.3"
  }
 },
 "nbformat": 4,
 "nbformat_minor": 5
}