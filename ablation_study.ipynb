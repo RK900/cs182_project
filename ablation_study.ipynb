{
 "cells": [
  {
   "cell_type": "code",
   "execution_count": 1,
   "id": "specific-feeling",
   "metadata": {
    "execution": {
     "iopub.execute_input": "2021-05-09T22:08:44.615838Z",
     "iopub.status.busy": "2021-05-09T22:08:44.615218Z",
     "iopub.status.idle": "2021-05-09T22:08:44.840867Z",
     "shell.execute_reply": "2021-05-09T22:08:44.841158Z"
    },
    "papermill": {
     "duration": 0.241717,
     "end_time": "2021-05-09T22:08:44.841352",
     "exception": false,
     "start_time": "2021-05-09T22:08:44.599635",
     "status": "completed"
    },
    "tags": []
   },
   "outputs": [],
   "source": [
    "from ablation import *\n",
    "import hickle\n",
    "import os"
   ]
  },
  {
   "cell_type": "code",
   "execution_count": 2,
   "id": "threaded-projector",
   "metadata": {
    "execution": {
     "iopub.execute_input": "2021-05-09T22:08:44.852711Z",
     "iopub.status.busy": "2021-05-09T22:08:44.852399Z",
     "iopub.status.idle": "2021-05-09T22:08:44.939225Z",
     "shell.execute_reply": "2021-05-09T22:08:44.939601Z"
    },
    "papermill": {
     "duration": 0.095128,
     "end_time": "2021-05-09T22:08:44.939721",
     "exception": false,
     "start_time": "2021-05-09T22:08:44.844593",
     "status": "completed"
    },
    "tags": []
   },
   "outputs": [
    {
     "name": "stdout",
     "output_type": "stream",
     "text": [
      "({'balanced_categories': False, 'max_training_samples': 200000, 'enable_orig': 'orig', 'enable_aug': False, 'enable_aug3': True, 'sentence_pairs': True, 'regressive_style_finetuning': False, 'lstm_bidi': False, 'lstm_hidden_size': 64, 'epochs': 20}, 0.794921875)\n",
      "({'balanced_categories': False, 'max_training_samples': 200000, 'enable_orig': 'preprocess', 'enable_aug': False, 'enable_aug3': True, 'sentence_pairs': True, 'regressive_style_finetuning': False, 'lstm_bidi': False, 'lstm_hidden_size': 64, 'epochs': 20}, 0.787109375)\n",
      "{'balanced_categories': False, 'max_training_samples': 200000, 'enable_orig': 'orig', 'enable_aug': False, 'enable_aug3': True, 'sentence_pairs': True, 'regressive_style_finetuning': False, 'lstm_bidi': False, 'lstm_hidden_size': 64, 'epochs': 20}\n",
      "0.794921875\n"
     ]
    }
   ],
   "source": [
    "best_accuracy_so_far = 0\n",
    "best_accuracy_params = None\n",
    "\n",
    "def get_best_matrix(cur_matrix, cur_params):\n",
    "  global best_accuracy_so_far\n",
    "  global best_accuracy_params\n",
    "  if len(cur_matrix) == 0:\n",
    "    run_id = get_id(cur_params)\n",
    "    out_path = f\"completed-experiments/{run_id}\"\n",
    "    if os.path.exists(f\"{out_path}/main-accuracies.hkl\"):\n",
    "        train_accuracy, valid_accuracy = hickle.load(f\"{out_path}/main-accuracies.hkl\")\n",
    "        print((cur_params, valid_accuracy[-1]))\n",
    "        if valid_accuracy[-1] > best_accuracy_so_far:\n",
    "            best_accuracy_so_far = valid_accuracy[-1]\n",
    "            best_accuracy_params = cur_params\n",
    "  else:\n",
    "    key, options = cur_matrix[0]\n",
    "    for option in options:\n",
    "      new_params = cur_params.copy()\n",
    "      new_params[key] = option\n",
    "      get_best_matrix(cur_matrix[1:], new_params)\n",
    "\n",
    "get_best_matrix(matrix, dict())\n",
    "\n",
    "print(best_accuracy_params)\n",
    "print(best_accuracy_so_far)"
   ]
  },
  {
   "cell_type": "code",
   "execution_count": 3,
   "id": "fourth-fluid",
   "metadata": {
    "execution": {
     "iopub.execute_input": "2021-05-09T22:08:44.953132Z",
     "iopub.status.busy": "2021-05-09T22:08:44.952599Z",
     "iopub.status.idle": "2021-05-09T22:08:45.292163Z",
     "shell.execute_reply": "2021-05-09T22:08:45.292693Z"
    },
    "papermill": {
     "duration": 0.347868,
     "end_time": "2021-05-09T22:08:45.292910",
     "exception": false,
     "start_time": "2021-05-09T22:08:44.945042",
     "status": "completed"
    },
    "tags": []
   },
   "outputs": [],
   "source": [
    "from distutils.dir_util import copy_tree\n",
    "\n",
    "best_id = get_id(best_accuracy_params)\n",
    "copy_tree(f\"completed-experiments/{best_id}\", \".\")\n",
    "\n",
    "import json\n",
    "with open('model-config.json', 'w') as f:\n",
    "    json.dump(best_accuracy_params, f)"
   ]
  },
  {
   "cell_type": "code",
   "execution_count": 4,
   "id": "russian-alloy",
   "metadata": {
    "execution": {
     "iopub.execute_input": "2021-05-09T22:08:45.309179Z",
     "iopub.status.busy": "2021-05-09T22:08:45.308562Z",
     "iopub.status.idle": "2021-05-09T22:08:45.310632Z",
     "shell.execute_reply": "2021-05-09T22:08:45.310039Z"
    },
    "papermill": {
     "duration": 0.010712,
     "end_time": "2021-05-09T22:08:45.310747",
     "exception": false,
     "start_time": "2021-05-09T22:08:45.300035",
     "status": "completed"
    },
    "tags": []
   },
   "outputs": [],
   "source": [
    "ablation_param = \"enable_orig\""
   ]
  },
  {
   "cell_type": "code",
   "execution_count": 5,
   "id": "everyday-median",
   "metadata": {
    "execution": {
     "iopub.execute_input": "2021-05-09T22:08:45.328997Z",
     "iopub.status.busy": "2021-05-09T22:08:45.328393Z",
     "iopub.status.idle": "2021-05-09T22:08:45.632610Z",
     "shell.execute_reply": "2021-05-09T22:08:45.633107Z"
    },
    "papermill": {
     "duration": 0.316194,
     "end_time": "2021-05-09T22:08:45.633245",
     "exception": false,
     "start_time": "2021-05-09T22:08:45.317051",
     "status": "completed"
    },
    "tags": []
   },
   "outputs": [
    {
     "data": {
      "text/plain": [
       "<matplotlib.legend.Legend at 0x7f115c325150>"
      ]
     },
     "execution_count": 5,
     "metadata": {},
     "output_type": "execute_result"
    },
    {
     "data": {
      "image/png": "[encoded data removed]",
      "text/plain": [
       "<Figure size 432x288 with 1 Axes>"
      ]
     },
     "metadata": {
      "needs_background": "light"
     },
     "output_type": "display_data"
    }
   ],
   "source": [
    "import matplotlib.pyplot as plt\n",
    "\n",
    "ablation_options = None\n",
    "for key, options in matrix:\n",
    "    if key == ablation_param:\n",
    "        ablation_options = options\n",
    "\n",
    "for option in ablation_options:\n",
    "    tweaked_dict = best_accuracy_params.copy()\n",
    "    tweaked_dict[ablation_param] = option\n",
    "    \n",
    "    run_id = get_id(tweaked_dict)\n",
    "    out_path = f\"completed-experiments/{run_id}\"\n",
    "    if os.path.exists(f\"{out_path}/main-accuracies.hkl\"):\n",
    "        train_accuracy, valid_accuracy = hickle.load(f\"{out_path}/main-accuracies.hkl\")\n",
    "        plt.plot(list(map(lambda x: x * 100, range(len(valid_accuracy)))), valid_accuracy, label = str(option))\n",
    "plt.xlabel(\"Iteration\")\n",
    "plt.ylabel(\"Validation Accuracy\")\n",
    "plt.legend()"
   ]
  }
 ],
 "metadata": {
  "kernelspec": {
   "display_name": "Python 3",
   "language": "python",
   "name": "python3"
  },
  "language_info": {
   "codemirror_mode": {
    "name": "ipython",
    "version": 3
   },
   "file_extension": ".py",
   "mimetype": "text/x-python",
   "name": "python",
   "nbconvert_exporter": "python",
   "pygments_lexer": "ipython3",
   "version": "3.7.10"
  },
  "papermill": {
   "default_parameters": {},
   "duration": 3.194659,
   "end_time": "2021-05-09T22:08:46.831785",
   "environment_variables": {},
   "exception": null,
   "input_path": "ablation_study.ipynb",
   "output_path": "ablation_study.ipynb",
   "parameters": {},
   "start_time": "2021-05-09T22:08:43.637126",
   "version": "2.3.3"
  }
 },
 "nbformat": 4,
 "nbformat_minor": 5
}
