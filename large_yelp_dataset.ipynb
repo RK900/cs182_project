{
 "cells": [
  {
   "cell_type": "code",
   "execution_count": 55,
   "id": "ff8cfbde-8524-4ef6-803a-77fa5b5204bd",
   "metadata": {},
   "outputs": [],
   "source": [
    "import sys, os, json\n",
    "\n",
    "from tqdm import tqdm\n",
    "import json"
   ]
  },
  {
   "cell_type": "code",
   "execution_count": 23,
   "id": "1b308200-fb25-4ac1-b2cf-db822bf660ce",
   "metadata": {},
   "outputs": [],
   "source": [
    "root_folder = \".\"\n",
    "data_path = os.path.join(root_folder, \"yelp_dataset/yelp_academic_dataset_review.json\")\n",
    "orig_data_path = os.path.join(root_folder, \"yelp_review_training_dataset.jsonl\")"
   ]
  },
  {
   "cell_type": "code",
   "execution_count": 18,
   "id": "f74e7be5-e7be-42c6-89d3-d9bdec3f397f",
   "metadata": {},
   "outputs": [],
   "source": [
    "from data_parsing import load_dataset"
   ]
  },
  {
   "cell_type": "code",
   "execution_count": 19,
   "id": "3c75fb48-835d-48be-96d9-eb7500d2b9c9",
   "metadata": {},
   "outputs": [
    {
     "ename": "KeyError",
     "evalue": "'text'",
     "output_type": "error",
     "traceback": [
      "\u001b[0;31m---------------------------------------------------------------------------\u001b[0m",
      "\u001b[0;31mKeyError\u001b[0m                                  Traceback (most recent call last)",
      "\u001b[0;32m<ipython-input-19-4ae413cf14c2>\u001b[0m in \u001b[0;36m<module>\u001b[0;34m\u001b[0m\n\u001b[0;32m----> 1\u001b[0;31m \u001b[0mdata2\u001b[0m \u001b[0;34m=\u001b[0m \u001b[0mload_dataset\u001b[0m\u001b[0;34m(\u001b[0m\u001b[0mdata_path\u001b[0m\u001b[0;34m)\u001b[0m\u001b[0;34m\u001b[0m\u001b[0;34m\u001b[0m\u001b[0m\n\u001b[0m",
      "\u001b[0;32m~/courses/cs182/project/data_parsing.py\u001b[0m in \u001b[0;36mload_dataset\u001b[0;34m(file)\u001b[0m\n\u001b[1;32m      8\u001b[0m     \u001b[0;32mfor\u001b[0m \u001b[0mline\u001b[0m \u001b[0;32min\u001b[0m \u001b[0mfile\u001b[0m\u001b[0;34m.\u001b[0m\u001b[0mreadlines\u001b[0m\u001b[0;34m(\u001b[0m\u001b[0;34m)\u001b[0m\u001b[0;34m:\u001b[0m\u001b[0;34m\u001b[0m\u001b[0;34m\u001b[0m\u001b[0m\n\u001b[1;32m      9\u001b[0m       \u001b[0mparsed_line\u001b[0m \u001b[0;34m=\u001b[0m \u001b[0mjson\u001b[0m\u001b[0;34m.\u001b[0m\u001b[0mloads\u001b[0m\u001b[0;34m(\u001b[0m\u001b[0mline\u001b[0m\u001b[0;34m)\u001b[0m\u001b[0;34m\u001b[0m\u001b[0;34m\u001b[0m\u001b[0m\n\u001b[0;32m---> 10\u001b[0;31m       \u001b[0mout\u001b[0m\u001b[0;34m.\u001b[0m\u001b[0mappend\u001b[0m\u001b[0;34m(\u001b[0m\u001b[0;34m(\u001b[0m\u001b[0mparsed_line\u001b[0m\u001b[0;34m[\u001b[0m\u001b[0;34m\"text\"\u001b[0m\u001b[0;34m]\u001b[0m\u001b[0;34m,\u001b[0m \u001b[0mparsed_line\u001b[0m\u001b[0;34m[\u001b[0m\u001b[0;34m\"stars\"\u001b[0m\u001b[0;34m]\u001b[0m\u001b[0;34m)\u001b[0m\u001b[0;34m)\u001b[0m\u001b[0;34m\u001b[0m\u001b[0;34m\u001b[0m\u001b[0m\n\u001b[0m\u001b[1;32m     11\u001b[0m   \u001b[0;32mreturn\u001b[0m \u001b[0mout\u001b[0m\u001b[0;34m\u001b[0m\u001b[0;34m\u001b[0m\u001b[0m\n\u001b[1;32m     12\u001b[0m \u001b[0;34m\u001b[0m\u001b[0m\n",
      "\u001b[0;31mKeyError\u001b[0m: 'text'"
     ]
    }
   ],
   "source": [
    "data2 = load_dataset(data_path)"
   ]
  },
  {
   "cell_type": "code",
   "execution_count": 24,
   "id": "ca939d61-5475-4eb8-83ca-302ba53a6169",
   "metadata": {},
   "outputs": [],
   "source": [
    "orig_data = load_dataset(orig_data_path)"
   ]
  },
  {
   "cell_type": "code",
   "execution_count": 25,
   "id": "656da782-035e-4161-9e0b-7cc853dfc7ba",
   "metadata": {},
   "outputs": [
    {
     "data": {
      "text/plain": [
       "(8635403, 533581)"
      ]
     },
     "execution_count": 25,
     "metadata": {},
     "output_type": "execute_result"
    }
   ],
   "source": [
    "len(data), len(orig_data)"
   ]
  },
  {
   "cell_type": "code",
   "execution_count": 26,
   "id": "1eb671db-bf4b-40fe-b104-b8eeee14323d",
   "metadata": {},
   "outputs": [
    {
     "data": {
      "text/plain": [
       "[(\"Apparently Prides Osteria had a rough summer as evidenced by the almost empty dining room at 6:30 on a Friday night. However new blood in the kitchen seems to have revitalized the food from other customers recent visits. Waitstaff was warm but unobtrusive. By 8 pm or so when we left the bar was full and the dining room was much more lively than it had been. Perhaps Beverly residents prefer a later seating. \\n\\nAfter reading the mixed reviews of late I was a little tentative over our choice but luckily there was nothing to worry about in the food department. We started with the fried dough, burrata and prosciutto which were all lovely. Then although they don't offer half portions of pasta we each ordered the entree size and split them. We chose the tagliatelle bolognese and a four cheese filled pasta in a creamy sauce with bacon, asparagus and grana frita. Both were very good. We split a secondi which was the special Berkshire pork secreto, which was described as a pork skirt steak with garlic potato purée and romanesco broccoli (incorrectly described as a romanesco sauce). Some tables received bread before the meal but for some reason we did not. \\n\\nManagement also seems capable for when the tenants in the apartment above began playing basketball she intervened and also comped the tables a dessert. We ordered the apple dumpling with gelato and it was also quite tasty. Portions are not huge which I particularly like because I prefer to order courses. If you are someone who orders just a meal you may leave hungry depending on you appetite. Dining room was mostly younger crowd while the bar was definitely the over 40 set. Would recommend that the naysayers return to see the improvement although I personally don't know the former glory to be able to compare. Easy access to downtown Salem without the crowds on this month of October.\",\n",
       "  4.0),\n",
       " ('This store is pretty good. Not as great as Walmart (or my preferred, Milford Target), but closer and in a easier area to get to.  \\nThe store itself is pretty clean and organized, the staff are friendly (most of the time), and BEST of all is the Self Checkout this store has! \\nGreat clearance sections throughout, and great prices on everything in the store, in general (they pricematch too!). \\nChristian, Debbie, Jen and Hanna are all very friendly, helpful, sensitive to all customer needs. Definitely one of the better Target locations in the area, and they do a GREAT job assisting customers for being such a busy store. Located directly in the Framingham Mall on Cochituate Rd / Route 30. 4 stars.',\n",
       "  4.0),\n",
       " (\"I called WVM on the recommendation of a couple of friends who had used them in the past and thought they did a nice job. I'm a fan now, too.\\n\\nEvan and Cody showed up right on time for my move this past weekend. They were friendly and energetic, working quickly but carefully to get all my things moved out of the old place and into the new one in less than 2.5 hours. All of my (heavy) furniture arrived in perfect condition, and they took extra care not to scratch the wood floors in the process.\\n\\nI hope not to move again anytime soon, but next time I do, I'll be calling WVM.\",\n",
       "  5.0)]"
      ]
     },
     "execution_count": 26,
     "metadata": {},
     "output_type": "execute_result"
    }
   ],
   "source": [
    "data[0:3]"
   ]
  },
  {
   "cell_type": "code",
   "execution_count": 49,
   "id": "e77f23f7-69c4-493f-ae13-d1f36b78c285",
   "metadata": {},
   "outputs": [],
   "source": [
    "reviews234 = set([i for i in orig_data if i[1] == 2 or i[1] == 3 or i[1] == 4])"
   ]
  },
  {
   "cell_type": "code",
   "execution_count": 50,
   "id": "e55cbe9c-f33b-47d0-81cf-7c655d2706c6",
   "metadata": {},
   "outputs": [
    {
     "data": {
      "text/plain": [
       "142504"
      ]
     },
     "execution_count": 50,
     "metadata": {},
     "output_type": "execute_result"
    }
   ],
   "source": [
    "len(reviews234)"
   ]
  },
  {
   "cell_type": "code",
   "execution_count": 51,
   "id": "cc74cbf3-2d32-4b24-80bb-1220f4997364",
   "metadata": {},
   "outputs": [],
   "source": [
    "more_yelp_data = []"
   ]
  },
  {
   "cell_type": "code",
   "execution_count": 52,
   "id": "ee6899f4-efb7-4b61-a0fd-e23d9576c148",
   "metadata": {},
   "outputs": [
    {
     "name": "stderr",
     "output_type": "stream",
     "text": [
      "100%|██████████| 8635403/8635403 [00:03<00:00, 2169193.88it/s]\n"
     ]
    }
   ],
   "source": [
    "for r in tqdm(data):\n",
    "    if r[0] not in reviews234 and r[1] != 1 and r[1] != 5:\n",
    "        more_yelp_data.append(r)"
   ]
  },
  {
   "cell_type": "code",
   "execution_count": 53,
   "id": "8e8c3533-a2bf-4170-9b01-dd7c25eed3a0",
   "metadata": {},
   "outputs": [
    {
     "data": {
      "text/plain": [
       "3558071"
      ]
     },
     "execution_count": 53,
     "metadata": {},
     "output_type": "execute_result"
    }
   ],
   "source": [
    "len(more_yelp_data)"
   ]
  },
  {
   "cell_type": "code",
   "execution_count": 54,
   "id": "083a0ee8-d8e6-47f6-8653-18b37953f271",
   "metadata": {},
   "outputs": [
    {
     "name": "stderr",
     "output_type": "stream",
     "text": [
      "100%|██████████| 3558071/3558071 [00:01<00:00, 3240080.25it/s]\n"
     ]
    }
   ],
   "source": [
    "for i in tqdm(more_yelp_data):\n",
    "    assert i[1] == 2 or i[1] == 3 or i[1] == 4.0, \"%f\" % i[1]"
   ]
  },
  {
   "cell_type": "code",
   "execution_count": 48,
   "id": "b10df3dd-778a-44b2-bcbb-74a8fa910924",
   "metadata": {},
   "outputs": [
    {
     "data": {
      "text/plain": [
       "True"
      ]
     },
     "execution_count": 48,
     "metadata": {},
     "output_type": "execute_result"
    }
   ],
   "source": [
    "4 == 4.00000000000"
   ]
  },
  {
   "cell_type": "code",
   "execution_count": 57,
   "id": "3afaccce-860e-4bf7-885e-5f5199b5dcca",
   "metadata": {},
   "outputs": [],
   "source": [
    "rs = json.dumps(dict(more_yelp_data))"
   ]
  },
  {
   "cell_type": "code",
   "execution_count": 58,
   "id": "3d75690f-dd64-4b97-aea6-b59a25d09950",
   "metadata": {},
   "outputs": [],
   "source": [
    "with open(os.path.join(root_folder, 'yelp_dataset/more_yelp_234.json'), 'w') as f:\n",
    "  json.dump(rs, f)"
   ]
  },
  {
   "cell_type": "code",
   "execution_count": null,
   "id": "5f96cc69-379f-4d3f-b3f9-fa90055ca8c7",
   "metadata": {},
   "outputs": [],
   "source": []
  }
 ],
 "metadata": {
  "kernelspec": {
   "display_name": "Python 3",
   "language": "python",
   "name": "python3"
  },
  "language_info": {
   "codemirror_mode": {
    "name": "ipython",
    "version": 3
   },
   "file_extension": ".py",
   "mimetype": "text/x-python",
   "name": "python",
   "nbconvert_exporter": "python",
   "pygments_lexer": "ipython3",
   "version": "3.7.10"
  }
 },
 "nbformat": 4,
 "nbformat_minor": 5
}
