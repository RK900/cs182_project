{
 "cells": [
  {
   "cell_type": "code",
   "execution_count": 1,
   "id": "manufactured-chile",
   "metadata": {
    "papermill": {
     "duration": 0.034595,
     "end_time": "2021-05-08T22:19:23.706812",
     "exception": false,
     "start_time": "2021-05-08T22:19:23.672217",
     "status": "completed"
    },
    "tags": []
   },
   "outputs": [],
   "source": [
    "import sys, os, json"
   ]
  },
  {
   "cell_type": "code",
   "execution_count": 2,
   "id": "necessary-commission",
   "metadata": {
    "papermill": {
     "duration": 0.021769,
     "end_time": "2021-05-08T22:19:23.749993",
     "exception": false,
     "start_time": "2021-05-08T22:19:23.728224",
     "status": "completed"
    },
    "tags": []
   },
   "outputs": [],
   "source": [
    "root_folder = \".\"\n",
    "output_dir = os.path.join(root_folder, \"./model_save_gpt_234/\")\n",
    "data_path = os.path.join(root_folder, \"yelp_review_training_dataset.jsonl\")"
   ]
  },
  {
   "cell_type": "code",
   "execution_count": 3,
   "id": "popular-trial",
   "metadata": {
    "papermill": {
     "duration": 0.014911,
     "end_time": "2021-05-08T22:19:23.775199",
     "exception": false,
     "start_time": "2021-05-08T22:19:23.760288",
     "status": "completed"
    },
    "tags": []
   },
   "outputs": [],
   "source": [
    "sys.path.append(root_folder)"
   ]
  },
  {
   "cell_type": "markdown",
   "id": "fifth-average",
   "metadata": {
    "papermill": {
     "duration": 0.010405,
     "end_time": "2021-05-08T22:19:23.796096",
     "exception": false,
     "start_time": "2021-05-08T22:19:23.785691",
     "status": "completed"
    },
    "tags": []
   },
   "source": [
    "# Load Finetuned GPT-2 Model"
   ]
  },
  {
   "cell_type": "code",
   "execution_count": 4,
   "id": "threaded-packet",
   "metadata": {
    "papermill": {
     "duration": 0.57018,
     "end_time": "2021-05-08T22:19:24.376786",
     "exception": false,
     "start_time": "2021-05-08T22:19:23.806606",
     "status": "completed"
    },
    "tags": []
   },
   "outputs": [],
   "source": [
    "import torch\n",
    "from torch.utils.data import Dataset, DataLoader, random_split, RandomSampler, SequentialSampler\n",
    "\n",
    "from transformers import GPT2LMHeadModel,  GPT2Tokenizer, GPT2Config, GPT2LMHeadModel\n",
    "from transformers import AdamW, get_linear_schedule_with_warmup\n",
    "\n",
    "from tqdm import tqdm\n",
    "import pandas as pd"
   ]
  },
  {
   "cell_type": "code",
   "execution_count": 5,
   "id": "collective-characterization",
   "metadata": {
    "papermill": {
     "duration": 2.985249,
     "end_time": "2021-05-08T22:19:27.372578",
     "exception": false,
     "start_time": "2021-05-08T22:19:24.387329",
     "status": "completed"
    },
    "tags": []
   },
   "outputs": [],
   "source": [
    "config = GPT2Config.from_pretrained(output_dir)\n",
    "model = GPT2LMHeadModel.from_pretrained(output_dir)\n",
    "tokenizer = GPT2Tokenizer.from_pretrained(output_dir)"
   ]
  },
  {
   "cell_type": "code",
   "execution_count": 6,
   "id": "asian-harvey",
   "metadata": {
    "papermill": {
     "duration": 1.918228,
     "end_time": "2021-05-08T22:19:29.301911",
     "exception": false,
     "start_time": "2021-05-08T22:19:27.383683",
     "status": "completed"
    },
    "tags": []
   },
   "outputs": [
    {
     "name": "stdout",
     "output_type": "stream",
     "text": [
      "cuda\n"
     ]
    }
   ],
   "source": [
    "if torch.cuda.is_available():\n",
    "  device = \"cuda\"\n",
    "  model.cuda()\n",
    "else:\n",
    "  device = \"cpu\"\n",
    "model.to(device)\n",
    "print(device)"
   ]
  },
  {
   "cell_type": "markdown",
   "id": "individual-stupid",
   "metadata": {
    "papermill": {
     "duration": 0.022792,
     "end_time": "2021-05-08T22:19:29.348641",
     "exception": false,
     "start_time": "2021-05-08T22:19:29.325849",
     "status": "completed"
    },
    "tags": []
   },
   "source": [
    "# Do a sample review generation"
   ]
  },
  {
   "cell_type": "code",
   "execution_count": 22,
   "id": "brazilian-sessions",
   "metadata": {
    "papermill": {
     "duration": 0.014678,
     "end_time": "2021-05-08T22:19:29.378052",
     "exception": false,
     "start_time": "2021-05-08T22:19:29.363374",
     "status": "completed"
    },
    "scrolled": true,
    "tags": []
   },
   "outputs": [
    {
     "ename": "NameError",
     "evalue": "name 'encoded_inputs' is not defined",
     "output_type": "error",
     "traceback": [
      "\u001b[0;31m---------------------------------------------------------------------------\u001b[0m",
      "\u001b[0;31mNameError\u001b[0m                                 Traceback (most recent call last)",
      "\u001b[0;32m<ipython-input-22-e8b240074617>\u001b[0m in \u001b[0;36m<module>\u001b[0;34m\u001b[0m\n\u001b[1;32m      4\u001b[0m \u001b[0;34m\u001b[0m\u001b[0m\n\u001b[1;32m      5\u001b[0m \u001b[0mgenerated\u001b[0m \u001b[0;34m=\u001b[0m \u001b[0mtorch\u001b[0m\u001b[0;34m.\u001b[0m\u001b[0mtensor\u001b[0m\u001b[0;34m(\u001b[0m\u001b[0mtokenizer\u001b[0m\u001b[0;34m.\u001b[0m\u001b[0mencode\u001b[0m\u001b[0;34m(\u001b[0m\u001b[0mprompt\u001b[0m\u001b[0;34m)\u001b[0m\u001b[0;34m)\u001b[0m\u001b[0;34m.\u001b[0m\u001b[0munsqueeze\u001b[0m\u001b[0;34m(\u001b[0m\u001b[0;36m0\u001b[0m\u001b[0;34m)\u001b[0m\u001b[0;34m\u001b[0m\u001b[0;34m\u001b[0m\u001b[0m\n\u001b[0;32m----> 6\u001b[0;31m \u001b[0mgenerated\u001b[0m \u001b[0;34m=\u001b[0m \u001b[0mencoded_inputs\u001b[0m\u001b[0;34m[\u001b[0m\u001b[0;34m'input_ids'\u001b[0m\u001b[0;34m]\u001b[0m\u001b[0;34m\u001b[0m\u001b[0;34m\u001b[0m\u001b[0m\n\u001b[0m\u001b[1;32m      7\u001b[0m \u001b[0mmask\u001b[0m \u001b[0;34m=\u001b[0m \u001b[0mencoded_inputs\u001b[0m\u001b[0;34m[\u001b[0m\u001b[0;34m'attention_mask'\u001b[0m\u001b[0;34m]\u001b[0m\u001b[0;34m.\u001b[0m\u001b[0mto\u001b[0m\u001b[0;34m(\u001b[0m\u001b[0mdevice\u001b[0m\u001b[0;34m)\u001b[0m\u001b[0;34m\u001b[0m\u001b[0;34m\u001b[0m\u001b[0m\n\u001b[1;32m      8\u001b[0m \u001b[0mgenerated\u001b[0m \u001b[0;34m=\u001b[0m \u001b[0mgenerated\u001b[0m\u001b[0;34m.\u001b[0m\u001b[0mto\u001b[0m\u001b[0;34m(\u001b[0m\u001b[0mdevice\u001b[0m\u001b[0;34m)\u001b[0m\u001b[0;34m\u001b[0m\u001b[0;34m\u001b[0m\u001b[0m\n",
      "\u001b[0;31mNameError\u001b[0m: name 'encoded_inputs' is not defined"
     ]
    }
   ],
   "source": [
    "model.eval()\n",
    "\n",
    "prompt = \"<|startoftext|> This place was\"\n",
    "\n",
    "generated = torch.tensor(tokenizer.encode(prompt)).unsqueeze(0)\n",
    "generated = encoded_inputs['input_ids']\n",
    "mask = encoded_inputs['attention_mask'].to(device)\n",
    "generated = generated.to(device)\n",
    "model = model.to(device)\n",
    "\n",
    "print(generated)\n",
    "\n",
    "sample_outputs = model.generate(\n",
    "                                generated, \n",
    "                                #bos_token_id=random.randint(1,30000),\n",
    "                                do_sample=True,   \n",
    "                                top_k=50, \n",
    "                                max_length = 300,\n",
    "                                top_p=0.95, \n",
    "                                num_return_sequences=2,\n",
    "                                attention_mask=mask\n",
    "                                )\n",
    "\n",
    "for i, sample_output in enumerate(sample_outputs):\n",
    "  print(\"{}: {}\\n\\n\".format(i, tokenizer.decode(sample_output, skip_special_tokens=True)))"
   ]
  },
  {
   "cell_type": "code",
   "execution_count": 7,
   "id": "chubby-press",
   "metadata": {
    "papermill": {
     "duration": 0.015235,
     "end_time": "2021-05-08T22:19:29.404299",
     "exception": false,
     "start_time": "2021-05-08T22:19:29.389064",
     "status": "completed"
    },
    "tags": []
   },
   "outputs": [],
   "source": [
    "from data_parsing import load_dataset"
   ]
  },
  {
   "cell_type": "code",
   "execution_count": 8,
   "id": "mounted-whale",
   "metadata": {
    "papermill": {
     "duration": 2.567919,
     "end_time": "2021-05-08T22:19:31.983299",
     "exception": false,
     "start_time": "2021-05-08T22:19:29.415380",
     "status": "completed"
    },
    "tags": []
   },
   "outputs": [],
   "source": [
    "data = load_dataset(data_path)"
   ]
  },
  {
   "cell_type": "code",
   "execution_count": 9,
   "id": "mechanical-graham",
   "metadata": {
    "papermill": {
     "duration": 0.102989,
     "end_time": "2021-05-08T22:19:32.104453",
     "exception": false,
     "start_time": "2021-05-08T22:19:32.001464",
     "status": "completed"
    },
    "tags": []
   },
   "outputs": [],
   "source": [
    "reviews234 = [i for i in data if i[1] == 2 or i[1] == 3 or i[1] == 4]"
   ]
  },
  {
   "cell_type": "code",
   "execution_count": 10,
   "id": "hidden-doctrine",
   "metadata": {
    "papermill": {
     "duration": 0.029163,
     "end_time": "2021-05-08T22:19:32.156301",
     "exception": false,
     "start_time": "2021-05-08T22:19:32.127138",
     "status": "completed"
    },
    "tags": []
   },
   "outputs": [
    {
     "data": {
      "text/plain": [
       "142543"
      ]
     },
     "execution_count": 10,
     "metadata": {},
     "output_type": "execute_result"
    }
   ],
   "source": [
    "len(reviews234)"
   ]
  },
  {
   "cell_type": "code",
   "execution_count": 11,
   "id": "swedish-venice",
   "metadata": {
    "papermill": {
     "duration": 0.016968,
     "end_time": "2021-05-08T22:19:32.191491",
     "exception": false,
     "start_time": "2021-05-08T22:19:32.174523",
     "status": "completed"
    },
    "tags": []
   },
   "outputs": [],
   "source": [
    "data_dir = os.path.join(root_folder, \"yelp_review_val_dataset_234.csv\")"
   ]
  },
  {
   "cell_type": "code",
   "execution_count": 12,
   "id": "bibliographic-update",
   "metadata": {
    "papermill": {
     "duration": 0.170791,
     "end_time": "2021-05-08T22:19:32.373706",
     "exception": false,
     "start_time": "2021-05-08T22:19:32.202915",
     "status": "completed"
    },
    "tags": []
   },
   "outputs": [
    {
     "name": "stdout",
     "output_type": "stream",
     "text": [
      "                                                    text\n",
      "0      Visited this place for the second time when I ...\n",
      "1      We went here many times over the past few days...\n",
      "2      1.5 stars. This location has been a revolving ...\n",
      "3      After trying many of the dispensaries througho...\n",
      "4      Hard to figure out how to get a table, but the...\n",
      "...                                                  ...\n",
      "28504  I have only tried the italian beef. Outstandin...\n",
      "28505  I have had these pop ups since 2008 - they do ...\n",
      "28506  Came here for lunch and ordered fish. Service ...\n",
      "28507  Forces new patients to give a credit card # or...\n",
      "28508  First of all, they are supposed to open at 9:0...\n",
      "\n",
      "[28509 rows x 1 columns]\n"
     ]
    }
   ],
   "source": [
    "df = pd.read_csv(data_dir, error_bad_lines=False, sep='\\t', header='infer', lineterminator='\\n')  \n",
    "print(df)"
   ]
  },
  {
   "cell_type": "code",
   "execution_count": 13,
   "id": "stock-arrest",
   "metadata": {
    "papermill": {
     "duration": 0.015556,
     "end_time": "2021-05-08T22:19:32.401160",
     "exception": false,
     "start_time": "2021-05-08T22:19:32.385604",
     "status": "completed"
    },
    "tags": []
   },
   "outputs": [],
   "source": [
    "labels_dir = os.path.join(root_folder, \"yelp_review_val_dataset_234_labels.csv\")"
   ]
  },
  {
   "cell_type": "code",
   "execution_count": 14,
   "id": "rising-signature",
   "metadata": {
    "papermill": {
     "duration": 0.022267,
     "end_time": "2021-05-08T22:19:32.435464",
     "exception": false,
     "start_time": "2021-05-08T22:19:32.413197",
     "status": "completed"
    },
    "tags": []
   },
   "outputs": [
    {
     "name": "stdout",
     "output_type": "stream",
     "text": [
      "       text\n",
      "0       4.0\n",
      "1       3.0\n",
      "2       2.0\n",
      "3       3.0\n",
      "4       4.0\n",
      "...     ...\n",
      "28504   4.0\n",
      "28505   2.0\n",
      "28506   3.0\n",
      "28507   2.0\n",
      "28508   2.0\n",
      "\n",
      "[28509 rows x 1 columns]\n"
     ]
    }
   ],
   "source": [
    "labels_df = pd.read_csv(labels_dir, error_bad_lines=False, sep='\\t', header='infer', lineterminator='\\n')  \n",
    "print(labels_df)"
   ]
  },
  {
   "cell_type": "code",
   "execution_count": 15,
   "id": "advanced-necklace",
   "metadata": {
    "papermill": {
     "duration": 0.021567,
     "end_time": "2021-05-08T22:19:32.469121",
     "exception": false,
     "start_time": "2021-05-08T22:19:32.447554",
     "status": "completed"
    },
    "tags": []
   },
   "outputs": [],
   "source": [
    "labels234 = list(labels_df.text)"
   ]
  },
  {
   "cell_type": "code",
   "execution_count": 16,
   "id": "educational-prescription",
   "metadata": {
    "papermill": {
     "duration": 0.02439,
     "end_time": "2021-05-08T22:19:32.505731",
     "exception": false,
     "start_time": "2021-05-08T22:19:32.481341",
     "status": "completed"
    },
    "tags": []
   },
   "outputs": [],
   "source": [
    "reviews234 = list(df.text)"
   ]
  },
  {
   "cell_type": "code",
   "execution_count": 17,
   "id": "knowing-lancaster",
   "metadata": {
    "papermill": {
     "duration": 0.017945,
     "end_time": "2021-05-08T22:19:32.535859",
     "exception": false,
     "start_time": "2021-05-08T22:19:32.517914",
     "status": "completed"
    },
    "tags": []
   },
   "outputs": [
    {
     "data": {
      "text/plain": [
       "(28509, 28509)"
      ]
     },
     "execution_count": 17,
     "metadata": {},
     "output_type": "execute_result"
    }
   ],
   "source": [
    "len(reviews234), len(labels234)"
   ]
  },
  {
   "cell_type": "code",
   "execution_count": 18,
   "id": "compatible-sound",
   "metadata": {
    "papermill": {
     "duration": 0.017781,
     "end_time": "2021-05-08T22:19:32.566210",
     "exception": false,
     "start_time": "2021-05-08T22:19:32.548429",
     "status": "completed"
    },
    "scrolled": true,
    "tags": []
   },
   "outputs": [
    {
     "data": {
      "text/plain": [
       "'Visited this place for the second time when I was in Montreal in August. I went for the first time in October after hearing marvelous things about the charcuterie (I was on a charcuterie kick at the time). My friend, Jason and I split the charcuterie plate with foie gras as well as a cheese plate (large portions--we had left overs). We both loved it! This time when I came, I got the charcuterie plate and a cronut (caramel). The charcuterie plate had changed a bit-- a couple items were replaced with new things. There was one \"deli\" style meat that I was not a fan of. Other than that I loved everything! There was a new ginger bread that they served with the foie grad that I was obsessed with. The combination was perfect! I also thoroughly enjoyed my cronut. They were a trend in the states for a bit, but sort of died out, so when I saw them on the menu, I knew I had to get one. It did not disappoint. The one negative thing I have to say is that the service did not seem to be super great/consistent. My service personally was fine, but there were people who came in after me and were made to wait before even being greeted by a hostess (they stood awkwardly in the doorway for 10 minutes with only 5-6 of the tables in the restaurant being occupied). The restaurant itself is cute and quaint and I\\'ll definitely be back for my charcuterie next time I\\'m in town!'"
      ]
     },
     "execution_count": 18,
     "metadata": {},
     "output_type": "execute_result"
    }
   ],
   "source": [
    "reviews234[0]"
   ]
  },
  {
   "cell_type": "code",
   "execution_count": 19,
   "id": "virgin-combining",
   "metadata": {
    "papermill": {
     "duration": 0.018104,
     "end_time": "2021-05-08T22:19:32.597188",
     "exception": false,
     "start_time": "2021-05-08T22:19:32.579084",
     "status": "completed"
    },
    "tags": []
   },
   "outputs": [
    {
     "data": {
      "text/plain": [
       "4.0"
      ]
     },
     "execution_count": 19,
     "metadata": {},
     "output_type": "execute_result"
    }
   ],
   "source": [
    "labels234[0]"
   ]
  },
  {
   "cell_type": "markdown",
   "id": "unlike-attachment",
   "metadata": {
    "papermill": {
     "duration": 0.012949,
     "end_time": "2021-05-08T22:19:32.623180",
     "exception": false,
     "start_time": "2021-05-08T22:19:32.610231",
     "status": "completed"
    },
    "tags": []
   },
   "source": [
    "# Create data for N number of samples"
   ]
  },
  {
   "cell_type": "code",
   "execution_count": 47,
   "id": "governmental-intelligence",
   "metadata": {
    "papermill": {
     "duration": 0.017682,
     "end_time": "2021-05-08T22:19:32.653934",
     "exception": false,
     "start_time": "2021-05-08T22:19:32.636252",
     "status": "completed"
    },
    "tags": []
   },
   "outputs": [],
   "source": [
    "new_data = []\n",
    "num_to_generate = 2\n",
    "batch_size = 8"
   ]
  },
  {
   "cell_type": "code",
   "execution_count": 46,
   "id": "antique-worst",
   "metadata": {
    "papermill": {
     "duration": null,
     "end_time": null,
     "exception": false,
     "start_time": "2021-05-08T22:19:32.667126",
     "status": "running"
    },
    "tags": []
   },
   "outputs": [
    {
     "name": "stderr",
     "output_type": "stream",
     "text": [
      "  0%|          | 0/1 [00:00<?, ?it/s]Setting `pad_token_id` to `eos_token_id`:50256 for open-end generation.\n"
     ]
    },
    {
     "name": "stdout",
     "output_type": "stream",
     "text": [
      "torch.Size([8, 621])\n"
     ]
    },
    {
     "name": "stderr",
     "output_type": "stream",
     "text": [
      "100%|██████████| 1/1 [00:06<00:00,  6.92s/it]"
     ]
    },
    {
     "name": "stdout",
     "output_type": "stream",
     "text": [
      "16\n",
      "Visited this place for the second time when I was in Montreal in August. The place is pretty quiet, but very clean. We ordered the chicken quiche, beef short rib, veal chicken and sausage on the side. The fries were good, the sausages were nothing special, but I liked the chicken short rib. They don't charge you for a meat bar.\n",
      "\n",
      "\n",
      "Visited this place for the second time when I was in Montreal in August 2015. The place is great; very modern. I bought a number of items and was completely satisfied with the food and service. My boyfriend had his favourite grilled fish which was great. He had to ask for the fish and get it done quickly. I would highly recommend this place. The prices are reasonable for what you pay. The staff is very friendly and polite. When we had our meal (with a couple of special order items), I was very happy that they were willing to do something about it.\n",
      "\n",
      "\n",
      "We went here many times over the past few days and spent $$$. A lot. It's on the top of my favorite taco night ever. The burrito section has many things to do. One of the best things for the money. The portions are large and the salsa section was good. The portions also are cheap. The price is pretty good too. They sell some nice tacos. It's the best tacos you will find in Vegas.\n",
      "\n",
      "\n",
      "We went here many times over the past few days and spent $$$.  It's a little too much for someone who is usually very quick, but really good.  My friend had a \"laundry\" of clothes for a friend's mom and was very happy with her clothes!  My friends was also very pleased with their dresses.  I think they have a great selection of cute dresses too! I'm happy to say I have to wait almost as long as they do other guys to find them.  But really what I don't like is when I see things that look like they are coming from a new designer or something they did before!  It was a little uncomfortable for me.  There was a large amount of plastic to the sides so I had to wipe down the wash cloth so it was clear what was going on.  The guy working did a decent job of picking out the dresses and making sure they were actually good enough for my clothes.  The only thing I didn't like were when he dropped out of his chair he didn't have a towel around his face.  I do like that when he comes out, there are a lot of towels to go around but at least they have towels that do not come out of a bathroom.  It can't be helped that the employees are friendly when they see me standing there waiting!  There are a ton of guys working that are very nice, and it was very well kept!\n",
      "\n",
      "\n",
      "1.5 stars. This location has been a revolving door of failed restaurants since the original opening. Over the past couple years or so they have had to move more than one restaurant into the location. One restaurant has recently undergone a major renovation or remodel. The problem is, we found ourselves at one of those restaurants on a Friday evening during the night. This is not the case when it comes to the food. Our waiter was on a late night shift and was looking at two menus and we were still waiting to finish one of the two. The waiter made a big mistake by saying \"We have one item on sale and he can order two for you\" and \"You can't order two\". We waited for him to finish our salad, our dessert, and our pizza to which the menu asked him for a few more. In return, we received a receipt that stated that the pizza \"was not made\".  He would not ask for a coupon but instead \"I didn't pay for it\". We left and walked to the other restaurant after finding another place. They were busy at the beginning, but the food quickly came back to us, even though it was still waiting to be ready. We called the restaurant and spoke with one of the staff who came by with a gift card and gave us a tip. When we checked in for the food, the owner took us to this restaurant with our order. In the end, he waited for us to finish our salad and dessert. I\n",
      "\n",
      "\n",
      "1.5 stars. This location has been a revolving door of failed restaurants/shops in the neighborhood. The food has always been excellent, the service a little slow. But the portions are huge (you're likely to get two pieces at the same time), the prices seem fair and the atmosphere is well designed.\n",
      "\n",
      "\n",
      "After trying many of the dispensaries throughout the greater Las Vegas area, I can vouch for this place.  Its in the Southwestern corner of the casino.  They have a few small shops on the upper floor with a nice selection of stuff for any reason.  Some are really cool, some are not, and some just a bunch of random things at random.  The cashier who works there is always nice and helpful, but they know how to sell it to you.  I guess I've been told it's not very valuable.  They seem to do a great job selling things for $2.99, which is a decent deal for me.  I got a few of the weed I needed for a family of 4 for $7.95 (which I've found to be a great price) and was pleasantly surprised at the price and quality.  I will definitely shop there again!\n",
      "\n",
      "\n",
      "After trying many of the dispensaries throughout the greater Las Vegas area, I can honestly say that this is the one area I've really enjoyed most. It's close to my house but, they have all of their items out there from small to big. They have great selection and even some of the larger brands you may have to trek down the street as they're all in a different store at the same time. They carry a plethora of different brands of clothing and accessories and even carry some of the brands from my friends' collection. I've been to their location several times and all of them are awesome!\n",
      "\n",
      "\n",
      "Hard to figure out how to get a table, but their system seems to work just fine.  We had a 3 bedroom with 2 bathtubs so we went with the 5 year old who was sitting out the door.  The food service was awesome.  The only problem we had was that they didn't have our names in the system (although a good sign) and our bill came with one card.  When they finally did check in we were charged the full amount.  We are so grateful for their prompt service and they make sure you have ample opportunity to talk to the manager.\n",
      "\n",
      "\n",
      "Hard to figure out how to get a table, but their system seems to work well and I can't seem to get the waiter help when I ask. The manager has always been very helpful and very nice. We just wanted to find another one that would be better but they didn't disappoint.\n",
      "\n",
      "\n",
      "Yes I'm a fan of their steamed rice rolls in pork and beef dishes, so I love their \"meatless wings\" which are great, but not necessarily a fancy \"bakery\".  Their soup is also good, and their desserts are delicious.The reason I gave 2 stars instead of 5 is because my family eats at the Thai restaurant, so there's no way I'd choose them over the famous Thai ones.I did try their  beef-patties and had to ask the chef how he got the wings.  Not my first choice.  This was the first time I was there for a Thai place (not Thai restaurant), so I had to be patient.  But I definitely would return to try them at another Thai place.\n",
      "\n",
      "\n",
      "Yes I'm a fan of their steamed rice rolls in pork and beef, and I've always loved their baked potato pancakes.  They also have a whole wheat tortilla with a side of mac and cheese and a side of cheese bowl.  I ordered from a different location and got the sweet, savory, sweet potato pancakes, so my first impression was a mixed bag.  I ended up getting a sweet potato pancake.  My second impression is that it was a good deal, $35. The cakes are all in their pre-owned shape which is good if you go back a month or so.\n",
      "\n",
      "\n",
      "Great southern food in Charlotte. Staff is great and food is just what you expect in Charlotte. Everything here is just OK. Will go back to try them again.\n",
      "\n",
      "\n",
      "Great southern food in Charlotte. Staff is great and food is just what you get.  Very friendly and quick.\n",
      "\n",
      "\n",
      "Just adopted a second pup from Halo a few weeks ago...a golden retinue! We have a cute puppy that loves to play with his big kiddos and has a wide variety of toys. We love them so much they gave us a puppy that loves to sniff out and use his ears. They do have some toys, so that was very helpful. A great resource in getting more information on our puppy and our home.\n",
      "\n",
      "\n",
      "Just adopted a second pup from Halo a few weeks ago...a golden reticue. They did have a couple of issues with communication and when they finally called and got our message back, they were completely unhelpful. We came back a few months later to try out more things and found that the dogs that come with the dog are more friendly than they should be. They seem to be more at home with their dogs and have the ability to communicate well if they're in the mood to communicate for any length of time. The price was a bit low considering what I'm used to and if you have a dog that loves their pooch, you should be able to afford their cost!\n",
      "\n",
      "\n"
     ]
    },
    {
     "name": "stderr",
     "output_type": "stream",
     "text": [
      "\n"
     ]
    }
   ],
   "source": [
    "for i in tqdm(range(0, 28000 - batch_size, batch_size)):\n",
    "  text = reviews234[i % len(labels234) : (i + batch_size) % len(labels234)]\n",
    "  review = labels234[i % len(labels234) : (i + batch_size) % len(labels234)]\n",
    "#   prompt = \"<|startoftext|>\" + \" \" + ' '.join(text.split()[:10])\n",
    "  encodings = tokenizer(text, padding=True, truncation=True, return_tensors=\"pt\").to(device)\n",
    "#   generated = torch.tensor([tokenizer.encode(\"<|startoftext|>\" + \" \" + ' '.join(p.split()[:7]), ) for p in text])\n",
    "#   generated = generated.to(device)\n",
    "  model = model.to(device)\n",
    "\n",
    "  sample_outputs = model.generate(\n",
    "                                  encodings['input_ids'][:, :15], \n",
    "                                  #bos_token_id=random.randint(1,30000),\n",
    "                                  do_sample=True,   \n",
    "                                  top_k=50, \n",
    "                                  max_length = 300,\n",
    "                                  top_p=0.95, \n",
    "                                  num_return_sequences=num_to_generate,\n",
    "                                  attention_mask=encodings['attention_mask'][:, :15]\n",
    "                                  )\n",
    "    \n",
    "  assert len(sample_outputs) == batch_size * num_to_generate\n",
    "  for i, sample_output in enumerate(sample_outputs):\n",
    "#     print(\"{}: {}\\n\\n\".format(i, tokenizer.decode(sample_output, skip_special_tokens=True)))\n",
    "    gpt_output = tokenizer.decode(sample_output, skip_special_tokens=True).strip()\n",
    "    \n",
    "    new_data.append((gpt_output, review[i % num_to_generate]))\n",
    "  \n",
    "#   gpt_output = tokenizer.decode(sample_outputs[0], skip_special_tokens=True).strip()\n",
    "#   new_data.append((gpt_output, review))\n"
   ]
  },
  {
   "cell_type": "code",
   "execution_count": 54,
   "id": "mineral-armstrong",
   "metadata": {
    "papermill": {
     "duration": null,
     "end_time": null,
     "exception": null,
     "start_time": null,
     "status": "pending"
    },
    "tags": []
   },
   "outputs": [
    {
     "data": {
      "text/plain": [
       "(\"1.5 stars. This location has been a revolving door of failed restaurants. I expect the same from Lazeez.The food is definitely below average quality. The meat is dry with not much flavor. This is a family run place and the parents have their 12 or so year old kid running the cash. I think he'd rather be playing games as he seems rather disinterested.The food is good for a quite bite in a crunch but keep your expectations low!\",\n",
       " 2.0)"
      ]
     },
     "execution_count": 54,
     "metadata": {},
     "output_type": "execute_result"
    }
   ],
   "source": [
    "reviews234[2], labels234[2]"
   ]
  },
  {
   "cell_type": "code",
   "execution_count": null,
   "id": "fiscal-macedonia",
   "metadata": {
    "papermill": {
     "duration": null,
     "end_time": null,
     "exception": null,
     "start_time": null,
     "status": "pending"
    },
    "tags": []
   },
   "outputs": [],
   "source": [
    "rs = json.dumps(dict(new_data))"
   ]
  },
  {
   "cell_type": "code",
   "execution_count": null,
   "id": "radical-leave",
   "metadata": {
    "papermill": {
     "duration": null,
     "end_time": null,
     "exception": null,
     "start_time": null,
     "status": "pending"
    },
    "tags": []
   },
   "outputs": [],
   "source": [
    "with open(os.path.join(root_folder, 'new_data_234_56000_samples.json'), 'w') as f:\n",
    "  json.dump(rs, f)"
   ]
  },
  {
   "cell_type": "code",
   "execution_count": null,
   "id": "regular-league",
   "metadata": {
    "papermill": {
     "duration": null,
     "end_time": null,
     "exception": null,
     "start_time": null,
     "status": "pending"
    },
    "tags": []
   },
   "outputs": [],
   "source": []
  }
 ],
 "metadata": {
  "kernelspec": {
   "display_name": "Python 3",
   "language": "python",
   "name": "python3"
  },
  "language_info": {
   "codemirror_mode": {
    "name": "ipython",
    "version": 3
   },
   "file_extension": ".py",
   "mimetype": "text/x-python",
   "name": "python",
   "nbconvert_exporter": "python",
   "pygments_lexer": "ipython3",
   "version": "3.7.10"
  },
  "papermill": {
   "default_parameters": {},
   "duration": null,
   "end_time": null,
   "environment_variables": {},
   "exception": null,
   "input_path": "gpt2_data_aug.ipynb",
   "output_path": "gpt2_data_aug.ipynb",
   "parameters": {},
   "start_time": "2021-05-08T22:19:22.720120",
   "version": "2.3.3"
  }
 },
 "nbformat": 4,
 "nbformat_minor": 5
}
