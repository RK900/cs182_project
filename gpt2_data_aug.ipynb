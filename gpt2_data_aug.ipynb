{
 "cells": [
  {
   "cell_type": "markdown",
   "id": "transsexual-frederick",
   "metadata": {
    "tags": [
     "papermill-error-cell-tag"
    ]
   },
   "source": [
    "<span style=\"color:red; font-family:Helvetica Neue, Helvetica, Arial, sans-serif; font-size:2em;\">An Exception was encountered at '<a href=\"#papermill-error-cell\">In [7]</a>'.</span>"
   ]
  },
  {
   "cell_type": "code",
   "execution_count": 1,
   "id": "manufactured-chile",
   "metadata": {
    "execution": {
     "iopub.execute_input": "2021-05-08T03:59:20.127647Z",
     "iopub.status.busy": "2021-05-08T03:59:20.127030Z",
     "iopub.status.idle": "2021-05-08T03:59:20.129378Z",
     "shell.execute_reply": "2021-05-08T03:59:20.128732Z"
    },
    "papermill": {
     "duration": 0.035441,
     "end_time": "2021-05-08T03:59:20.129523",
     "exception": false,
     "start_time": "2021-05-08T03:59:20.094082",
     "status": "completed"
    },
    "tags": []
   },
   "outputs": [],
   "source": [
    "import sys, os, json"
   ]
  },
  {
   "cell_type": "code",
   "execution_count": 2,
   "id": "necessary-commission",
   "metadata": {
    "execution": {
     "iopub.execute_input": "2021-05-08T03:59:20.173195Z",
     "iopub.status.busy": "2021-05-08T03:59:20.172734Z",
     "iopub.status.idle": "2021-05-08T03:59:20.174696Z",
     "shell.execute_reply": "2021-05-08T03:59:20.174247Z"
    },
    "papermill": {
     "duration": 0.023701,
     "end_time": "2021-05-08T03:59:20.174782",
     "exception": false,
     "start_time": "2021-05-08T03:59:20.151081",
     "status": "completed"
    },
    "tags": []
   },
   "outputs": [],
   "source": [
    "root_folder = \".\"\n",
    "output_dir = os.path.join(root_folder, \"./model_save_gpt_234/\")\n",
    "data_path = os.path.join(root_folder, \"yelp_review_training_dataset.jsonl\")"
   ]
  },
  {
   "cell_type": "code",
   "execution_count": 3,
   "id": "popular-trial",
   "metadata": {
    "execution": {
     "iopub.execute_input": "2021-05-08T03:59:20.208042Z",
     "iopub.status.busy": "2021-05-08T03:59:20.207755Z",
     "iopub.status.idle": "2021-05-08T03:59:20.209495Z",
     "shell.execute_reply": "2021-05-08T03:59:20.209208Z"
    },
    "papermill": {
     "duration": 0.017871,
     "end_time": "2021-05-08T03:59:20.209550",
     "exception": false,
     "start_time": "2021-05-08T03:59:20.191679",
     "status": "completed"
    },
    "tags": []
   },
   "outputs": [],
   "source": [
    "sys.path.append(root_folder)"
   ]
  },
  {
   "cell_type": "markdown",
   "id": "fifth-average",
   "metadata": {
    "papermill": {
     "duration": 0.01076,
     "end_time": "2021-05-08T03:59:20.231107",
     "exception": false,
     "start_time": "2021-05-08T03:59:20.220347",
     "status": "completed"
    },
    "tags": []
   },
   "source": [
    "# Load Finetuned GPT-2 Model"
   ]
  },
  {
   "cell_type": "code",
   "execution_count": 4,
   "id": "threaded-packet",
   "metadata": {
    "execution": {
     "iopub.execute_input": "2021-05-08T03:59:20.256815Z",
     "iopub.status.busy": "2021-05-08T03:59:20.256489Z",
     "iopub.status.idle": "2021-05-08T03:59:21.819761Z",
     "shell.execute_reply": "2021-05-08T03:59:21.819432Z"
    },
    "papermill": {
     "duration": 1.57785,
     "end_time": "2021-05-08T03:59:21.819835",
     "exception": false,
     "start_time": "2021-05-08T03:59:20.241985",
     "status": "completed"
    },
    "tags": []
   },
   "outputs": [],
   "source": [
    "import torch\n",
    "from torch.utils.data import Dataset, DataLoader, random_split, RandomSampler, SequentialSampler\n",
    "\n",
    "from transformers import GPT2LMHeadModel,  GPT2Tokenizer, GPT2Config, GPT2LMHeadModel\n",
    "from transformers import AdamW, get_linear_schedule_with_warmup\n",
    "\n",
    "from tqdm import tqdm\n",
    "import pandas as pd"
   ]
  },
  {
   "cell_type": "code",
   "execution_count": 5,
   "id": "collective-characterization",
   "metadata": {
    "execution": {
     "iopub.execute_input": "2021-05-08T03:59:21.843858Z",
     "iopub.status.busy": "2021-05-08T03:59:21.843572Z",
     "iopub.status.idle": "2021-05-08T03:59:25.356265Z",
     "shell.execute_reply": "2021-05-08T03:59:25.356516Z"
    },
    "papermill": {
     "duration": 3.525619,
     "end_time": "2021-05-08T03:59:25.356633",
     "exception": false,
     "start_time": "2021-05-08T03:59:21.831014",
     "status": "completed"
    },
    "tags": []
   },
   "outputs": [],
   "source": [
    "config = GPT2Config.from_pretrained(output_dir)\n",
    "model = GPT2LMHeadModel.from_pretrained(output_dir)\n",
    "tokenizer = GPT2Tokenizer.from_pretrained(output_dir)"
   ]
  },
  {
   "cell_type": "code",
   "execution_count": 6,
   "id": "asian-harvey",
   "metadata": {
    "execution": {
     "iopub.execute_input": "2021-05-08T03:59:25.440364Z",
     "iopub.status.busy": "2021-05-08T03:59:25.440002Z",
     "iopub.status.idle": "2021-05-08T03:59:29.725071Z",
     "shell.execute_reply": "2021-05-08T03:59:29.724548Z"
    },
    "papermill": {
     "duration": 4.357186,
     "end_time": "2021-05-08T03:59:29.725193",
     "exception": false,
     "start_time": "2021-05-08T03:59:25.368007",
     "status": "completed"
    },
    "tags": []
   },
   "outputs": [
    {
     "name": "stdout",
     "output_type": "stream",
     "text": [
      "cuda\n"
     ]
    }
   ],
   "source": [
    "if torch.cuda.is_available():\n",
    "  device = \"cuda\"\n",
    "  model.cuda()\n",
    "else:\n",
    "  device = \"cpu\"\n",
    "model.to(device)\n",
    "print(device)"
   ]
  },
  {
   "cell_type": "markdown",
   "id": "individual-stupid",
   "metadata": {
    "papermill": {
     "duration": 0.022136,
     "end_time": "2021-05-08T03:59:29.770176",
     "exception": false,
     "start_time": "2021-05-08T03:59:29.748040",
     "status": "completed"
    },
    "tags": []
   },
   "source": [
    "# Do a sample review generation"
   ]
  },
  {
   "cell_type": "markdown",
   "id": "deadly-kingston",
   "metadata": {
    "tags": [
     "papermill-error-cell-tag"
    ]
   },
   "source": [
    "<span id=\"papermill-error-cell\" style=\"color:red; font-family:Helvetica Neue, Helvetica, Arial, sans-serif; font-size:2em;\">Execution using papermill encountered an exception here and stopped:</span>"
   ]
  },
  {
   "cell_type": "code",
   "execution_count": 7,
   "id": "brazilian-sessions",
   "metadata": {
    "execution": {
     "iopub.execute_input": "2021-05-08T03:59:29.802068Z",
     "iopub.status.busy": "2021-05-08T03:59:29.801764Z",
     "iopub.status.idle": "2021-05-08T03:59:29.890848Z",
     "shell.execute_reply": "2021-05-08T03:59:29.890273Z"
    },
    "papermill": {
     "duration": 0.105465,
     "end_time": "2021-05-08T03:59:29.890976",
     "exception": true,
     "start_time": "2021-05-08T03:59:29.785511",
     "status": "failed"
    },
    "scrolled": true,
    "tags": []
   },
   "outputs": [
    {
     "ename": "NameError",
     "evalue": "name 'encoded_inputs' is not defined",
     "output_type": "error",
     "traceback": [
      "\u001b[0;31m---------------------------------------------------------------------------\u001b[0m",
      "\u001b[0;31mNameError\u001b[0m                                 Traceback (most recent call last)",
      "\u001b[0;32m<ipython-input-7-e8b240074617>\u001b[0m in \u001b[0;36m<module>\u001b[0;34m\u001b[0m\n\u001b[1;32m      4\u001b[0m \u001b[0;34m\u001b[0m\u001b[0m\n\u001b[1;32m      5\u001b[0m \u001b[0mgenerated\u001b[0m \u001b[0;34m=\u001b[0m \u001b[0mtorch\u001b[0m\u001b[0;34m.\u001b[0m\u001b[0mtensor\u001b[0m\u001b[0;34m(\u001b[0m\u001b[0mtokenizer\u001b[0m\u001b[0;34m.\u001b[0m\u001b[0mencode\u001b[0m\u001b[0;34m(\u001b[0m\u001b[0mprompt\u001b[0m\u001b[0;34m)\u001b[0m\u001b[0;34m)\u001b[0m\u001b[0;34m.\u001b[0m\u001b[0munsqueeze\u001b[0m\u001b[0;34m(\u001b[0m\u001b[0;36m0\u001b[0m\u001b[0;34m)\u001b[0m\u001b[0;34m\u001b[0m\u001b[0;34m\u001b[0m\u001b[0m\n\u001b[0;32m----> 6\u001b[0;31m \u001b[0mgenerated\u001b[0m \u001b[0;34m=\u001b[0m \u001b[0mencoded_inputs\u001b[0m\u001b[0;34m[\u001b[0m\u001b[0;34m'input_ids'\u001b[0m\u001b[0;34m]\u001b[0m\u001b[0;34m\u001b[0m\u001b[0;34m\u001b[0m\u001b[0m\n\u001b[0m\u001b[1;32m      7\u001b[0m \u001b[0mmask\u001b[0m \u001b[0;34m=\u001b[0m \u001b[0mencoded_inputs\u001b[0m\u001b[0;34m[\u001b[0m\u001b[0;34m'attention_mask'\u001b[0m\u001b[0;34m]\u001b[0m\u001b[0;34m.\u001b[0m\u001b[0mto\u001b[0m\u001b[0;34m(\u001b[0m\u001b[0mdevice\u001b[0m\u001b[0;34m)\u001b[0m\u001b[0;34m\u001b[0m\u001b[0;34m\u001b[0m\u001b[0m\n\u001b[1;32m      8\u001b[0m \u001b[0mgenerated\u001b[0m \u001b[0;34m=\u001b[0m \u001b[0mgenerated\u001b[0m\u001b[0;34m.\u001b[0m\u001b[0mto\u001b[0m\u001b[0;34m(\u001b[0m\u001b[0mdevice\u001b[0m\u001b[0;34m)\u001b[0m\u001b[0;34m\u001b[0m\u001b[0;34m\u001b[0m\u001b[0m\n",
      "\u001b[0;31mNameError\u001b[0m: name 'encoded_inputs' is not defined"
     ]
    }
   ],
   "source": [
    "model.eval()\n",
    "\n",
    "prompt = \"<|startoftext|> This place was\"\n",
    "\n",
    "generated = torch.tensor(tokenizer.encode(prompt)).unsqueeze(0)\n",
    "generated = encoded_inputs['input_ids']\n",
    "mask = encoded_inputs['attention_mask'].to(device)\n",
    "generated = generated.to(device)\n",
    "model = model.to(device)\n",
    "\n",
    "print(generated)\n",
    "\n",
    "sample_outputs = model.generate(\n",
    "                                generated, \n",
    "                                #bos_token_id=random.randint(1,30000),\n",
    "                                do_sample=True,   \n",
    "                                top_k=50, \n",
    "                                max_length = 300,\n",
    "                                top_p=0.95, \n",
    "                                num_return_sequences=2,\n",
    "                                attention_mask=mask\n",
    "                                )\n",
    "\n",
    "for i, sample_output in enumerate(sample_outputs):\n",
    "  print(\"{}: {}\\n\\n\".format(i, tokenizer.decode(sample_output, skip_special_tokens=True)))"
   ]
  },
  {
   "cell_type": "code",
   "execution_count": null,
   "id": "chubby-press",
   "metadata": {
    "papermill": {
     "duration": null,
     "end_time": null,
     "exception": null,
     "start_time": null,
     "status": "pending"
    },
    "tags": []
   },
   "outputs": [],
   "source": [
    "from data_parsing import load_dataset"
   ]
  },
  {
   "cell_type": "code",
   "execution_count": null,
   "id": "mounted-whale",
   "metadata": {
    "papermill": {
     "duration": null,
     "end_time": null,
     "exception": null,
     "start_time": null,
     "status": "pending"
    },
    "tags": []
   },
   "outputs": [],
   "source": [
    "data = load_dataset(data_path)"
   ]
  },
  {
   "cell_type": "code",
   "execution_count": null,
   "id": "mechanical-graham",
   "metadata": {
    "papermill": {
     "duration": null,
     "end_time": null,
     "exception": null,
     "start_time": null,
     "status": "pending"
    },
    "tags": []
   },
   "outputs": [],
   "source": [
    "reviews234 = [i for i in data if i[1] == 2 or i[1] == 3 or i[1] == 4]"
   ]
  },
  {
   "cell_type": "code",
   "execution_count": null,
   "id": "hidden-doctrine",
   "metadata": {
    "papermill": {
     "duration": null,
     "end_time": null,
     "exception": null,
     "start_time": null,
     "status": "pending"
    },
    "tags": []
   },
   "outputs": [],
   "source": [
    "len(reviews234)"
   ]
  },
  {
   "cell_type": "code",
   "execution_count": null,
   "id": "swedish-venice",
   "metadata": {
    "papermill": {
     "duration": null,
     "end_time": null,
     "exception": null,
     "start_time": null,
     "status": "pending"
    },
    "tags": []
   },
   "outputs": [],
   "source": [
    "data_dir = os.path.join(root_folder, \"yelp_review_val_dataset_234.csv\")"
   ]
  },
  {
   "cell_type": "code",
   "execution_count": null,
   "id": "bibliographic-update",
   "metadata": {
    "papermill": {
     "duration": null,
     "end_time": null,
     "exception": null,
     "start_time": null,
     "status": "pending"
    },
    "tags": []
   },
   "outputs": [],
   "source": [
    "df = pd.read_csv(data_dir, error_bad_lines=False, sep='\\t', header='infer', lineterminator='\\n')  \n",
    "print(df)"
   ]
  },
  {
   "cell_type": "code",
   "execution_count": null,
   "id": "stock-arrest",
   "metadata": {
    "papermill": {
     "duration": null,
     "end_time": null,
     "exception": null,
     "start_time": null,
     "status": "pending"
    },
    "tags": []
   },
   "outputs": [],
   "source": [
    "labels_dir = os.path.join(root_folder, \"yelp_review_val_dataset_234_labels.csv\")"
   ]
  },
  {
   "cell_type": "code",
   "execution_count": null,
   "id": "rising-signature",
   "metadata": {
    "papermill": {
     "duration": null,
     "end_time": null,
     "exception": null,
     "start_time": null,
     "status": "pending"
    },
    "tags": []
   },
   "outputs": [],
   "source": [
    "labels_df = pd.read_csv(labels_dir, error_bad_lines=False, sep='\\t', header='infer', lineterminator='\\n')  \n",
    "print(labels_df)"
   ]
  },
  {
   "cell_type": "code",
   "execution_count": null,
   "id": "advanced-necklace",
   "metadata": {
    "papermill": {
     "duration": null,
     "end_time": null,
     "exception": null,
     "start_time": null,
     "status": "pending"
    },
    "tags": []
   },
   "outputs": [],
   "source": [
    "labels234 = list(labels_df.text)"
   ]
  },
  {
   "cell_type": "code",
   "execution_count": null,
   "id": "educational-prescription",
   "metadata": {
    "papermill": {
     "duration": null,
     "end_time": null,
     "exception": null,
     "start_time": null,
     "status": "pending"
    },
    "tags": []
   },
   "outputs": [],
   "source": [
    "reviews234 = list(df.text)"
   ]
  },
  {
   "cell_type": "code",
   "execution_count": null,
   "id": "knowing-lancaster",
   "metadata": {
    "papermill": {
     "duration": null,
     "end_time": null,
     "exception": null,
     "start_time": null,
     "status": "pending"
    },
    "tags": []
   },
   "outputs": [],
   "source": [
    "len(reviews234), len(labels234)"
   ]
  },
  {
   "cell_type": "code",
   "execution_count": null,
   "id": "compatible-sound",
   "metadata": {
    "papermill": {
     "duration": null,
     "end_time": null,
     "exception": null,
     "start_time": null,
     "status": "pending"
    },
    "tags": []
   },
   "outputs": [],
   "source": [
    "reviews234[0]"
   ]
  },
  {
   "cell_type": "code",
   "execution_count": null,
   "id": "virgin-combining",
   "metadata": {
    "papermill": {
     "duration": null,
     "end_time": null,
     "exception": null,
     "start_time": null,
     "status": "pending"
    },
    "tags": []
   },
   "outputs": [],
   "source": [
    "labels234[0]"
   ]
  },
  {
   "cell_type": "markdown",
   "id": "unlike-attachment",
   "metadata": {
    "papermill": {
     "duration": null,
     "end_time": null,
     "exception": null,
     "start_time": null,
     "status": "pending"
    },
    "tags": []
   },
   "source": [
    "# Create data for N number of samples"
   ]
  },
  {
   "cell_type": "code",
   "execution_count": null,
   "id": "governmental-intelligence",
   "metadata": {
    "papermill": {
     "duration": null,
     "end_time": null,
     "exception": null,
     "start_time": null,
     "status": "pending"
    },
    "tags": []
   },
   "outputs": [],
   "source": [
    "new_data = []\n",
    "num_to_generate = 2\n",
    "batch_size = 8"
   ]
  },
  {
   "cell_type": "code",
   "execution_count": null,
   "id": "antique-worst",
   "metadata": {
    "papermill": {
     "duration": null,
     "end_time": null,
     "exception": null,
     "start_time": null,
     "status": "pending"
    },
    "tags": []
   },
   "outputs": [],
   "source": [
    "for i in tqdm(range(0, 28000 - batch_size, batch_size)):\n",
    "  text = reviews234[i % len(labels234) : (i + batch_size) % len(labels234)]\n",
    "  review = labels234[i % len(labels234) : (i + batch_size) % len(labels234)]\n",
    "#   prompt = \"<|startoftext|>\" + \" \" + ' '.join(text.split()[:10])\n",
    "  encodings = tokenizer(text, padding=True, truncation=True, return_tensors=\"pt\").to(device)\n",
    "#   generated = torch.tensor([tokenizer.encode(\"<|startoftext|>\" + \" \" + ' '.join(p.split()[:7]), ) for p in text])\n",
    "#   generated = generated.to(device)\n",
    "  model = model.to(device)\n",
    "\n",
    "  sample_outputs = model.generate(\n",
    "                                  encodings['input_ids'], \n",
    "                                  #bos_token_id=random.randint(1,30000),\n",
    "                                  do_sample=True,   \n",
    "                                  top_k=50, \n",
    "                                  max_length = 300,\n",
    "                                  top_p=0.95, \n",
    "                                  num_return_sequences=num_to_generate,\n",
    "                                  attention_mask=encodings['attention_mask']\n",
    "                                  )\n",
    "    \n",
    "  assert len(sample_outputs) == batch_size * num_to_generate\n",
    "  for i, sample_output in enumerate(sample_outputs):\n",
    "#     print(\"{}: {}\\n\\n\".format(i, tokenizer.decode(sample_output, skip_special_tokens=True)))\n",
    "    gpt_output = tokenizer.decode(sample_outputs[0], skip_special_tokens=True).strip()\n",
    "    new_data.append((gpt_output, review[i % num_to_generate]))\n",
    "  \n",
    "#   gpt_output = tokenizer.decode(sample_outputs[0], skip_special_tokens=True).strip()\n",
    "#   new_data.append((gpt_output, review))\n"
   ]
  },
  {
   "cell_type": "code",
   "execution_count": null,
   "id": "mineral-armstrong",
   "metadata": {
    "papermill": {
     "duration": null,
     "end_time": null,
     "exception": null,
     "start_time": null,
     "status": "pending"
    },
    "tags": []
   },
   "outputs": [],
   "source": [
    "new_data[10], data[10]"
   ]
  },
  {
   "cell_type": "code",
   "execution_count": null,
   "id": "fiscal-macedonia",
   "metadata": {
    "papermill": {
     "duration": null,
     "end_time": null,
     "exception": null,
     "start_time": null,
     "status": "pending"
    },
    "tags": []
   },
   "outputs": [],
   "source": [
    "rs = json.dumps(dict(new_data))"
   ]
  },
  {
   "cell_type": "code",
   "execution_count": null,
   "id": "radical-leave",
   "metadata": {
    "papermill": {
     "duration": null,
     "end_time": null,
     "exception": null,
     "start_time": null,
     "status": "pending"
    },
    "tags": []
   },
   "outputs": [],
   "source": [
    "with open(os.path.join(root_folder, 'new_data_234_56000_samples.json'), 'w') as f:\n",
    "  json.dump(rs, f)"
   ]
  },
  {
   "cell_type": "code",
   "execution_count": null,
   "id": "regular-league",
   "metadata": {
    "papermill": {
     "duration": null,
     "end_time": null,
     "exception": null,
     "start_time": null,
     "status": "pending"
    },
    "tags": []
   },
   "outputs": [],
   "source": []
  }
 ],
 "metadata": {
  "kernelspec": {
   "display_name": "Python 3",
   "language": "python",
   "name": "python3"
  },
  "language_info": {
   "codemirror_mode": {
    "name": "ipython",
    "version": 3
   },
   "file_extension": ".py",
   "mimetype": "text/x-python",
   "name": "python",
   "nbconvert_exporter": "python",
   "pygments_lexer": "ipython3",
   "version": "3.7.10"
  },
  "papermill": {
   "default_parameters": {},
   "duration": 12.37807,
   "end_time": "2021-05-08T03:59:31.328667",
   "environment_variables": {},
   "exception": true,
   "input_path": "gpt2_data_aug.ipynb",
   "output_path": "gpt2_data_aug.ipynb",
   "parameters": {},
   "start_time": "2021-05-08T03:59:18.950597",
   "version": "2.3.3"
  }
 },
 "nbformat": 4,
 "nbformat_minor": 5
}