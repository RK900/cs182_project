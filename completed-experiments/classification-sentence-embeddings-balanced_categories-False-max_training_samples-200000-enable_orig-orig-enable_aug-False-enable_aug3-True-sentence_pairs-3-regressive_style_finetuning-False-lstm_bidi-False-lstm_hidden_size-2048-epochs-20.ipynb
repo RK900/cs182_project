{
 "cells": [
  {
   "cell_type": "code",
   "execution_count": 1,
   "id": "skilled-vertex",
   "metadata": {
    "execution": {
     "iopub.execute_input": "2021-05-11T19:48:41.895242Z",
     "iopub.status.busy": "2021-05-11T19:48:41.894642Z",
     "iopub.status.idle": "2021-05-11T19:48:42.033643Z",
     "shell.execute_reply": "2021-05-11T19:48:42.033014Z"
    },
    "papermill": {
     "duration": 0.166253,
     "end_time": "2021-05-11T19:48:42.033777",
     "exception": false,
     "start_time": "2021-05-11T19:48:41.867524",
     "status": "completed"
    },
    "tags": []
   },
   "outputs": [],
   "source": [
    "%load_ext autoreload\n",
    "%autoreload 2\n",
    "\n",
    "from tqdm import tqdm\n",
    "from segtok import tokenizer\n",
    "from utils import *\n",
    "import hickle"
   ]
  },
  {
   "cell_type": "code",
   "execution_count": 2,
   "id": "wrapped-diploma",
   "metadata": {
    "execution": {
     "iopub.execute_input": "2021-05-11T19:48:42.070510Z",
     "iopub.status.busy": "2021-05-11T19:48:42.069916Z",
     "iopub.status.idle": "2021-05-11T19:48:42.077234Z",
     "shell.execute_reply": "2021-05-11T19:48:42.076707Z"
    },
    "papermill": {
     "duration": 0.02688,
     "end_time": "2021-05-11T19:48:42.077346",
     "exception": false,
     "start_time": "2021-05-11T19:48:42.050466",
     "status": "completed"
    },
    "tags": [
     "parameters"
    ]
   },
   "outputs": [],
   "source": [
    "# Key Hyperparameters\n",
    "balanced_categories = False\n",
    "enable_orig = \"orig\"\n",
    "enable_aug = False\n",
    "enable_aug3 = False\n",
    "max_training_samples = 200000\n",
    "max_tokenized_length = 64\n",
    "num_sentences = 10\n",
    "valid_percent = 0.01\n",
    "sentence_pairs = False\n",
    "\n",
    "batch_size_finetuning = 32\n",
    "epochs_finetuning = 1\n",
    "lr_finetuning = 1e-5\n",
    "\n",
    "batch_size = 128\n",
    "epochs = 20\n",
    "main_model_lr = 1e-5\n",
    "\n",
    "lstm_hidden_size = 1024\n",
    "regressive_style_finetuning = False\n",
    "lstm_bidi = False\n",
    "\n",
    "experiment_id = f\"test\""
   ]
  },
  {
   "cell_type": "code",
   "execution_count": 3,
   "id": "extreme-palestine",
   "metadata": {
    "execution": {
     "iopub.execute_input": "2021-05-11T19:48:42.113025Z",
     "iopub.status.busy": "2021-05-11T19:48:42.112556Z",
     "iopub.status.idle": "2021-05-11T19:48:42.120949Z",
     "shell.execute_reply": "2021-05-11T19:48:42.121308Z"
    },
    "papermill": {
     "duration": 0.027191,
     "end_time": "2021-05-11T19:48:42.121416",
     "exception": false,
     "start_time": "2021-05-11T19:48:42.094225",
     "status": "completed"
    },
    "tags": [
     "injected-parameters"
    ]
   },
   "outputs": [],
   "source": [
    "# Parameters\n",
    "balanced_categories = False\n",
    "max_training_samples = 200000\n",
    "enable_orig = \"orig\"\n",
    "enable_aug = False\n",
    "enable_aug3 = True\n",
    "sentence_pairs = \"3\"\n",
    "regressive_style_finetuning = False\n",
    "lstm_bidi = False\n",
    "lstm_hidden_size = 2048\n",
    "epochs = 20\n",
    "experiment_id = \"classification-sentence-embeddings-balanced_categories-False-max_training_samples-200000-enable_orig-orig-enable_aug-False-enable_aug3-True-sentence_pairs-3-regressive_style_finetuning-False-lstm_bidi-False-lstm_hidden_size-2048-epochs-20\"\n"
   ]
  },
  {
   "cell_type": "code",
   "execution_count": 4,
   "id": "rental-mechanism",
   "metadata": {
    "execution": {
     "iopub.execute_input": "2021-05-11T19:48:42.149945Z",
     "iopub.status.busy": "2021-05-11T19:48:42.149491Z",
     "iopub.status.idle": "2021-05-11T19:48:42.160380Z",
     "shell.execute_reply": "2021-05-11T19:48:42.160732Z"
    },
    "papermill": {
     "duration": 0.026733,
     "end_time": "2021-05-11T19:48:42.160838",
     "exception": false,
     "start_time": "2021-05-11T19:48:42.134105",
     "status": "completed"
    },
    "tags": []
   },
   "outputs": [],
   "source": [
    "import os\n",
    "experiment_dir = f\"completed-experiments/{experiment_id}\"\n",
    "if not os.path.exists(experiment_dir):\n",
    "    os.makedirs(experiment_dir)"
   ]
  },
  {
   "cell_type": "code",
   "execution_count": 5,
   "id": "sharing-prime",
   "metadata": {
    "execution": {
     "iopub.execute_input": "2021-05-11T19:48:42.188741Z",
     "iopub.status.busy": "2021-05-11T19:48:42.188450Z",
     "iopub.status.idle": "2021-05-11T19:48:44.904465Z",
     "shell.execute_reply": "2021-05-11T19:48:44.903906Z"
    },
    "papermill": {
     "duration": 2.731012,
     "end_time": "2021-05-11T19:48:44.904595",
     "exception": false,
     "start_time": "2021-05-11T19:48:42.173583",
     "status": "completed"
    },
    "tags": []
   },
   "outputs": [],
   "source": [
    "from data_parsing import *\n",
    "data = load_dataset(\"./yelp_review_training_dataset.jsonl\")"
   ]
  },
  {
   "cell_type": "code",
   "execution_count": 6,
   "id": "common-tampa",
   "metadata": {
    "execution": {
     "iopub.execute_input": "2021-05-11T19:48:44.945080Z",
     "iopub.status.busy": "2021-05-11T19:48:44.944436Z",
     "iopub.status.idle": "2021-05-11T19:48:48.248832Z",
     "shell.execute_reply": "2021-05-11T19:48:48.248162Z"
    },
    "papermill": {
     "duration": 3.327135,
     "end_time": "2021-05-11T19:48:48.248973",
     "exception": false,
     "start_time": "2021-05-11T19:48:44.921838",
     "status": "completed"
    },
    "tags": []
   },
   "outputs": [
    {
     "name": "stdout",
     "output_type": "stream",
     "text": [
      "200000\n"
     ]
    }
   ],
   "source": [
    "from training_utils import split_train_validation\n",
    "from text_preprocessing import preprocess\n",
    "import random\n",
    "from math import ceil\n",
    "\n",
    "def get_train_valid():\n",
    "    global data\n",
    "    if enable_orig == \"big\" or enable_orig == \"big-preprocess\":\n",
    "        data += load_gen_dataset(\"./yelp_dataset/more_yelp_234.json\")\n",
    "    if balanced_categories:\n",
    "        orig_data_uniform = split_equally(data, ceil(max_training_samples / 0.99))\n",
    "    else:\n",
    "        orig_data_uniform = data\n",
    "    orig_train_x, valid_x, orig_train_y, valid_y = split_train_validation(orig_data_uniform, 0.01)\n",
    "    train_x = []\n",
    "    train_y = []\n",
    "\n",
    "    if enable_aug:\n",
    "        aug_data = load_gen_dataset(\"./new_data.json\") + load_gen_dataset(\"./new_data2.json\")\n",
    "        train_x += [i[0] for i in aug_data]\n",
    "        train_y += [i[1] for i in aug_data]\n",
    "\n",
    "    if enable_aug3:\n",
    "        aug_data3 = load_gen_dataset(\"./new_data3.json\")\n",
    "        train_x += [i[0] for i in aug_data3]\n",
    "        train_y += [i[1] for i in aug_data3]\n",
    "        \n",
    "    if enable_orig:\n",
    "        train_x += orig_train_x\n",
    "        train_y += orig_train_y\n",
    "    \n",
    "    train_x = train_x[:max_training_samples]\n",
    "    train_y = train_y[:max_training_samples]\n",
    "\n",
    "    if enable_orig == \"preprocess\" or enable_orig == \"big-preprocess\":\n",
    "        train_x = preprocess(train_x)\n",
    "        valid_x = preprocess(valid_x)    \n",
    "\n",
    "    paired_train = list(zip(train_x, train_y))\n",
    "    random.shuffle(paired_train)\n",
    "    train_x = [i[0] for i in paired_train]\n",
    "    train_y = [i[1] for i in paired_train]\n",
    "\n",
    "    return [x.encode(\"utf-8\") for x in train_x], [x.encode(\"utf-8\") for x in valid_x], train_y, valid_y\n",
    "\n",
    "split_key = f\"cache-core/split-data-{valid_percent}-orig-{enable_orig}-aug12-{enable_aug}-aug3-{enable_aug3}-max-{max_training_samples}\"\n",
    "if not balanced_categories:\n",
    "    split_key += \"-unbalanced\"\n",
    "train_x, valid_x, train_y, valid_y = memo_load(\n",
    "    get_train_valid,\n",
    "    split_key\n",
    ")\n",
    "split_hash = hash_file(split_key + \".hkl\")\n",
    "\n",
    "train_x = [x.decode(\"utf-8\") for x in train_x]\n",
    "valid_x = [x.decode(\"utf-8\") for x in valid_x]\n",
    "\n",
    "print(len(train_x))"
   ]
  },
  {
   "cell_type": "code",
   "execution_count": 7,
   "id": "subjective-specific",
   "metadata": {
    "execution": {
     "iopub.execute_input": "2021-05-11T19:48:48.286063Z",
     "iopub.status.busy": "2021-05-11T19:48:48.285472Z",
     "iopub.status.idle": "2021-05-11T19:48:48.297017Z",
     "shell.execute_reply": "2021-05-11T19:48:48.296436Z"
    },
    "papermill": {
     "duration": 0.030647,
     "end_time": "2021-05-11T19:48:48.297129",
     "exception": false,
     "start_time": "2021-05-11T19:48:48.266482",
     "status": "completed"
    },
    "tags": []
   },
   "outputs": [
    {
     "name": "stdout",
     "output_type": "stream",
     "text": [
      "200000\n",
      "200000\n",
      "5336\n",
      "5336\n"
     ]
    }
   ],
   "source": [
    "print(len(train_x))\n",
    "print(len(train_y))\n",
    "print(len(valid_x))\n",
    "print(len(valid_y))"
   ]
  },
  {
   "cell_type": "code",
   "execution_count": 8,
   "id": "excess-emission",
   "metadata": {
    "execution": {
     "iopub.execute_input": "2021-05-11T19:48:48.329496Z",
     "iopub.status.busy": "2021-05-11T19:48:48.329205Z",
     "iopub.status.idle": "2021-05-11T19:48:49.235852Z",
     "shell.execute_reply": "2021-05-11T19:48:49.235557Z"
    },
    "papermill": {
     "duration": 0.921976,
     "end_time": "2021-05-11T19:48:49.235925",
     "exception": false,
     "start_time": "2021-05-11T19:48:48.313949",
     "status": "completed"
    },
    "tags": []
   },
   "outputs": [
    {
     "name": "stdout",
     "output_type": "stream",
     "text": [
      "cuda\n"
     ]
    },
    {
     "data": {
      "text/plain": [
       "<spacy.pipeline.sentencizer.Sentencizer at 0x7fa84a5edd20>"
      ]
     },
     "execution_count": 8,
     "metadata": {},
     "output_type": "execute_result"
    }
   ],
   "source": [
    "import torch as th\n",
    "\n",
    "device = th.device(\"cuda\" if th.cuda.is_available() else \"cpu\")\n",
    "print(device)\n",
    "\n",
    "from spacy.lang.en import English\n",
    "nlp = English()\n",
    "nlp.add_pipe(\"sentencizer\")"
   ]
  },
  {
   "cell_type": "code",
   "execution_count": 9,
   "id": "reduced-silly",
   "metadata": {
    "execution": {
     "iopub.execute_input": "2021-05-11T19:48:49.273947Z",
     "iopub.status.busy": "2021-05-11T19:48:49.273336Z",
     "iopub.status.idle": "2021-05-11T19:48:50.450389Z",
     "shell.execute_reply": "2021-05-11T19:48:50.450859Z"
    },
    "papermill": {
     "duration": 1.198123,
     "end_time": "2021-05-11T19:48:50.451029",
     "exception": false,
     "start_time": "2021-05-11T19:48:49.252906",
     "status": "completed"
    },
    "tags": []
   },
   "outputs": [],
   "source": [
    "from transformers import BertTokenizerFast, BertForSequenceClassification\n",
    "tokenizer = BertTokenizerFast.from_pretrained(\"bert-base-uncased\")"
   ]
  },
  {
   "cell_type": "code",
   "execution_count": 10,
   "id": "golden-saver",
   "metadata": {
    "execution": {
     "iopub.execute_input": "2021-05-11T19:48:50.499477Z",
     "iopub.status.busy": "2021-05-11T19:48:50.494120Z",
     "iopub.status.idle": "2021-05-11T19:48:51.771590Z",
     "shell.execute_reply": "2021-05-11T19:48:51.770970Z"
    },
    "papermill": {
     "duration": 1.302745,
     "end_time": "2021-05-11T19:48:51.771713",
     "exception": false,
     "start_time": "2021-05-11T19:48:50.468968",
     "status": "completed"
    },
    "tags": []
   },
   "outputs": [],
   "source": [
    "# fine tune the BERT\n",
    "import numpy as np\n",
    "\n",
    "def get_finetuning_data():\n",
    "    train_x_numerized = []\n",
    "    train_x_mask = []\n",
    "    train_y_per_sentence = []\n",
    "    for i, text in tqdm(list(enumerate(train_x))):\n",
    "        doc = nlp(text)\n",
    "        sents = [str(sent) for sent in doc.sents]\n",
    "        if sentence_pairs == True and len(sents) > 1:\n",
    "            sents = [a + b for a, b in zip(sents, sents[1:])]\n",
    "        if sentence_pairs == \"3\" and len(sents) > 2:\n",
    "            sents = [a + b + c for a, b, c in zip(sents, sents[1:], sents[2:])]\n",
    "        for sentence in sents[:num_sentences]:\n",
    "            tokenized = tokenizer(sentence, truncation=True, padding=\"max_length\", max_length=max_tokenized_length)[0]\n",
    "            train_x_numerized.append(tokenized.ids)\n",
    "            train_x_mask.append(tokenized.attention_mask)\n",
    "            train_y_per_sentence.append(train_y[i])\n",
    "\n",
    "    valid_x_numerized = []\n",
    "    valid_x_mask = []\n",
    "    valid_y_per_sentence = []\n",
    "    for i, text in tqdm(list(enumerate(valid_x))):\n",
    "        doc = nlp(text)\n",
    "        sents = [str(sent) for sent in doc.sents]\n",
    "        if sentence_pairs == True and len(sents) > 1:\n",
    "            sents = [a + b for a, b in zip(sents, sents[1:])]\n",
    "        if sentence_pairs == \"3\" and len(sents) > 2:\n",
    "            sents = [a + b + c for a, b, c in zip(sents, sents[1:], sents[2:])]\n",
    "        for sentence in sents[:num_sentences]:\n",
    "            tokenized = tokenizer(sentence, truncation=True, padding=\"max_length\", max_length=max_tokenized_length)[0]\n",
    "            valid_x_numerized.append(tokenized.ids)\n",
    "            valid_x_mask.append(tokenized.attention_mask)\n",
    "            valid_y_per_sentence.append(valid_y[i])\n",
    "\n",
    "    train_x_numerized = np.array(train_x_numerized)\n",
    "    train_x_mask = np.array(train_x_mask)\n",
    "    train_y_per_sentence = np.array(train_y_per_sentence)\n",
    "    valid_x_numerized = np.array(valid_x_numerized)\n",
    "    valid_x_mask = np.array(valid_x_mask)\n",
    "    valid_y_per_sentence = np.array(valid_y_per_sentence)\n",
    "    return train_x_numerized, train_x_mask, train_y_per_sentence, valid_x_numerized, valid_x_mask, valid_y_per_sentence\n",
    "\n",
    "from utils import memo_load\n",
    "finetuning_data_key = f\"cache-core/training-data-finetuning-max-tokens-{max_tokenized_length}-split-{split_hash}\"\n",
    "if sentence_pairs:\n",
    "    if sentence_pairs == \"3\":\n",
    "        finetuning_data_key += f\"-pairs\"\n",
    "    else:\n",
    "        finetuning_data_key += f\"-pairs-{sentence_pairs}\"\n",
    "(train_x_numerized, train_x_mask, train_y_per_sentence, valid_x_numerized, valid_x_mask, valid_y_per_sentence) = memo_load(\n",
    "    lambda: get_finetuning_data(),\n",
    "    finetuning_data_key\n",
    ")\n",
    "finetuning_data_hash = hash_file(finetuning_data_key + \".hkl\")"
   ]
  },
  {
   "cell_type": "code",
   "execution_count": 11,
   "id": "vital-blues",
   "metadata": {
    "execution": {
     "iopub.execute_input": "2021-05-11T19:48:51.812562Z",
     "iopub.status.busy": "2021-05-11T19:48:51.811945Z",
     "iopub.status.idle": "2021-05-11T19:48:51.830467Z",
     "shell.execute_reply": "2021-05-11T19:48:51.829959Z"
    },
    "papermill": {
     "duration": 0.041037,
     "end_time": "2021-05-11T19:48:51.830584",
     "exception": false,
     "start_time": "2021-05-11T19:48:51.789547",
     "status": "completed"
    },
    "tags": []
   },
   "outputs": [],
   "source": [
    "from model import ReviewPredictionModel\n",
    "import torch.optim as optim\n",
    "\n",
    "def train_finetuning():\n",
    "    if regressive_style_finetuning:\n",
    "        embedding_bert = BertForSequenceClassification.from_pretrained(\"bert-base-uncased\", num_labels=1)\n",
    "    else:\n",
    "        embedding_bert = BertForSequenceClassification.from_pretrained(\"bert-base-uncased\", num_labels=9)\n",
    "\n",
    "    model_to_train_finetuning = ReviewPredictionModel(0, max_tokenized_length, regressive_bert_style=regressive_style_finetuning)\n",
    "    model_to_train_finetuning.transformer = embedding_bert\n",
    "    model_to_train_finetuning.to(device)\n",
    "    optimizer = optim.Adam(model_to_train_finetuning.parameters(), lr=lr_finetuning)\n",
    "    \n",
    "    training_accuracies_finetuning, validation_accuracies_finetuning = run_training_loop(\n",
    "        model_to_train_finetuning, optimizer, device,\n",
    "        batch_size_finetuning, epochs_finetuning,\n",
    "        train_x_numerized, train_x_mask, train_y_per_sentence, valid_x_numerized, valid_x_mask, valid_y_per_sentence,\n",
    "        max_validation_examples=256,\n",
    "        model_id=experiment_id, tag=\"finetuning\"\n",
    "    )\n",
    "    \n",
    "    return embedding_bert, training_accuracies_finetuning, validation_accuracies_finetuning\n",
    "\n",
    "def store_finetuning(tup, folder):\n",
    "    embedding_bert, training_accuracies_finetuning, validation_accuracies_finetuning = tup\n",
    "    th.save(embedding_bert.state_dict(), f\"{folder}/model.pt\")\n",
    "    hickle.dump((training_accuracies_finetuning, validation_accuracies_finetuning), f\"{folder}/accuracies.hkl\", mode=\"w\")\n",
    "\n",
    "def load_finetuning(folder):\n",
    "    if regressive_style_finetuning:\n",
    "        embedding_bert = BertForSequenceClassification.from_pretrained(\"bert-base-uncased\", num_labels=1)\n",
    "    else:\n",
    "        embedding_bert = BertForSequenceClassification.from_pretrained(\"bert-base-uncased\", num_labels=9)\n",
    "    embedding_bert.load_state_dict(th.load(f\"{folder}/model.pt\"))\n",
    "    embedding_bert.eval()\n",
    "    embedding_bert.to(device)\n",
    "    training_accuracies_finetuning, validation_accuracies_finetuning = hickle.load(f\"{folder}/accuracies.hkl\")\n",
    "    return embedding_bert, training_accuracies_finetuning, validation_accuracies_finetuning"
   ]
  },
  {
   "cell_type": "code",
   "execution_count": 12,
   "id": "fatal-edward",
   "metadata": {
    "execution": {
     "iopub.execute_input": "2021-05-11T19:48:51.866882Z",
     "iopub.status.busy": "2021-05-11T19:48:51.866412Z",
     "iopub.status.idle": "2021-05-11T19:48:57.098876Z",
     "shell.execute_reply": "2021-05-11T19:48:57.098366Z"
    },
    "papermill": {
     "duration": 5.250814,
     "end_time": "2021-05-11T19:48:57.099016",
     "exception": false,
     "start_time": "2021-05-11T19:48:51.848202",
     "status": "completed"
    },
    "tags": []
   },
   "outputs": [
    {
     "name": "stderr",
     "output_type": "stream",
     "text": [
      "Some weights of the model checkpoint at bert-base-uncased were not used when initializing BertForSequenceClassification: ['cls.predictions.bias', 'cls.predictions.transform.dense.weight', 'cls.predictions.transform.dense.bias', 'cls.predictions.decoder.weight', 'cls.seq_relationship.weight', 'cls.seq_relationship.bias', 'cls.predictions.transform.LayerNorm.weight', 'cls.predictions.transform.LayerNorm.bias']\n",
      "- This IS expected if you are initializing BertForSequenceClassification from the checkpoint of a model trained on another task or with another architecture (e.g. initializing a BertForSequenceClassification model from a BertForPreTraining model).\n",
      "- This IS NOT expected if you are initializing BertForSequenceClassification from the checkpoint of a model that you expect to be exactly identical (initializing a BertForSequenceClassification model from a BertForSequenceClassification model).\n"
     ]
    },
    {
     "name": "stderr",
     "output_type": "stream",
     "text": [
      "Some weights of BertForSequenceClassification were not initialized from the model checkpoint at bert-base-uncased and are newly initialized: ['classifier.weight', 'classifier.bias']\n",
      "You should probably TRAIN this model on a down-stream task to be able to use it for predictions and inference.\n"
     ]
    }
   ],
   "source": [
    "from training_utils import run_training_loop\n",
    "\n",
    "from utils import memo_load\n",
    "finetuning_model_key = f\"cache-core/finetuning-batch-size-{batch_size_finetuning}-epochs-{epochs_finetuning}-lr-{lr_finetuning}-regressive-{regressive_style_finetuning}-data-{finetuning_data_hash}\"\n",
    "embedding_bert, training_accuracies_finetuning, validation_accuracies_finetuning = manual_memo(\n",
    "    train_finetuning, store_finetuning, load_finetuning,\n",
    "    finetuning_model_key\n",
    ")\n",
    "\n",
    "th.save(embedding_bert.state_dict(), f\"{experiment_dir}/finetuned-bert.pt\")\n",
    "hickle.dump((training_accuracies_finetuning, validation_accuracies_finetuning), f\"{experiment_dir}/finetuning-accuracies.hkl\", mode=\"w\")\n",
    "\n",
    "finetuning_model_hash = hash_file(finetuning_model_key + \"/model.pt\")"
   ]
  },
  {
   "cell_type": "code",
   "execution_count": 13,
   "id": "intensive-accessory",
   "metadata": {
    "execution": {
     "iopub.execute_input": "2021-05-11T19:48:57.141447Z",
     "iopub.status.busy": "2021-05-11T19:48:57.140973Z",
     "iopub.status.idle": "2021-05-11T19:48:57.523464Z",
     "shell.execute_reply": "2021-05-11T19:48:57.522868Z"
    },
    "papermill": {
     "duration": 0.405797,
     "end_time": "2021-05-11T19:48:57.523581",
     "exception": false,
     "start_time": "2021-05-11T19:48:57.117784",
     "status": "completed"
    },
    "tags": []
   },
   "outputs": [
    {
     "data": {
      "text/plain": [
       "<matplotlib.legend.Legend at 0x7fa848163c10>"
      ]
     },
     "execution_count": 13,
     "metadata": {},
     "output_type": "execute_result"
    },
    {
     "data": {
      "image/png": "[encoded data removed]",
      "text/plain": [
       "<Figure size 432x288 with 1 Axes>"
      ]
     },
     "metadata": {
      "needs_background": "light"
     },
     "output_type": "display_data"
    }
   ],
   "source": [
    "import matplotlib.pyplot as plt\n",
    "plt.plot(range(len(training_accuracies_finetuning)), training_accuracies_finetuning, label = \"Training Accuracy\")\n",
    "plt.plot(list(map(lambda x: x * 100, range(len(validation_accuracies_finetuning)))), validation_accuracies_finetuning, label = \"Validation Accuracy\")\n",
    "plt.xlabel(\"Training Iteration\")\n",
    "plt.ylabel(\"Accuracy\")\n",
    "plt.legend()"
   ]
  },
  {
   "cell_type": "code",
   "execution_count": 14,
   "id": "coordinated-victorian",
   "metadata": {
    "execution": {
     "iopub.execute_input": "2021-05-11T19:48:57.569792Z",
     "iopub.status.busy": "2021-05-11T19:48:57.569317Z",
     "iopub.status.idle": "2021-05-11T19:49:18.747800Z",
     "shell.execute_reply": "2021-05-11T19:49:18.748315Z"
    },
    "papermill": {
     "duration": 21.204869,
     "end_time": "2021-05-11T19:49:18.748470",
     "exception": false,
     "start_time": "2021-05-11T19:48:57.543601",
     "status": "completed"
    },
    "tags": []
   },
   "outputs": [],
   "source": [
    "import torch as th\n",
    "import numpy as np\n",
    "\n",
    "embedding_bert.to(device)\n",
    "\n",
    "def get_embeds(x_data):\n",
    "    concatted_shape = None\n",
    "    pad_value = None\n",
    "    embeds = []\n",
    "    for text in tqdm(x_data):\n",
    "        doc = nlp(text)\n",
    "        embeddeds = []\n",
    "        sents = [str(sent) for sent in doc.sents]\n",
    "        if sentence_pairs == True and len(sents) > 1:\n",
    "            sents = [a + b for a, b in zip(sents, sents[1:])]\n",
    "        if sentence_pairs == \"3\" and len(sents) > 2:\n",
    "            sents = [a + b + c for a, b, c in zip(sents, sents[1:], sents[2:])]\n",
    "        all_tokenized = []\n",
    "        for sentence in sents[:num_sentences]:\n",
    "            tokenized = tokenizer(sentence, truncation=True, padding=\"max_length\", max_length=max_tokenized_length)[0]\n",
    "            all_tokenized.append(tokenized.ids)\n",
    "        \n",
    "        with th.no_grad():\n",
    "            sentence_tensor = th.tensor(all_tokenized).to(device)\n",
    "            concatted = np.concatenate([\n",
    "                # take output corresponding to CLS\n",
    "                embedding_bert.bert(sentence_tensor, output_hidden_states=True, return_dict=True)[1].cpu().numpy(),\n",
    "                np.zeros((len(all_tokenized), 1))\n",
    "            ], axis=1)\n",
    "            \n",
    "            if not concatted_shape:\n",
    "                concatted_shape = concatted.shape\n",
    "                pad_value = np.zeros(concatted_shape[1])\n",
    "                pad_value[-1] = 1\n",
    "            \n",
    "            embeddeds += list(concatted)\n",
    "\n",
    "        if len(sents) < num_sentences:\n",
    "            embeddeds += [pad_value] * (num_sentences - len(sents))\n",
    "\n",
    "        embeds.append(embeddeds)\n",
    "    return np.array(embeds)\n",
    "\n",
    "main_data_key = f\"cache-core/training-data-main-max-tokens-{max_tokenized_length}-split-{split_hash}-finetuned-{finetuning_model_hash}\"\n",
    "train_x_embeds, valid_x_embeds = memo_load(\n",
    "    lambda: (\n",
    "        get_embeds(train_x),\n",
    "        get_embeds(valid_x)\n",
    "    ),\n",
    "    main_data_key\n",
    ")\n",
    "main_data_hash = hash_file(main_data_key + \".hkl\")"
   ]
  },
  {
   "cell_type": "code",
   "execution_count": 15,
   "id": "attached-delivery",
   "metadata": {
    "execution": {
     "iopub.execute_input": "2021-05-11T19:49:18.794983Z",
     "iopub.status.busy": "2021-05-11T19:49:18.794394Z",
     "iopub.status.idle": "2021-05-11T19:49:18.813435Z",
     "shell.execute_reply": "2021-05-11T19:49:18.812957Z"
    },
    "papermill": {
     "duration": 0.043858,
     "end_time": "2021-05-11T19:49:18.813551",
     "exception": false,
     "start_time": "2021-05-11T19:49:18.769693",
     "status": "completed"
    },
    "tags": []
   },
   "outputs": [],
   "source": [
    "from model_sentence_lstm import ReviewPredictionModel\n",
    "import torch as th\n",
    "import torch.optim as optim\n",
    "\n",
    "def train_main():\n",
    "    model_to_train = ReviewPredictionModel(train_x_embeds.shape[2], lstm_hidden_size, bidi_lstm=lstm_bidi)\n",
    "    model_to_train.to(device)\n",
    "    optimizer = optim.Adam(model_to_train.parameters(), lr=main_model_lr)\n",
    "    \n",
    "    training_accuracies, validation_accuracies = run_training_loop(\n",
    "        model_to_train, optimizer, device,\n",
    "        batch_size, epochs,\n",
    "        train_x_embeds, None, np.array(train_y), valid_x_embeds, None, np.array(valid_y),\n",
    "        model_id=experiment_id, max_validation_examples=512\n",
    "    )\n",
    "    \n",
    "    return model_to_train, training_accuracies, validation_accuracies\n",
    "\n",
    "def store_main(tup, folder):\n",
    "    model_to_train, training_accuracies, validation_accuracies = tup\n",
    "    th.save(model_to_train.state_dict(), f\"{folder}/model.pt\")\n",
    "    hickle.dump((training_accuracies, validation_accuracies), f\"{folder}/accuracies.hkl\", mode=\"w\")\n",
    "\n",
    "def load_main(folder):\n",
    "    model_to_train = ReviewPredictionModel(train_x_embeds.shape[2], lstm_hidden_size, bidi_lstm=lstm_bidi)\n",
    "    model_to_train.load_state_dict(th.load(f\"{folder}/model.pt\"))\n",
    "    model_to_train.eval()\n",
    "    model_to_train.to(device)\n",
    "    training_accuracies, validation_accuracies = hickle.load(f\"{folder}/accuracies.hkl\")\n",
    "    return model_to_train, training_accuracies, validation_accuracies"
   ]
  },
  {
   "cell_type": "code",
   "execution_count": 16,
   "id": "surprising-england",
   "metadata": {
    "execution": {
     "iopub.execute_input": "2021-05-11T19:49:18.856988Z",
     "iopub.status.busy": "2021-05-11T19:49:18.856436Z",
     "iopub.status.idle": "2021-05-11T19:49:19.165067Z",
     "shell.execute_reply": "2021-05-11T19:49:19.165480Z"
    },
    "papermill": {
     "duration": 0.331471,
     "end_time": "2021-05-11T19:49:19.165612",
     "exception": false,
     "start_time": "2021-05-11T19:49:18.834141",
     "status": "completed"
    },
    "tags": []
   },
   "outputs": [],
   "source": [
    "from training_utils import run_training_loop\n",
    "\n",
    "bidi_key = \"-bidi\" if lstm_bidi else \"\"\n",
    "main_model_key = f\"cache-core/main-model-lstm-{lstm_hidden_size}{bidi_key}-lr-{main_model_lr}-batch-size-{batch_size}-epochs-{epochs}-data-{main_data_hash}\"\n",
    "main_model, training_accuracies, validation_accuracies = manual_memo(\n",
    "    train_main, store_main, load_main,\n",
    "    main_model_key\n",
    ")\n",
    "\n",
    "th.save(main_model.state_dict(), f\"{experiment_dir}/main-model.pt\")\n",
    "hickle.dump((training_accuracies, validation_accuracies), f\"{experiment_dir}/main-accuracies.hkl\", mode=\"w\")"
   ]
  },
  {
   "cell_type": "code",
   "execution_count": 17,
   "id": "christian-fundamentals",
   "metadata": {
    "execution": {
     "iopub.execute_input": "2021-05-11T19:49:19.199856Z",
     "iopub.status.busy": "2021-05-11T19:49:19.199397Z",
     "iopub.status.idle": "2021-05-11T19:49:19.355659Z",
     "shell.execute_reply": "2021-05-11T19:49:19.356139Z"
    },
    "papermill": {
     "duration": 0.174757,
     "end_time": "2021-05-11T19:49:19.356269",
     "exception": false,
     "start_time": "2021-05-11T19:49:19.181512",
     "status": "completed"
    },
    "tags": []
   },
   "outputs": [
    {
     "data": {
      "text/plain": [
       "<matplotlib.legend.Legend at 0x7fa84763ee50>"
      ]
     },
     "execution_count": 17,
     "metadata": {},
     "output_type": "execute_result"
    },
    {
     "data": {
      "image/png": "[encoded data removed]",
      "text/plain": [
       "<Figure size 432x288 with 1 Axes>"
      ]
     },
     "metadata": {
      "needs_background": "light"
     },
     "output_type": "display_data"
    }
   ],
   "source": [
    "import matplotlib.pyplot as plt\n",
    "plt.plot(range(len(training_accuracies)), training_accuracies, label = \"Training Accuracy\")\n",
    "plt.plot(list(map(lambda x: x * 100, range(len(validation_accuracies)))), validation_accuracies, label = \"Validation Accuracy\")\n",
    "plt.xlabel(\"Training Iteration\")\n",
    "plt.ylabel(\"Accuracy\")\n",
    "plt.legend()"
   ]
  }
 ],
 "metadata": {
  "celltoolbar": "Tags",
  "kernelspec": {
   "display_name": "Python 3",
   "language": "python",
   "name": "python3"
  },
  "language_info": {
   "codemirror_mode": {
    "name": "ipython",
    "version": 3
   },
   "file_extension": ".py",
   "mimetype": "text/x-python",
   "name": "python",
   "nbconvert_exporter": "python",
   "pygments_lexer": "ipython3",
   "version": "3.7.10"
  },
  "papermill": {
   "default_parameters": {},
   "duration": 40.026949,
   "end_time": "2021-05-11T19:49:21.034821",
   "environment_variables": {},
   "exception": null,
   "input_path": "./model-training-sentence-lstm.ipynb",
   "output_path": "completed-experiments/classification-sentence-embeddings-balanced_categories-False-max_training_samples-200000-enable_orig-orig-enable_aug-False-enable_aug3-True-sentence_pairs-3-regressive_style_finetuning-False-lstm_bidi-False-lstm_hidden_size-2048-epochs-20.ipynb",
   "parameters": {
    "balanced_categories": false,
    "enable_aug": false,
    "enable_aug3": true,
    "enable_orig": "orig",
    "epochs": 20,
    "experiment_id": "classification-sentence-embeddings-balanced_categories-False-max_training_samples-200000-enable_orig-orig-enable_aug-False-enable_aug3-True-sentence_pairs-3-regressive_style_finetuning-False-lstm_bidi-False-lstm_hidden_size-2048-epochs-20",
    "lstm_bidi": false,
    "lstm_hidden_size": 2048,
    "max_training_samples": 200000,
    "regressive_style_finetuning": false,
    "sentence_pairs": "3"
   },
   "start_time": "2021-05-11T19:48:41.007872",
   "version": "2.3.3"
  }
 },
 "nbformat": 4,
 "nbformat_minor": 5
}