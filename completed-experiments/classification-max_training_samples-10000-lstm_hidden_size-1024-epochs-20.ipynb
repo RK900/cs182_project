{
 "cells": [
  {
   "cell_type": "code",
   "execution_count": 1,
   "id": "skilled-vertex",
   "metadata": {
    "execution": {
     "iopub.execute_input": "2021-05-06T01:22:06.073853Z",
     "iopub.status.busy": "2021-05-06T01:22:06.073360Z",
     "iopub.status.idle": "2021-05-06T01:22:06.262434Z",
     "shell.execute_reply": "2021-05-06T01:22:06.262085Z"
    },
    "papermill": {
     "duration": 0.238102,
     "end_time": "2021-05-06T01:22:06.262514",
     "exception": false,
     "start_time": "2021-05-06T01:22:06.024412",
     "status": "completed"
    },
    "tags": []
   },
   "outputs": [],
   "source": [
    "%load_ext autoreload\n",
    "%autoreload 2\n",
    "\n",
    "from tqdm import tqdm\n",
    "from segtok import tokenizer\n",
    "from utils import *\n",
    "import hickle"
   ]
  },
  {
   "cell_type": "code",
   "execution_count": 2,
   "id": "wrapped-diploma",
   "metadata": {
    "execution": {
     "iopub.execute_input": "2021-05-06T01:22:06.288535Z",
     "iopub.status.busy": "2021-05-06T01:22:06.288021Z",
     "iopub.status.idle": "2021-05-06T01:22:06.295064Z",
     "shell.execute_reply": "2021-05-06T01:22:06.294483Z"
    },
    "papermill": {
     "duration": 0.023771,
     "end_time": "2021-05-06T01:22:06.295169",
     "exception": false,
     "start_time": "2021-05-06T01:22:06.271398",
     "status": "completed"
    },
    "tags": [
     "parameters"
    ]
   },
   "outputs": [],
   "source": [
    "# Key Hyperparameters\n",
    "enable_orig = True\n",
    "enable_aug = False\n",
    "enable_aug3 = False\n",
    "max_training_samples = 100000\n",
    "max_tokenized_length = 64\n",
    "num_sentences = 10\n",
    "valid_percent = 0.01\n",
    "\n",
    "batch_size_finetuning = 32\n",
    "epochs_finetuning = 1\n",
    "lr_finetuning = 1e-5\n",
    "\n",
    "batch_size = 128\n",
    "epochs = 20\n",
    "main_model_lr = 1e-5\n",
    "\n",
    "lstm_hidden_size = 1024\n",
    "\n",
    "experiment_id = f\"test\""
   ]
  },
  {
   "cell_type": "code",
   "execution_count": 3,
   "id": "chinese-religion",
   "metadata": {
    "execution": {
     "iopub.execute_input": "2021-05-06T01:22:06.321115Z",
     "iopub.status.busy": "2021-05-06T01:22:06.320805Z",
     "iopub.status.idle": "2021-05-06T01:22:06.327498Z",
     "shell.execute_reply": "2021-05-06T01:22:06.327202Z"
    },
    "papermill": {
     "duration": 0.019129,
     "end_time": "2021-05-06T01:22:06.327561",
     "exception": false,
     "start_time": "2021-05-06T01:22:06.308432",
     "status": "completed"
    },
    "tags": [
     "injected-parameters"
    ]
   },
   "outputs": [],
   "source": [
    "# Parameters\n",
    "max_training_samples = 10000\n",
    "lstm_hidden_size = 1024\n",
    "epochs = 20\n",
    "experiment_id = (\n",
    "    \"classification-max_training_samples-10000-lstm_hidden_size-1024-epochs-20\"\n",
    ")\n"
   ]
  },
  {
   "cell_type": "code",
   "execution_count": 4,
   "id": "rental-mechanism",
   "metadata": {
    "execution": {
     "iopub.execute_input": "2021-05-06T01:22:06.346434Z",
     "iopub.status.busy": "2021-05-06T01:22:06.346135Z",
     "iopub.status.idle": "2021-05-06T01:22:06.355993Z",
     "shell.execute_reply": "2021-05-06T01:22:06.355734Z"
    },
    "papermill": {
     "duration": 0.020218,
     "end_time": "2021-05-06T01:22:06.356070",
     "exception": false,
     "start_time": "2021-05-06T01:22:06.335852",
     "status": "completed"
    },
    "tags": []
   },
   "outputs": [],
   "source": [
    "import os\n",
    "experiment_dir = f\"completed-experiments/{experiment_id}\"\n",
    "if not os.path.exists(experiment_dir):\n",
    "    os.makedirs(experiment_dir)"
   ]
  },
  {
   "cell_type": "code",
   "execution_count": 5,
   "id": "sharing-prime",
   "metadata": {
    "execution": {
     "iopub.execute_input": "2021-05-06T01:22:06.375122Z",
     "iopub.status.busy": "2021-05-06T01:22:06.374805Z",
     "iopub.status.idle": "2021-05-06T01:22:08.966808Z",
     "shell.execute_reply": "2021-05-06T01:22:08.966252Z"
    },
    "papermill": {
     "duration": 2.602493,
     "end_time": "2021-05-06T01:22:08.966909",
     "exception": false,
     "start_time": "2021-05-06T01:22:06.364416",
     "status": "completed"
    },
    "tags": []
   },
   "outputs": [],
   "source": [
    "from data_parsing import load_dataset, load_gen_dataset\n",
    "data = load_dataset(\"./yelp_review_training_dataset.jsonl\")"
   ]
  },
  {
   "cell_type": "code",
   "execution_count": 6,
   "id": "common-tampa",
   "metadata": {
    "execution": {
     "iopub.execute_input": "2021-05-06T01:22:08.996583Z",
     "iopub.status.busy": "2021-05-06T01:22:08.996116Z",
     "iopub.status.idle": "2021-05-06T01:22:11.933689Z",
     "shell.execute_reply": "2021-05-06T01:22:11.933074Z"
    },
    "papermill": {
     "duration": 2.953918,
     "end_time": "2021-05-06T01:22:11.933814",
     "exception": false,
     "start_time": "2021-05-06T01:22:08.979896",
     "status": "completed"
    },
    "tags": []
   },
   "outputs": [],
   "source": [
    "from training_utils import split_train_validation\n",
    "def get_train_valid():\n",
    "    train_x, valid_x, train_y, valid_y = split_train_validation(data, 0.01)\n",
    "\n",
    "    if not enable_orig:\n",
    "        train_x = []\n",
    "        train_y = []\n",
    "\n",
    "    if enable_aug:\n",
    "        aug_data = load_gen_dataset(\"./new_data.json\") + load_gen_dataset(\"./new_data2.json\")\n",
    "        train_x += [i[0] for i in aug_data]\n",
    "        train_y += [i[1] for i in aug_data]\n",
    "\n",
    "    if enable_aug3:\n",
    "        aug_data3 = load_gen_dataset(\"./new_data3.json\")\n",
    "        train_x += [i[0] for i in aug_data3]\n",
    "        train_y += [i[1] for i in aug_data3]\n",
    "    \n",
    "    return [x.encode(\"utf-8\") for x in train_x], [x.encode(\"utf-8\") for x in valid_x], train_y, valid_y\n",
    "\n",
    "split_key = f\"cache-core/split-data-{valid_percent}-orig-{enable_orig}-aug12-{enable_aug}-aug3-{enable_aug3}\"\n",
    "train_x, valid_x, train_y, valid_y = memo_load(\n",
    "    get_train_valid,\n",
    "    split_key\n",
    ")\n",
    "\n",
    "train_x = [x.decode(\"utf-8\") for x in train_x]\n",
    "valid_x = [x.decode(\"utf-8\") for x in valid_x]"
   ]
  },
  {
   "cell_type": "code",
   "execution_count": 7,
   "id": "subjective-specific",
   "metadata": {
    "execution": {
     "iopub.execute_input": "2021-05-06T01:22:11.969166Z",
     "iopub.status.busy": "2021-05-06T01:22:11.968564Z",
     "iopub.status.idle": "2021-05-06T01:22:11.979873Z",
     "shell.execute_reply": "2021-05-06T01:22:11.979373Z"
    },
    "papermill": {
     "duration": 0.029683,
     "end_time": "2021-05-06T01:22:11.979985",
     "exception": false,
     "start_time": "2021-05-06T01:22:11.950302",
     "status": "completed"
    },
    "tags": []
   },
   "outputs": [
    {
     "name": "stdout",
     "output_type": "stream",
     "text": [
      "528245\n",
      "528245\n",
      "5336\n",
      "5336\n"
     ]
    }
   ],
   "source": [
    "print(len(train_x))\n",
    "print(len(train_y))\n",
    "print(len(valid_x))\n",
    "print(len(valid_y))"
   ]
  },
  {
   "cell_type": "code",
   "execution_count": 8,
   "id": "excess-emission",
   "metadata": {
    "execution": {
     "iopub.execute_input": "2021-05-06T01:22:12.012371Z",
     "iopub.status.busy": "2021-05-06T01:22:12.011617Z",
     "iopub.status.idle": "2021-05-06T01:22:12.906317Z",
     "shell.execute_reply": "2021-05-06T01:22:12.905691Z"
    },
    "papermill": {
     "duration": 0.90998,
     "end_time": "2021-05-06T01:22:12.906438",
     "exception": false,
     "start_time": "2021-05-06T01:22:11.996458",
     "status": "completed"
    },
    "tags": []
   },
   "outputs": [
    {
     "name": "stdout",
     "output_type": "stream",
     "text": [
      "cuda\n"
     ]
    },
    {
     "data": {
      "text/plain": [
       "<spacy.pipeline.sentencizer.Sentencizer at 0x7fb2ac05beb0>"
      ]
     },
     "execution_count": 8,
     "metadata": {},
     "output_type": "execute_result"
    }
   ],
   "source": [
    "import torch as th\n",
    "\n",
    "device = th.device(\"cuda\" if th.cuda.is_available() else \"cpu\")\n",
    "print(device)\n",
    "\n",
    "from spacy.lang.en import English\n",
    "nlp = English()\n",
    "nlp.add_pipe(\"sentencizer\")"
   ]
  },
  {
   "cell_type": "code",
   "execution_count": 9,
   "id": "reduced-silly",
   "metadata": {
    "execution": {
     "iopub.execute_input": "2021-05-06T01:22:12.945792Z",
     "iopub.status.busy": "2021-05-06T01:22:12.945269Z",
     "iopub.status.idle": "2021-05-06T01:22:14.123303Z",
     "shell.execute_reply": "2021-05-06T01:22:14.122760Z"
    },
    "papermill": {
     "duration": 1.198285,
     "end_time": "2021-05-06T01:22:14.123431",
     "exception": false,
     "start_time": "2021-05-06T01:22:12.925146",
     "status": "completed"
    },
    "tags": []
   },
   "outputs": [],
   "source": [
    "from transformers import BertTokenizerFast, BertForSequenceClassification\n",
    "tokenizer = BertTokenizerFast.from_pretrained(\"bert-base-uncased\")"
   ]
  },
  {
   "cell_type": "code",
   "execution_count": 10,
   "id": "golden-saver",
   "metadata": {
    "execution": {
     "iopub.execute_input": "2021-05-06T01:22:14.168312Z",
     "iopub.status.busy": "2021-05-06T01:22:14.167704Z",
     "iopub.status.idle": "2021-05-06T01:22:14.252605Z",
     "shell.execute_reply": "2021-05-06T01:22:14.252030Z"
    },
    "papermill": {
     "duration": 0.111633,
     "end_time": "2021-05-06T01:22:14.252719",
     "exception": false,
     "start_time": "2021-05-06T01:22:14.141086",
     "status": "completed"
    },
    "tags": []
   },
   "outputs": [],
   "source": [
    "# fine tune the BERT\n",
    "import numpy as np\n",
    "\n",
    "def get_finetuning_data():\n",
    "    train_x_numerized = []\n",
    "    train_x_mask = []\n",
    "    train_y_per_sentence = []\n",
    "    for i, text in tqdm(list(enumerate(train_x[:max_training_samples]))):\n",
    "        doc = nlp(text)\n",
    "        sents = [str(sent) for sent in doc.sents]\n",
    "        for sentence in sents[:num_sentences]:\n",
    "            tokenized = tokenizer(sentence, truncation=True, padding=\"max_length\", max_length=max_tokenized_length)[0]\n",
    "            train_x_numerized.append(tokenized.ids)\n",
    "            train_x_mask.append(tokenized.attention_mask)\n",
    "            train_y_per_sentence.append(train_y[i])\n",
    "\n",
    "    valid_x_numerized = []\n",
    "    valid_x_mask = []\n",
    "    valid_y_per_sentence = []\n",
    "    for i, text in tqdm(list(enumerate(valid_x))):\n",
    "        doc = nlp(text)\n",
    "        sents = [str(sent) for sent in doc.sents]\n",
    "        for sentence in sents[:num_sentences]:\n",
    "            tokenized = tokenizer(sentence, truncation=True, padding=\"max_length\", max_length=max_tokenized_length)[0]\n",
    "            valid_x_numerized.append(tokenized.ids)\n",
    "            valid_x_mask.append(tokenized.attention_mask)\n",
    "            valid_y_per_sentence.append(valid_y[i])\n",
    "\n",
    "    train_x_numerized = np.array(train_x_numerized)\n",
    "    train_x_mask = np.array(train_x_mask)\n",
    "    train_y_per_sentence = np.array(train_y_per_sentence)\n",
    "    valid_x_numerized = np.array(valid_x_numerized)\n",
    "    valid_x_mask = np.array(valid_x_mask)\n",
    "    valid_y_per_sentence = np.array(valid_y_per_sentence)\n",
    "    return train_x_numerized, train_x_mask, train_y_per_sentence, valid_x_numerized, valid_x_mask, valid_y_per_sentence\n",
    "\n",
    "from utils import memo_load\n",
    "finetuning_data_key = f\"cache-core/training-data-finetuning-max-samples-{max_training_samples}-max-tokens-{max_tokenized_length}-split-{hash_key(split_key)}\"\n",
    "(train_x_numerized, train_x_mask, train_y_per_sentence, valid_x_numerized, valid_x_mask, valid_y_per_sentence) = memo_load(\n",
    "    lambda: get_finetuning_data(),\n",
    "    finetuning_data_key\n",
    ")"
   ]
  },
  {
   "cell_type": "code",
   "execution_count": 11,
   "id": "vital-blues",
   "metadata": {
    "execution": {
     "iopub.execute_input": "2021-05-06T01:22:14.292229Z",
     "iopub.status.busy": "2021-05-06T01:22:14.291749Z",
     "iopub.status.idle": "2021-05-06T01:22:14.309334Z",
     "shell.execute_reply": "2021-05-06T01:22:14.308807Z"
    },
    "papermill": {
     "duration": 0.039139,
     "end_time": "2021-05-06T01:22:14.309449",
     "exception": false,
     "start_time": "2021-05-06T01:22:14.270310",
     "status": "completed"
    },
    "tags": []
   },
   "outputs": [],
   "source": [
    "from model import ReviewPredictionModel\n",
    "import torch.optim as optim\n",
    "\n",
    "def train_finetuning():\n",
    "    embedding_bert = BertForSequenceClassification.from_pretrained(\"bert-base-uncased\", num_labels=9)\n",
    "\n",
    "    model_to_train_finetuning = ReviewPredictionModel(0, max_tokenized_length)\n",
    "    model_to_train_finetuning.transformer = embedding_bert\n",
    "    model_to_train_finetuning.to(device)\n",
    "    optimizer = optim.Adam(model_to_train_finetuning.parameters(), lr=lr_finetuning)\n",
    "    \n",
    "    training_accuracies_finetuning, validation_accuracies_finetuning = run_training_loop(\n",
    "        model_to_train_finetuning, optimizer, device,\n",
    "        batch_size_finetuning, epochs_finetuning,\n",
    "        train_x_numerized, train_x_mask, train_y_per_sentence, valid_x_numerized, valid_x_mask, valid_y_per_sentence,\n",
    "        max_validation_examples=256,\n",
    "        model_id=experiment_id, tag=\"finetuning\"\n",
    "    )\n",
    "    \n",
    "    return embedding_bert, training_accuracies_finetuning, validation_accuracies_finetuning\n",
    "\n",
    "def store_finetuning(tup, folder):\n",
    "    embedding_bert, training_accuracies_finetuning, validation_accuracies_finetuning = tup\n",
    "    th.save(embedding_bert.state_dict(), f\"{folder}/model.pt\")\n",
    "    hickle.dump((training_accuracies_finetuning, validation_accuracies_finetuning), f\"{folder}/accuracies.hkl\", mode=\"w\")\n",
    "\n",
    "def load_finetuning(folder):\n",
    "    embedding_bert = BertForSequenceClassification.from_pretrained(\"bert-base-uncased\", num_labels=9)\n",
    "    embedding_bert.load_state_dict(th.load(f\"{folder}/model.pt\"))\n",
    "    embedding_bert.eval()\n",
    "    embedding_bert.to(device)\n",
    "    training_accuracies_finetuning, validation_accuracies_finetuning = hickle.load(f\"{folder}/accuracies.hkl\")\n",
    "    return embedding_bert, training_accuracies_finetuning, validation_accuracies_finetuning"
   ]
  },
  {
   "cell_type": "code",
   "execution_count": 12,
   "id": "fatal-edward",
   "metadata": {
    "execution": {
     "iopub.execute_input": "2021-05-06T01:22:14.344333Z",
     "iopub.status.busy": "2021-05-06T01:22:14.343749Z",
     "iopub.status.idle": "2021-05-06T01:22:18.941900Z",
     "shell.execute_reply": "2021-05-06T01:22:18.941338Z"
    },
    "papermill": {
     "duration": 4.615416,
     "end_time": "2021-05-06T01:22:18.942034",
     "exception": false,
     "start_time": "2021-05-06T01:22:14.326618",
     "status": "completed"
    },
    "tags": []
   },
   "outputs": [
    {
     "name": "stderr",
     "output_type": "stream",
     "text": [
      "Some weights of the model checkpoint at bert-base-uncased were not used when initializing BertForSequenceClassification: ['cls.predictions.bias', 'cls.predictions.transform.dense.weight', 'cls.predictions.transform.dense.bias', 'cls.predictions.decoder.weight', 'cls.seq_relationship.weight', 'cls.seq_relationship.bias', 'cls.predictions.transform.LayerNorm.weight', 'cls.predictions.transform.LayerNorm.bias']\n",
      "- This IS expected if you are initializing BertForSequenceClassification from the checkpoint of a model trained on another task or with another architecture (e.g. initializing a BertForSequenceClassification model from a BertForPreTraining model).\n",
      "- This IS NOT expected if you are initializing BertForSequenceClassification from the checkpoint of a model that you expect to be exactly identical (initializing a BertForSequenceClassification model from a BertForSequenceClassification model).\n"
     ]
    },
    {
     "name": "stderr",
     "output_type": "stream",
     "text": [
      "Some weights of BertForSequenceClassification were not initialized from the model checkpoint at bert-base-uncased and are newly initialized: ['classifier.weight', 'classifier.bias']\n",
      "You should probably TRAIN this model on a down-stream task to be able to use it for predictions and inference.\n"
     ]
    }
   ],
   "source": [
    "from training_utils import run_training_loop\n",
    "\n",
    "from utils import memo_load\n",
    "finetuning_model_key = f\"cache-core/finetuning-batch-size-{batch_size_finetuning}-epochs-{epochs_finetuning}-lr-{lr_finetuning}-data-{hash_key(finetuning_data_key)}\"\n",
    "embedding_bert, training_accuracies_finetuning, validation_accuracies_finetuning = manual_memo(\n",
    "    train_finetuning, store_finetuning, load_finetuning,\n",
    "    finetuning_model_key\n",
    ")\n",
    "\n",
    "th.save(embedding_bert.state_dict(), f\"{experiment_dir}/finetuned-bert.pt\")\n",
    "hickle.dump((training_accuracies_finetuning, validation_accuracies_finetuning), f\"{experiment_dir}/finetuning-accuracies.hkl\", mode=\"w\")"
   ]
  },
  {
   "cell_type": "code",
   "execution_count": 13,
   "id": "intensive-accessory",
   "metadata": {
    "execution": {
     "iopub.execute_input": "2021-05-06T01:22:18.981239Z",
     "iopub.status.busy": "2021-05-06T01:22:18.980769Z",
     "iopub.status.idle": "2021-05-06T01:22:19.306714Z",
     "shell.execute_reply": "2021-05-06T01:22:19.306123Z"
    },
    "papermill": {
     "duration": 0.346493,
     "end_time": "2021-05-06T01:22:19.306828",
     "exception": false,
     "start_time": "2021-05-06T01:22:18.960335",
     "status": "completed"
    },
    "tags": []
   },
   "outputs": [
    {
     "data": {
      "text/plain": [
       "<matplotlib.legend.Legend at 0x7fb2ab40f710>"
      ]
     },
     "execution_count": 13,
     "metadata": {},
     "output_type": "execute_result"
    },
    {
     "data": {
      "image/png": "[encoded data removed]",
      "text/plain": [
       "<Figure size 432x288 with 1 Axes>"
      ]
     },
     "metadata": {
      "needs_background": "light"
     },
     "output_type": "display_data"
    }
   ],
   "source": [
    "import matplotlib.pyplot as plt\n",
    "plt.plot(range(len(training_accuracies_finetuning)), training_accuracies_finetuning, label = \"Training Accuracy\")\n",
    "plt.plot(list(map(lambda x: x * 100, range(len(validation_accuracies_finetuning)))), validation_accuracies_finetuning, label = \"Validation Accuracy\")\n",
    "plt.xlabel(\"Training Iteration\")\n",
    "plt.ylabel(\"Accuracy\")\n",
    "plt.legend()"
   ]
  },
  {
   "cell_type": "code",
   "execution_count": 14,
   "id": "coordinated-victorian",
   "metadata": {
    "execution": {
     "iopub.execute_input": "2021-05-06T01:22:19.350828Z",
     "iopub.status.busy": "2021-05-06T01:22:19.350357Z",
     "iopub.status.idle": "2021-05-06T01:22:20.656275Z",
     "shell.execute_reply": "2021-05-06T01:22:20.655743Z"
    },
    "papermill": {
     "duration": 1.329658,
     "end_time": "2021-05-06T01:22:20.656400",
     "exception": false,
     "start_time": "2021-05-06T01:22:19.326742",
     "status": "completed"
    },
    "tags": []
   },
   "outputs": [],
   "source": [
    "import torch as th\n",
    "import numpy as np\n",
    "\n",
    "embedding_bert.to(device)\n",
    "\n",
    "def get_embeds(x_data):\n",
    "    concatted_shape = None\n",
    "    pad_value = None\n",
    "    embeds = []\n",
    "    for text in tqdm(x_data):\n",
    "        doc = nlp(text)\n",
    "        embeddeds = []\n",
    "        sents = list(doc.sents)\n",
    "        all_tokenized = []\n",
    "        for sentence in sents[:num_sentences]:\n",
    "            sentence = str(sentence)\n",
    "            tokenized = tokenizer(sentence, truncation=True, padding=\"max_length\", max_length=max_tokenized_length)[0]\n",
    "            all_tokenized.append(tokenized.ids)\n",
    "        \n",
    "        with th.no_grad():\n",
    "            sentence_tensor = th.tensor(all_tokenized).to(device)\n",
    "            concatted = np.concatenate([\n",
    "                # take output corresponding to CLS\n",
    "                embedding_bert.bert(sentence_tensor, output_hidden_states=True, return_dict=True)[1].cpu().numpy(),\n",
    "                np.zeros((len(all_tokenized), 1))\n",
    "            ], axis=1)\n",
    "            \n",
    "            if not concatted_shape:\n",
    "                concatted_shape = concatted.shape\n",
    "                pad_value = np.zeros(concatted_shape[1])\n",
    "                pad_value[-1] = 1\n",
    "            \n",
    "            embeddeds += list(concatted)\n",
    "\n",
    "        if len(sents) < num_sentences:\n",
    "            embeddeds += [pad_value] * (num_sentences - len(sents))\n",
    "\n",
    "        embeds.append(embeddeds)\n",
    "    return np.array(embeds)\n",
    "\n",
    "main_data_key = f\"cache-core/training-data-main-max-samples-{max_training_samples}-max-tokens-{max_tokenized_length}-split-{hash_key(split_key)}-finetuned-{hash_key(finetuning_model_key)}\"\n",
    "train_x_embeds, valid_x_embeds = memo_load(\n",
    "    lambda: (\n",
    "        get_embeds(train_x[:max_training_samples]),\n",
    "        get_embeds(valid_x)\n",
    "    ),\n",
    "    main_data_key\n",
    ")"
   ]
  },
  {
   "cell_type": "code",
   "execution_count": 15,
   "id": "attached-delivery",
   "metadata": {
    "execution": {
     "iopub.execute_input": "2021-05-06T01:22:20.702407Z",
     "iopub.status.busy": "2021-05-06T01:22:20.701930Z",
     "iopub.status.idle": "2021-05-06T01:22:20.719489Z",
     "shell.execute_reply": "2021-05-06T01:22:20.719033Z"
    },
    "papermill": {
     "duration": 0.042237,
     "end_time": "2021-05-06T01:22:20.719578",
     "exception": false,
     "start_time": "2021-05-06T01:22:20.677341",
     "status": "completed"
    },
    "tags": []
   },
   "outputs": [],
   "source": [
    "from model_sentence_lstm import ReviewPredictionModel\n",
    "import torch as th\n",
    "import torch.optim as optim\n",
    "\n",
    "def train_main():\n",
    "    print(train_x_embeds.shape)\n",
    "    model_to_train = ReviewPredictionModel(train_x_embeds.shape[2], lstm_hidden_size)\n",
    "    model_to_train.to(device)\n",
    "    optimizer = optim.Adam(model_to_train.parameters(), lr=main_model_lr)\n",
    "    \n",
    "    training_accuracies, validation_accuracies = run_training_loop(\n",
    "        model_to_train, optimizer, device,\n",
    "        batch_size, epochs,\n",
    "        train_x_embeds, None, np.array(train_y), valid_x_embeds, None, np.array(valid_y),\n",
    "        model_id=experiment_id, max_validation_examples=256\n",
    "    )\n",
    "    \n",
    "    return model_to_train, training_accuracies, validation_accuracies\n",
    "\n",
    "def store_main(tup, folder):\n",
    "    model_to_train, training_accuracies, validation_accuracies = tup\n",
    "    th.save(model_to_train.state_dict(), f\"{folder}/model.pt\")\n",
    "    hickle.dump((training_accuracies, validation_accuracies), f\"{folder}/accuracies.hkl\", mode=\"w\")\n",
    "\n",
    "def load_main(folder):\n",
    "    model_to_train = ReviewPredictionModel(train_x_embeds.shape[2], lstm_hidden_size)\n",
    "    model_to_train.load_state_dict(th.load(f\"{folder}/model.pt\"))\n",
    "    model_to_train.eval()\n",
    "    model_to_train.to(device)\n",
    "    training_accuracies, validation_accuracies = hickle.load(f\"{folder}/accuracies.hkl\")\n",
    "    return model_to_train, training_accuracies, validation_accuracies"
   ]
  },
  {
   "cell_type": "code",
   "execution_count": 16,
   "id": "surprising-england",
   "metadata": {
    "execution": {
     "iopub.execute_input": "2021-05-06T01:22:20.756158Z",
     "iopub.status.busy": "2021-05-06T01:22:20.755869Z",
     "iopub.status.idle": "2021-05-06T01:22:20.841875Z",
     "shell.execute_reply": "2021-05-06T01:22:20.841297Z"
    },
    "papermill": {
     "duration": 0.102922,
     "end_time": "2021-05-06T01:22:20.841951",
     "exception": false,
     "start_time": "2021-05-06T01:22:20.739029",
     "status": "completed"
    },
    "tags": []
   },
   "outputs": [],
   "source": [
    "from training_utils import run_training_loop\n",
    "\n",
    "main_model_key = f\"cache-core/main-model-lstm-{lstm_hidden_size}-lr-{main_model_lr}-batch-size-{batch_size}-epochs-{epochs}-data-{hash_key(main_data_key)}\"\n",
    "main_model, training_accuracies, validation_accuracies = manual_memo(\n",
    "    train_main, store_main, load_main,\n",
    "    main_model_key\n",
    ")\n",
    "\n",
    "th.save(main_model.state_dict(), f\"{experiment_dir}/main-model.pt\")\n",
    "hickle.dump((training_accuracies, validation_accuracies), f\"{experiment_dir}/main-accuracies.hkl\", mode=\"w\")"
   ]
  },
  {
   "cell_type": "code",
   "execution_count": 17,
   "id": "christian-fundamentals",
   "metadata": {
    "execution": {
     "iopub.execute_input": "2021-05-06T01:22:20.864017Z",
     "iopub.status.busy": "2021-05-06T01:22:20.863717Z",
     "iopub.status.idle": "2021-05-06T01:22:20.977564Z",
     "shell.execute_reply": "2021-05-06T01:22:20.977100Z"
    },
    "papermill": {
     "duration": 0.125916,
     "end_time": "2021-05-06T01:22:20.977652",
     "exception": false,
     "start_time": "2021-05-06T01:22:20.851736",
     "status": "completed"
    },
    "tags": []
   },
   "outputs": [
    {
     "data": {
      "text/plain": [
       "<matplotlib.legend.Legend at 0x7fb2ab27de10>"
      ]
     },
     "execution_count": 17,
     "metadata": {},
     "output_type": "execute_result"
    },
    {
     "data": {
      "image/png": "[encoded data removed]",
      "text/plain": [
       "<Figure size 432x288 with 1 Axes>"
      ]
     },
     "metadata": {
      "needs_background": "light"
     },
     "output_type": "display_data"
    }
   ],
   "source": [
    "import matplotlib.pyplot as plt\n",
    "plt.plot(range(len(training_accuracies)), training_accuracies, label = \"Training Accuracy\")\n",
    "plt.plot(list(map(lambda x: x * 100, range(len(validation_accuracies)))), validation_accuracies, label = \"Validation Accuracy\")\n",
    "plt.xlabel(\"Training Iteration\")\n",
    "plt.ylabel(\"Accuracy\")\n",
    "plt.legend()"
   ]
  }
 ],
 "metadata": {
  "celltoolbar": "Tags",
  "kernelspec": {
   "display_name": "Python 3",
   "language": "python",
   "name": "python3"
  },
  "language_info": {
   "codemirror_mode": {
    "name": "ipython",
    "version": 3
   },
   "file_extension": ".py",
   "mimetype": "text/x-python",
   "name": "python",
   "nbconvert_exporter": "python",
   "pygments_lexer": "ipython3",
   "version": "3.7.10"
  },
  "papermill": {
   "default_parameters": {},
   "duration": 17.021681,
   "end_time": "2021-05-06T01:22:22.414338",
   "environment_variables": {},
   "exception": null,
   "input_path": "./model-training-sentence-lstm.ipynb",
   "output_path": "completed-experiments/classification-max_training_samples-10000-lstm_hidden_size-1024-epochs-20.ipynb",
   "parameters": {
    "epochs": 20,
    "experiment_id": "classification-max_training_samples-10000-lstm_hidden_size-1024-epochs-20",
    "lstm_hidden_size": 1024,
    "max_training_samples": 10000
   },
   "start_time": "2021-05-06T01:22:05.392657",
   "version": "2.3.3"
  }
 },
 "nbformat": 4,
 "nbformat_minor": 5
}