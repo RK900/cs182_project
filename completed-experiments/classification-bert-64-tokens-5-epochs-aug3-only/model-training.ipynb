{
 "cells": [
  {
   "cell_type": "code",
   "execution_count": null,
   "id": "0AzpcowXL92I",
   "metadata": {
    "colab": {
     "base_uri": "https://localhost:8080/"
    },
    "executionInfo": {
     "elapsed": 16803,
     "status": "ok",
     "timestamp": 1619634290881,
     "user": {
      "displayName": "Shadaj Laddad",
      "photoUrl": "https://lh3.googleusercontent.com/a-/AOh14GgLWa6dVmWxyJZ_InzgX-_A0Ns3qoTMV2BHeYoj=s64",
      "userId": "09214701577395115204"
     },
     "user_tz": 420
    },
    "id": "0AzpcowXL92I",
    "outputId": "ddf012ae-cd21-46b2-c67a-4add795078d8"
   },
   "outputs": [],
   "source": [
    "from google.colab import drive\n",
    "drive.mount('/drive')"
   ]
  },
  {
   "cell_type": "code",
   "execution_count": null,
   "id": "2v6Mc_xCMdn0",
   "metadata": {
    "colab": {
     "base_uri": "https://localhost:8080/"
    },
    "executionInfo": {
     "elapsed": 9262,
     "status": "ok",
     "timestamp": 1619634301856,
     "user": {
      "displayName": "Shadaj Laddad",
      "photoUrl": "https://lh3.googleusercontent.com/a-/AOh14GgLWa6dVmWxyJZ_InzgX-_A0Ns3qoTMV2BHeYoj=s64",
      "userId": "09214701577395115204"
     },
     "user_tz": 420
    },
    "id": "2v6Mc_xCMdn0",
    "outputId": "1626187a-5000-49a7-e8dd-3ee5eb20a7e0"
   },
   "outputs": [],
   "source": [
    "%%bash\n",
    "cd ..\n",
    "rm -rf content\n",
    "ln -s /drive/MyDrive/cs182_project content\n",
    "cd content\n",
    "\n",
    "pip install -r requirements.txt"
   ]
  },
  {
   "cell_type": "markdown",
   "id": "SZDbi6J3ORkL",
   "metadata": {
    "id": "SZDbi6J3ORkL"
   },
   "source": [
    "# RESTART YOUR RUNTIME NOW!"
   ]
  },
  {
   "cell_type": "code",
   "execution_count": 1,
   "id": "unlimited-above",
   "metadata": {
    "executionInfo": {
     "elapsed": 176,
     "status": "ok",
     "timestamp": 1619636816363,
     "user": {
      "displayName": "Shadaj Laddad",
      "photoUrl": "https://lh3.googleusercontent.com/a-/AOh14GgLWa6dVmWxyJZ_InzgX-_A0Ns3qoTMV2BHeYoj=s64",
      "userId": "09214701577395115204"
     },
     "user_tz": 420
    },
    "id": "unlimited-above"
   },
   "outputs": [],
   "source": [
    "%load_ext autoreload\n",
    "%autoreload 2\n",
    "\n",
    "from tqdm.notebook import tqdm\n",
    "from segtok import tokenizer"
   ]
  },
  {
   "cell_type": "code",
   "execution_count": 2,
   "id": "sized-tenant",
   "metadata": {},
   "outputs": [],
   "source": [
    "# Key Hyperparameters\n",
    "max_tokenized_length = 64\n",
    "enable_orig = False\n",
    "enable_aug = False\n",
    "enable_aug3 = True\n",
    "\n",
    "batch_size = 8\n",
    "epochs = 5\n",
    "\n",
    "experiment_id = \"classification-bert-64-tokens-5-epochs-aug3-only\""
   ]
  },
  {
   "cell_type": "code",
   "execution_count": 3,
   "id": "color-korea",
   "metadata": {},
   "outputs": [],
   "source": [
    "import os\n",
    "experiment_dir = f\"completed-experiments/{experiment_id}\"\n",
    "assert not os.path.exists(experiment_dir)\n",
    "os.makedirs(experiment_dir)"
   ]
  },
  {
   "cell_type": "code",
   "execution_count": 4,
   "id": "rural-float",
   "metadata": {
    "id": "rural-float"
   },
   "outputs": [],
   "source": [
    "from data_parsing import load_dataset, load_gen_dataset\n",
    "data = load_dataset(\"./yelp_review_training_dataset.jsonl\")"
   ]
  },
  {
   "cell_type": "code",
   "execution_count": 5,
   "id": "precise-stevens",
   "metadata": {
    "id": "precise-stevens"
   },
   "outputs": [],
   "source": [
    "from training_utils import split_train_validation\n",
    "train_x, valid_x, train_y, valid_y = split_train_validation(data, 0.01)\n",
    "\n",
    "if not enable_orig:\n",
    "    train_x = []\n",
    "    train_y = []\n",
    "\n",
    "if enable_aug:\n",
    "    aug_data = load_gen_dataset(\"./new_data.json\") + load_gen_dataset(\"./new_data2.json\")\n",
    "    train_x += [i[0] for i in aug_data]\n",
    "    train_y += [i[1] for i in aug_data]\n",
    "\n",
    "if enable_aug3:\n",
    "    aug_data3 = load_gen_dataset(\"./new_data3.json\")\n",
    "    train_x += [i[0] for i in aug_data3]\n",
    "    train_y += [i[1] for i in aug_data3]"
   ]
  },
  {
   "cell_type": "code",
   "execution_count": 6,
   "id": "subjective-privacy",
   "metadata": {
    "colab": {
     "base_uri": "https://localhost:8080/"
    },
    "executionInfo": {
     "elapsed": 336,
     "status": "ok",
     "timestamp": 1619585606215,
     "user": {
      "displayName": "Shadaj Laddad",
      "photoUrl": "https://lh3.googleusercontent.com/a-/AOh14GgLWa6dVmWxyJZ_InzgX-_A0Ns3qoTMV2BHeYoj=s64",
      "userId": "09214701577395115204"
     },
     "user_tz": 420
    },
    "id": "subjective-privacy",
    "outputId": "841b8f4f-1c50-45e6-bdf9-ec5fc6587d7d"
   },
   "outputs": [
    {
     "name": "stdout",
     "output_type": "stream",
     "text": [
      "5000\n",
      "5000\n",
      "5336\n",
      "5336\n"
     ]
    }
   ],
   "source": [
    "print(len(train_x))\n",
    "print(len(train_y))\n",
    "print(len(valid_x))\n",
    "print(len(valid_y))"
   ]
  },
  {
   "cell_type": "code",
   "execution_count": 7,
   "id": "still-brain",
   "metadata": {
    "colab": {
     "base_uri": "https://localhost:8080/",
     "height": 164,
     "referenced_widgets": [
      "4bd8d29033fd4ff692191c664abca7b3",
      "842466b7f40043b8a40720a56bdc4558",
      "f6c55fd3d20a4f2c9f8c49ccdd3a1333",
      "2aebf6878d074141b47fdff4d356d529",
      "b1a4a59f43ca406d8738a775119bf85a",
      "0e15c5ddfa454729ba3e3ab08a3b2a6f",
      "3c0f2bf7f3c042db8f130561bbdfe993",
      "575c54bfb2b44d37a44e4ff9106deca8",
      "af2fc27ab5094887877bad2a56208058",
      "b40fb44b3e77497d9caa70e88b7522cd",
      "56fee33226384096b22af1a159390105",
      "3a6aa561c6c541789b1956d832cccd24",
      "3a21d4d3d0504ee4a4312e26256f77cd",
      "b2c9744f75be4b82ad5f5ef3b8f7a82f",
      "5bc10bcb0d384cc5b1300691e4610bef",
      "66654fc5f2214ad8a9c0adaa3d6af48d",
      "8f542def7583415e86c2831bcb2ddf7a",
      "352831fdb7c24d749aba75d23cd12668",
      "2860da84f58740608ac2e685bdc903b6",
      "644577e7814540ba9e5a29c0115d3984",
      "f177282ccd5e4865b3ffff3dc1a7efd1",
      "d0d4f96db9264e6ab2f7642ba388fd8a",
      "56f31573c75f49db9f7037b01081e693",
      "d9f9e11b47ba4c8abb56f991d1bb903f"
     ]
    },
    "executionInfo": {
     "elapsed": 2886,
     "status": "ok",
     "timestamp": 1619585612647,
     "user": {
      "displayName": "Shadaj Laddad",
      "photoUrl": "https://lh3.googleusercontent.com/a-/AOh14GgLWa6dVmWxyJZ_InzgX-_A0Ns3qoTMV2BHeYoj=s64",
      "userId": "09214701577395115204"
     },
     "user_tz": 420
    },
    "id": "still-brain",
    "outputId": "dff3b38b-cad3-4bae-b94f-f9196bd42269"
   },
   "outputs": [],
   "source": [
    "from transformers import DistilBertTokenizerFast\n",
    "tokenizer = DistilBertTokenizerFast.from_pretrained('distilbert-base-uncased')"
   ]
  },
  {
   "cell_type": "code",
   "execution_count": 8,
   "id": "classical-riding",
   "metadata": {
    "colab": {
     "base_uri": "https://localhost:8080/",
     "height": 115,
     "referenced_widgets": [
      "a3aa609e0e3f49109debc02430ea7df0",
      "7270f85acd02481288a8e64216e142f8",
      "c7c807047a5f489488f95ab7be6ed027",
      "d2aac853da2a46609087238424a51372",
      "a05fb6a6875047499c663933299a547c",
      "071b478325ea4b3a8ec9839c1f09ff77",
      "46d6923f5a4f4c169580a6a23771bec3",
      "f6972735711d48a5aba54f5ef59abcc9",
      "77ceed2c1251474eacb6e8e9c3dd0426",
      "63efe1c1be344d3d964dc06307fa4a63",
      "b43aa08fd25d412fad9bc911a6c26aad",
      "7285340b28184a90bca49b259ffd83b5",
      "f5b986cbcfd24a0091ac851ffb285434",
      "efd56c64f06b42f8a1ffb63f44624909",
      "f8b38947e6ef4424bf36e2508de8663f",
      "76e30c9b25cb4ad598d1fb074449fa8f"
     ]
    },
    "executionInfo": {
     "elapsed": 261294,
     "status": "ok",
     "timestamp": 1619585911463,
     "user": {
      "displayName": "Shadaj Laddad",
      "photoUrl": "https://lh3.googleusercontent.com/a-/AOh14GgLWa6dVmWxyJZ_InzgX-_A0Ns3qoTMV2BHeYoj=s64",
      "userId": "09214701577395115204"
     },
     "user_tz": 420
    },
    "id": "classical-riding",
    "outputId": "9f75d76d-08de-47cd-e439-40f3f89d1259"
   },
   "outputs": [
    {
     "data": {
      "application/vnd.jupyter.widget-view+json": {
       "model_id": "84ae9fdfeac042ceb0cb0835a466adba",
       "version_major": 2,
       "version_minor": 0
      },
      "text/plain": [
       "  0%|          | 0/5000 [00:00<?, ?it/s]"
      ]
     },
     "metadata": {},
     "output_type": "display_data"
    },
    {
     "data": {
      "application/vnd.jupyter.widget-view+json": {
       "model_id": "200d7a35fc6b47ac8f73d0b82df59d26",
       "version_major": 2,
       "version_minor": 0
      },
      "text/plain": [
       "  0%|          | 0/5336 [00:00<?, ?it/s]"
      ]
     },
     "metadata": {},
     "output_type": "display_data"
    }
   ],
   "source": [
    "train_x_numerized = []\n",
    "train_x_mask = []\n",
    "for text in tqdm(train_x):\n",
    "    tokenized = tokenizer(text, truncation=True, padding=\"max_length\", max_length=max_tokenized_length)[0]\n",
    "    train_x_numerized.append(tokenized.ids)\n",
    "    train_x_mask.append(tokenized.attention_mask)\n",
    "valid_x_numerized = []\n",
    "valid_x_mask = []\n",
    "for text in tqdm(valid_x):\n",
    "    tokenized = tokenizer(text, truncation=True, padding=\"max_length\", max_length=max_tokenized_length)[0]\n",
    "    valid_x_numerized.append(tokenized.ids)\n",
    "    valid_x_mask.append(tokenized.attention_mask)"
   ]
  },
  {
   "cell_type": "code",
   "execution_count": 9,
   "id": "identical-charger",
   "metadata": {
    "id": "identical-charger"
   },
   "outputs": [],
   "source": [
    "import numpy as np\n",
    "\n",
    "train_x_numerized = np.array(train_x_numerized)\n",
    "train_x_mask = np.array(train_x_mask)\n",
    "train_y = np.array(train_y)\n",
    "valid_x_numerized = np.array(valid_x_numerized)\n",
    "valid_x_mask = np.array(valid_x_mask)\n",
    "valid_y = np.array(valid_y)\n",
    "\n",
    "from utils import memo_load\n",
    "(train_x_numerized, train_x_mask, train_y, valid_x_numerized, valid_x_mask, valid_y) = memo_load(\n",
    "    lambda: (train_x_numerized, train_x_mask, train_y, valid_x_numerized, valid_x_mask, valid_y),\n",
    "    f\"{experiment_dir}/training_data\"\n",
    ")"
   ]
  },
  {
   "cell_type": "code",
   "execution_count": 10,
   "id": "absent-hungarian",
   "metadata": {
    "colab": {
     "base_uri": "https://localhost:8080/"
    },
    "executionInfo": {
     "elapsed": 140384,
     "status": "ok",
     "timestamp": 1619636959736,
     "user": {
      "displayName": "Shadaj Laddad",
      "photoUrl": "https://lh3.googleusercontent.com/a-/AOh14GgLWa6dVmWxyJZ_InzgX-_A0Ns3qoTMV2BHeYoj=s64",
      "userId": "09214701577395115204"
     },
     "user_tz": 420
    },
    "id": "absent-hungarian",
    "outputId": "9ee26df9-74f9-4004-f7ff-319b44ccb58a"
   },
   "outputs": [
    {
     "name": "stdout",
     "output_type": "stream",
     "text": [
      "cuda\n"
     ]
    },
    {
     "name": "stderr",
     "output_type": "stream",
     "text": [
      "Some weights of the model checkpoint at distilbert-base-uncased were not used when initializing DistilBertForSequenceClassification: ['vocab_transform.weight', 'vocab_transform.bias', 'vocab_layer_norm.weight', 'vocab_layer_norm.bias', 'vocab_projector.weight', 'vocab_projector.bias']\n",
      "- This IS expected if you are initializing DistilBertForSequenceClassification from the checkpoint of a model trained on another task or with another architecture (e.g. initializing a BertForSequenceClassification model from a BertForPreTraining model).\n",
      "- This IS NOT expected if you are initializing DistilBertForSequenceClassification from the checkpoint of a model that you expect to be exactly identical (initializing a BertForSequenceClassification model from a BertForSequenceClassification model).\n",
      "Some weights of DistilBertForSequenceClassification were not initialized from the model checkpoint at distilbert-base-uncased and are newly initialized: ['pre_classifier.weight', 'pre_classifier.bias', 'classifier.weight', 'classifier.bias']\n",
      "You should probably TRAIN this model on a down-stream task to be able to use it for predictions and inference.\n"
     ]
    }
   ],
   "source": [
    "from model import ReviewPredictionModel\n",
    "import torch as th\n",
    "import torch.optim as optim\n",
    "\n",
    "device = th.device(\"cuda\" if th.cuda.is_available() else \"cpu\")\n",
    "print(device)\n",
    "\n",
    "model_to_train = None\n",
    "model_to_train = ReviewPredictionModel(0, max_tokenized_length)\n",
    "model_to_train.to(device)\n",
    "optimizer = optim.Adam(model_to_train.parameters(), lr=1e-5)"
   ]
  },
  {
   "cell_type": "code",
   "execution_count": 11,
   "id": "fleet-storage",
   "metadata": {
    "colab": {
     "base_uri": "https://localhost:8080/"
    },
    "executionInfo": {
     "elapsed": 4050345,
     "status": "ok",
     "timestamp": 1619640871863,
     "user": {
      "displayName": "Shadaj Laddad",
      "photoUrl": "https://lh3.googleusercontent.com/a-/AOh14GgLWa6dVmWxyJZ_InzgX-_A0Ns3qoTMV2BHeYoj=s64",
      "userId": "09214701577395115204"
     },
     "user_tz": 420
    },
    "id": "fleet-storage",
    "outputId": "fc57a483-ee47-4524-b761-974d0df3c57c"
   },
   "outputs": [
    {
     "name": "stderr",
     "output_type": "stream",
     "text": [
      "Epoch: 0 Iteration: 624 Loss: 1.002 Validation Loss: 4.595 Accuracy: 0.500 Validation Accuracy: 0.105: 100%|██████████| 626/626 [00:25<00:00, 24.78it/s]\n"
     ]
    },
    {
     "name": "stdout",
     "output_type": "stream",
     "text": [
      "Saving BERT model to ./bert_model_save_from_training/classification-bert-64-tokens-5-epochs-aug3-only/\n"
     ]
    },
    {
     "name": "stderr",
     "output_type": "stream",
     "text": [
      "Epoch: 1 Iteration: 624 Loss: 0.892 Validation Loss: 5.418 Accuracy: 0.388 Validation Accuracy: 0.113: 100%|██████████| 626/626 [00:26<00:00, 23.91it/s]\n"
     ]
    },
    {
     "name": "stdout",
     "output_type": "stream",
     "text": [
      "Saving BERT model to ./bert_model_save_from_training/classification-bert-64-tokens-5-epochs-aug3-only/\n"
     ]
    },
    {
     "name": "stderr",
     "output_type": "stream",
     "text": [
      "Epoch: 2 Iteration: 624 Loss: 0.780 Validation Loss: 5.867 Accuracy: 0.688 Validation Accuracy: 0.111: 100%|██████████| 626/626 [00:26<00:00, 23.67it/s]\n"
     ]
    },
    {
     "name": "stdout",
     "output_type": "stream",
     "text": [
      "Saving BERT model to ./bert_model_save_from_training/classification-bert-64-tokens-5-epochs-aug3-only/\n"
     ]
    },
    {
     "name": "stderr",
     "output_type": "stream",
     "text": [
      "Epoch: 3 Iteration: 624 Loss: 0.632 Validation Loss: 6.432 Accuracy: 0.713 Validation Accuracy: 0.116: 100%|██████████| 626/626 [00:26<00:00, 23.91it/s]\n"
     ]
    },
    {
     "name": "stdout",
     "output_type": "stream",
     "text": [
      "Saving BERT model to ./bert_model_save_from_training/classification-bert-64-tokens-5-epochs-aug3-only/\n"
     ]
    },
    {
     "name": "stderr",
     "output_type": "stream",
     "text": [
      "Epoch: 4 Iteration: 624 Loss: 0.408 Validation Loss: 6.972 Accuracy: 0.863 Validation Accuracy: 0.113: 100%|██████████| 626/626 [00:26<00:00, 24.03it/s]\n"
     ]
    },
    {
     "name": "stdout",
     "output_type": "stream",
     "text": [
      "Saving BERT model to ./bert_model_save_from_training/classification-bert-64-tokens-5-epochs-aug3-only/\n"
     ]
    }
   ],
   "source": [
    "from training_utils import run_training_loop\n",
    "\n",
    "training_accuracies, validation_accuracies = run_training_loop(\n",
    "    model_to_train, optimizer, device,\n",
    "    batch_size, epochs,\n",
    "    train_x_numerized, train_x_mask, train_y, valid_x_numerized, valid_x_mask, valid_y,\n",
    "    model_id=experiment_id\n",
    ")\n",
    "\n",
    "from utils import memo_load\n",
    "(training_accuracies, validation_accuracies) = memo_load(\n",
    "    lambda: (training_accuracies, validation_accuracies),\n",
    "    f\"{experiment_dir}/training_validation_accuracies\"\n",
    ")"
   ]
  },
  {
   "cell_type": "code",
   "execution_count": 12,
   "id": "opened-jacket",
   "metadata": {
    "colab": {
     "base_uri": "https://localhost:8080/",
     "height": 296
    },
    "executionInfo": {
     "elapsed": 897,
     "status": "ok",
     "timestamp": 1619640872784,
     "user": {
      "displayName": "Shadaj Laddad",
      "photoUrl": "https://lh3.googleusercontent.com/a-/AOh14GgLWa6dVmWxyJZ_InzgX-_A0Ns3qoTMV2BHeYoj=s64",
      "userId": "09214701577395115204"
     },
     "user_tz": 420
    },
    "id": "opened-jacket",
    "outputId": "c2be4a91-de58-49fd-b5bf-172540c4a0d2"
   },
   "outputs": [
    {
     "data": {
      "image/png": "[encoded data removed]",
      "text/plain": [
       "<Figure size 432x288 with 1 Axes>"
      ]
     },
     "metadata": {
      "needs_background": "light"
     },
     "output_type": "display_data"
    }
   ],
   "source": [
    "import matplotlib.pyplot as plt\n",
    "plt.plot(range(len(training_accuracies)), training_accuracies, label = \"Training Accuracy\")\n",
    "plt.plot(list(map(lambda x: x * 100, range(len(validation_accuracies)))), validation_accuracies, label = \"Validation Accuracy\")\n",
    "plt.xlabel(\"Training Iteration\")\n",
    "plt.ylabel(\"Accuracy\")\n",
    "plt.legend()\n",
    "plt.savefig(f\"{experiment_dir}/training-plot.png\")"
   ]
  }
 ],
 "metadata": {
  "accelerator": "GPU",
  "colab": {
   "collapsed_sections": [],
   "name": "Model Training.ipynb",
   "provenance": [],
   "toc_visible": true
  },
  "kernelspec": {
   "display_name": "Python 3",
   "language": "python",
   "name": "python3"
  },
  "language_info": {
   "codemirror_mode": {
    "name": "ipython",
    "version": 3
   },
   "file_extension": ".py",
   "mimetype": "text/x-python",
   "name": "python",
   "nbconvert_exporter": "python",
   "pygments_lexer": "ipython3",
   "version": "3.7.10"
  },
  "widgets": {
   "application/vnd.jupyter.widget-state+json": {
    "071b478325ea4b3a8ec9839c1f09ff77": {
     "model_module": "@jupyter-widgets/base",
     "model_name": "LayoutModel",
     "state": {
      "_model_module": "@jupyter-widgets/base",
      "_model_module_version": "1.2.0",
      "_model_name": "LayoutModel",
      "_view_count": null,
      "_view_module": "@jupyter-widgets/base",
      "_view_module_version": "1.2.0",
      "_view_name": "LayoutView",
      "align_content": null,
      "align_items": null,
      "align_self": null,
      "border": null,
      "bottom": null,
      "display": null,
      "flex": null,
      "flex_flow": null,
      "grid_area": null,
      "grid_auto_columns": null,
      "grid_auto_flow": null,
      "grid_auto_rows": null,
      "grid_column": null,
      "grid_gap": null,
      "grid_row": null,
      "grid_template_areas": null,
      "grid_template_columns": null,
      "grid_template_rows": null,
      "height": null,
      "justify_content": null,
      "justify_items": null,
      "left": null,
      "margin": null,
      "max_height": null,
      "max_width": null,
      "min_height": null,
      "min_width": null,
      "object_fit": null,
      "object_position": null,
      "order": null,
      "overflow": null,
      "overflow_x": null,
      "overflow_y": null,
      "padding": null,
      "right": null,
      "top": null,
      "visibility": null,
      "width": null
     }
    },
    "0e15c5ddfa454729ba3e3ab08a3b2a6f": {
     "model_module": "@jupyter-widgets/base",
     "model_name": "LayoutModel",
     "state": {
      "_model_module": "@jupyter-widgets/base",
      "_model_module_version": "1.2.0",
      "_model_name": "LayoutModel",
      "_view_count": null,
      "_view_module": "@jupyter-widgets/base",
      "_view_module_version": "1.2.0",
      "_view_name": "LayoutView",
      "align_content": null,
      "align_items": null,
      "align_self": null,
      "border": null,
      "bottom": null,
      "display": null,
      "flex": null,
      "flex_flow": null,
      "grid_area": null,
      "grid_auto_columns": null,
      "grid_auto_flow": null,
      "grid_auto_rows": null,
      "grid_column": null,
      "grid_gap": null,
      "grid_row": null,
      "grid_template_areas": null,
      "grid_template_columns": null,
      "grid_template_rows": null,
      "height": null,
      "justify_content": null,
      "justify_items": null,
      "left": null,
      "margin": null,
      "max_height": null,
      "max_width": null,
      "min_height": null,
      "min_width": null,
      "object_fit": null,
      "object_position": null,
      "order": null,
      "overflow": null,
      "overflow_x": null,
      "overflow_y": null,
      "padding": null,
      "right": null,
      "top": null,
      "visibility": null,
      "width": null
     }
    },
    "2860da84f58740608ac2e685bdc903b6": {
     "model_module": "@jupyter-widgets/controls",
     "model_name": "FloatProgressModel",
     "state": {
      "_dom_classes": [],
      "_model_module": "@jupyter-widgets/controls",
      "_model_module_version": "1.5.0",
      "_model_name": "FloatProgressModel",
      "_view_count": null,
      "_view_module": "@jupyter-widgets/controls",
      "_view_module_version": "1.5.0",
      "_view_name": "ProgressView",
      "bar_style": "success",
      "description": "Downloading: 100%",
      "description_tooltip": null,
      "layout": "IPY_MODEL_d0d4f96db9264e6ab2f7642ba388fd8a",
      "max": 28,
      "min": 0,
      "orientation": "horizontal",
      "style": "IPY_MODEL_f177282ccd5e4865b3ffff3dc1a7efd1",
      "value": 28
     }
    },
    "2aebf6878d074141b47fdff4d356d529": {
     "model_module": "@jupyter-widgets/controls",
     "model_name": "HTMLModel",
     "state": {
      "_dom_classes": [],
      "_model_module": "@jupyter-widgets/controls",
      "_model_module_version": "1.5.0",
      "_model_name": "HTMLModel",
      "_view_count": null,
      "_view_module": "@jupyter-widgets/controls",
      "_view_module_version": "1.5.0",
      "_view_name": "HTMLView",
      "description": "",
      "description_tooltip": null,
      "layout": "IPY_MODEL_575c54bfb2b44d37a44e4ff9106deca8",
      "placeholder": "​",
      "style": "IPY_MODEL_3c0f2bf7f3c042db8f130561bbdfe993",
      "value": " 232k/232k [00:40&lt;00:00, 5.75kB/s]"
     }
    },
    "352831fdb7c24d749aba75d23cd12668": {
     "model_module": "@jupyter-widgets/base",
     "model_name": "LayoutModel",
     "state": {
      "_model_module": "@jupyter-widgets/base",
      "_model_module_version": "1.2.0",
      "_model_name": "LayoutModel",
      "_view_count": null,
      "_view_module": "@jupyter-widgets/base",
      "_view_module_version": "1.2.0",
      "_view_name": "LayoutView",
      "align_content": null,
      "align_items": null,
      "align_self": null,
      "border": null,
      "bottom": null,
      "display": null,
      "flex": null,
      "flex_flow": null,
      "grid_area": null,
      "grid_auto_columns": null,
      "grid_auto_flow": null,
      "grid_auto_rows": null,
      "grid_column": null,
      "grid_gap": null,
      "grid_row": null,
      "grid_template_areas": null,
      "grid_template_columns": null,
      "grid_template_rows": null,
      "height": null,
      "justify_content": null,
      "justify_items": null,
      "left": null,
      "margin": null,
      "max_height": null,
      "max_width": null,
      "min_height": null,
      "min_width": null,
      "object_fit": null,
      "object_position": null,
      "order": null,
      "overflow": null,
      "overflow_x": null,
      "overflow_y": null,
      "padding": null,
      "right": null,
      "top": null,
      "visibility": null,
      "width": null
     }
    },
    "3a21d4d3d0504ee4a4312e26256f77cd": {
     "model_module": "@jupyter-widgets/controls",
     "model_name": "ProgressStyleModel",
     "state": {
      "_model_module": "@jupyter-widgets/controls",
      "_model_module_version": "1.5.0",
      "_model_name": "ProgressStyleModel",
      "_view_count": null,
      "_view_module": "@jupyter-widgets/base",
      "_view_module_version": "1.2.0",
      "_view_name": "StyleView",
      "bar_color": null,
      "description_width": "initial"
     }
    },
    "3a6aa561c6c541789b1956d832cccd24": {
     "model_module": "@jupyter-widgets/controls",
     "model_name": "HTMLModel",
     "state": {
      "_dom_classes": [],
      "_model_module": "@jupyter-widgets/controls",
      "_model_module_version": "1.5.0",
      "_model_name": "HTMLModel",
      "_view_count": null,
      "_view_module": "@jupyter-widgets/controls",
      "_view_module_version": "1.5.0",
      "_view_name": "HTMLView",
      "description": "",
      "description_tooltip": null,
      "layout": "IPY_MODEL_66654fc5f2214ad8a9c0adaa3d6af48d",
      "placeholder": "​",
      "style": "IPY_MODEL_5bc10bcb0d384cc5b1300691e4610bef",
      "value": " 466k/466k [00:39&lt;00:00, 11.8kB/s]"
     }
    },
    "3c0f2bf7f3c042db8f130561bbdfe993": {
     "model_module": "@jupyter-widgets/controls",
     "model_name": "DescriptionStyleModel",
     "state": {
      "_model_module": "@jupyter-widgets/controls",
      "_model_module_version": "1.5.0",
      "_model_name": "DescriptionStyleModel",
      "_view_count": null,
      "_view_module": "@jupyter-widgets/base",
      "_view_module_version": "1.2.0",
      "_view_name": "StyleView",
      "description_width": ""
     }
    },
    "46d6923f5a4f4c169580a6a23771bec3": {
     "model_module": "@jupyter-widgets/controls",
     "model_name": "DescriptionStyleModel",
     "state": {
      "_model_module": "@jupyter-widgets/controls",
      "_model_module_version": "1.5.0",
      "_model_name": "DescriptionStyleModel",
      "_view_count": null,
      "_view_module": "@jupyter-widgets/base",
      "_view_module_version": "1.2.0",
      "_view_name": "StyleView",
      "description_width": ""
     }
    },
    "4bd8d29033fd4ff692191c664abca7b3": {
     "model_module": "@jupyter-widgets/controls",
     "model_name": "HBoxModel",
     "state": {
      "_dom_classes": [],
      "_model_module": "@jupyter-widgets/controls",
      "_model_module_version": "1.5.0",
      "_model_name": "HBoxModel",
      "_view_count": null,
      "_view_module": "@jupyter-widgets/controls",
      "_view_module_version": "1.5.0",
      "_view_name": "HBoxView",
      "box_style": "",
      "children": [
       "IPY_MODEL_f6c55fd3d20a4f2c9f8c49ccdd3a1333",
       "IPY_MODEL_2aebf6878d074141b47fdff4d356d529"
      ],
      "layout": "IPY_MODEL_842466b7f40043b8a40720a56bdc4558"
     }
    },
    "56f31573c75f49db9f7037b01081e693": {
     "model_module": "@jupyter-widgets/controls",
     "model_name": "DescriptionStyleModel",
     "state": {
      "_model_module": "@jupyter-widgets/controls",
      "_model_module_version": "1.5.0",
      "_model_name": "DescriptionStyleModel",
      "_view_count": null,
      "_view_module": "@jupyter-widgets/base",
      "_view_module_version": "1.2.0",
      "_view_name": "StyleView",
      "description_width": ""
     }
    },
    "56fee33226384096b22af1a159390105": {
     "model_module": "@jupyter-widgets/controls",
     "model_name": "FloatProgressModel",
     "state": {
      "_dom_classes": [],
      "_model_module": "@jupyter-widgets/controls",
      "_model_module_version": "1.5.0",
      "_model_name": "FloatProgressModel",
      "_view_count": null,
      "_view_module": "@jupyter-widgets/controls",
      "_view_module_version": "1.5.0",
      "_view_name": "ProgressView",
      "bar_style": "success",
      "description": "Downloading: 100%",
      "description_tooltip": null,
      "layout": "IPY_MODEL_b2c9744f75be4b82ad5f5ef3b8f7a82f",
      "max": 466062,
      "min": 0,
      "orientation": "horizontal",
      "style": "IPY_MODEL_3a21d4d3d0504ee4a4312e26256f77cd",
      "value": 466062
     }
    },
    "575c54bfb2b44d37a44e4ff9106deca8": {
     "model_module": "@jupyter-widgets/base",
     "model_name": "LayoutModel",
     "state": {
      "_model_module": "@jupyter-widgets/base",
      "_model_module_version": "1.2.0",
      "_model_name": "LayoutModel",
      "_view_count": null,
      "_view_module": "@jupyter-widgets/base",
      "_view_module_version": "1.2.0",
      "_view_name": "LayoutView",
      "align_content": null,
      "align_items": null,
      "align_self": null,
      "border": null,
      "bottom": null,
      "display": null,
      "flex": null,
      "flex_flow": null,
      "grid_area": null,
      "grid_auto_columns": null,
      "grid_auto_flow": null,
      "grid_auto_rows": null,
      "grid_column": null,
      "grid_gap": null,
      "grid_row": null,
      "grid_template_areas": null,
      "grid_template_columns": null,
      "grid_template_rows": null,
      "height": null,
      "justify_content": null,
      "justify_items": null,
      "left": null,
      "margin": null,
      "max_height": null,
      "max_width": null,
      "min_height": null,
      "min_width": null,
      "object_fit": null,
      "object_position": null,
      "order": null,
      "overflow": null,
      "overflow_x": null,
      "overflow_y": null,
      "padding": null,
      "right": null,
      "top": null,
      "visibility": null,
      "width": null
     }
    },
    "5bc10bcb0d384cc5b1300691e4610bef": {
     "model_module": "@jupyter-widgets/controls",
     "model_name": "DescriptionStyleModel",
     "state": {
      "_model_module": "@jupyter-widgets/controls",
      "_model_module_version": "1.5.0",
      "_model_name": "DescriptionStyleModel",
      "_view_count": null,
      "_view_module": "@jupyter-widgets/base",
      "_view_module_version": "1.2.0",
      "_view_name": "StyleView",
      "description_width": ""
     }
    },
    "63efe1c1be344d3d964dc06307fa4a63": {
     "model_module": "@jupyter-widgets/base",
     "model_name": "LayoutModel",
     "state": {
      "_model_module": "@jupyter-widgets/base",
      "_model_module_version": "1.2.0",
      "_model_name": "LayoutModel",
      "_view_count": null,
      "_view_module": "@jupyter-widgets/base",
      "_view_module_version": "1.2.0",
      "_view_name": "LayoutView",
      "align_content": null,
      "align_items": null,
      "align_self": null,
      "border": null,
      "bottom": null,
      "display": null,
      "flex": null,
      "flex_flow": null,
      "grid_area": null,
      "grid_auto_columns": null,
      "grid_auto_flow": null,
      "grid_auto_rows": null,
      "grid_column": null,
      "grid_gap": null,
      "grid_row": null,
      "grid_template_areas": null,
      "grid_template_columns": null,
      "grid_template_rows": null,
      "height": null,
      "justify_content": null,
      "justify_items": null,
      "left": null,
      "margin": null,
      "max_height": null,
      "max_width": null,
      "min_height": null,
      "min_width": null,
      "object_fit": null,
      "object_position": null,
      "order": null,
      "overflow": null,
      "overflow_x": null,
      "overflow_y": null,
      "padding": null,
      "right": null,
      "top": null,
      "visibility": null,
      "width": null
     }
    },
    "644577e7814540ba9e5a29c0115d3984": {
     "model_module": "@jupyter-widgets/controls",
     "model_name": "HTMLModel",
     "state": {
      "_dom_classes": [],
      "_model_module": "@jupyter-widgets/controls",
      "_model_module_version": "1.5.0",
      "_model_name": "HTMLModel",
      "_view_count": null,
      "_view_module": "@jupyter-widgets/controls",
      "_view_module_version": "1.5.0",
      "_view_name": "HTMLView",
      "description": "",
      "description_tooltip": null,
      "layout": "IPY_MODEL_d9f9e11b47ba4c8abb56f991d1bb903f",
      "placeholder": "​",
      "style": "IPY_MODEL_56f31573c75f49db9f7037b01081e693",
      "value": " 28.0/28.0 [00:35&lt;00:00, 1.25s/B]"
     }
    },
    "66654fc5f2214ad8a9c0adaa3d6af48d": {
     "model_module": "@jupyter-widgets/base",
     "model_name": "LayoutModel",
     "state": {
      "_model_module": "@jupyter-widgets/base",
      "_model_module_version": "1.2.0",
      "_model_name": "LayoutModel",
      "_view_count": null,
      "_view_module": "@jupyter-widgets/base",
      "_view_module_version": "1.2.0",
      "_view_name": "LayoutView",
      "align_content": null,
      "align_items": null,
      "align_self": null,
      "border": null,
      "bottom": null,
      "display": null,
      "flex": null,
      "flex_flow": null,
      "grid_area": null,
      "grid_auto_columns": null,
      "grid_auto_flow": null,
      "grid_auto_rows": null,
      "grid_column": null,
      "grid_gap": null,
      "grid_row": null,
      "grid_template_areas": null,
      "grid_template_columns": null,
      "grid_template_rows": null,
      "height": null,
      "justify_content": null,
      "justify_items": null,
      "left": null,
      "margin": null,
      "max_height": null,
      "max_width": null,
      "min_height": null,
      "min_width": null,
      "object_fit": null,
      "object_position": null,
      "order": null,
      "overflow": null,
      "overflow_x": null,
      "overflow_y": null,
      "padding": null,
      "right": null,
      "top": null,
      "visibility": null,
      "width": null
     }
    },
    "7270f85acd02481288a8e64216e142f8": {
     "model_module": "@jupyter-widgets/base",
     "model_name": "LayoutModel",
     "state": {
      "_model_module": "@jupyter-widgets/base",
      "_model_module_version": "1.2.0",
      "_model_name": "LayoutModel",
      "_view_count": null,
      "_view_module": "@jupyter-widgets/base",
      "_view_module_version": "1.2.0",
      "_view_name": "LayoutView",
      "align_content": null,
      "align_items": null,
      "align_self": null,
      "border": null,
      "bottom": null,
      "display": null,
      "flex": null,
      "flex_flow": null,
      "grid_area": null,
      "grid_auto_columns": null,
      "grid_auto_flow": null,
      "grid_auto_rows": null,
      "grid_column": null,
      "grid_gap": null,
      "grid_row": null,
      "grid_template_areas": null,
      "grid_template_columns": null,
      "grid_template_rows": null,
      "height": null,
      "justify_content": null,
      "justify_items": null,
      "left": null,
      "margin": null,
      "max_height": null,
      "max_width": null,
      "min_height": null,
      "min_width": null,
      "object_fit": null,
      "object_position": null,
      "order": null,
      "overflow": null,
      "overflow_x": null,
      "overflow_y": null,
      "padding": null,
      "right": null,
      "top": null,
      "visibility": null,
      "width": null
     }
    },
    "7285340b28184a90bca49b259ffd83b5": {
     "model_module": "@jupyter-widgets/controls",
     "model_name": "HTMLModel",
     "state": {
      "_dom_classes": [],
      "_model_module": "@jupyter-widgets/controls",
      "_model_module_version": "1.5.0",
      "_model_name": "HTMLModel",
      "_view_count": null,
      "_view_module": "@jupyter-widgets/controls",
      "_view_module_version": "1.5.0",
      "_view_name": "HTMLView",
      "description": "",
      "description_tooltip": null,
      "layout": "IPY_MODEL_76e30c9b25cb4ad598d1fb074449fa8f",
      "placeholder": "​",
      "style": "IPY_MODEL_f8b38947e6ef4424bf36e2508de8663f",
      "value": " 5336/5336 [00:02&lt;00:00, 2047.78it/s]"
     }
    },
    "76e30c9b25cb4ad598d1fb074449fa8f": {
     "model_module": "@jupyter-widgets/base",
     "model_name": "LayoutModel",
     "state": {
      "_model_module": "@jupyter-widgets/base",
      "_model_module_version": "1.2.0",
      "_model_name": "LayoutModel",
      "_view_count": null,
      "_view_module": "@jupyter-widgets/base",
      "_view_module_version": "1.2.0",
      "_view_name": "LayoutView",
      "align_content": null,
      "align_items": null,
      "align_self": null,
      "border": null,
      "bottom": null,
      "display": null,
      "flex": null,
      "flex_flow": null,
      "grid_area": null,
      "grid_auto_columns": null,
      "grid_auto_flow": null,
      "grid_auto_rows": null,
      "grid_column": null,
      "grid_gap": null,
      "grid_row": null,
      "grid_template_areas": null,
      "grid_template_columns": null,
      "grid_template_rows": null,
      "height": null,
      "justify_content": null,
      "justify_items": null,
      "left": null,
      "margin": null,
      "max_height": null,
      "max_width": null,
      "min_height": null,
      "min_width": null,
      "object_fit": null,
      "object_position": null,
      "order": null,
      "overflow": null,
      "overflow_x": null,
      "overflow_y": null,
      "padding": null,
      "right": null,
      "top": null,
      "visibility": null,
      "width": null
     }
    },
    "77ceed2c1251474eacb6e8e9c3dd0426": {
     "model_module": "@jupyter-widgets/controls",
     "model_name": "HBoxModel",
     "state": {
      "_dom_classes": [],
      "_model_module": "@jupyter-widgets/controls",
      "_model_module_version": "1.5.0",
      "_model_name": "HBoxModel",
      "_view_count": null,
      "_view_module": "@jupyter-widgets/controls",
      "_view_module_version": "1.5.0",
      "_view_name": "HBoxView",
      "box_style": "",
      "children": [
       "IPY_MODEL_b43aa08fd25d412fad9bc911a6c26aad",
       "IPY_MODEL_7285340b28184a90bca49b259ffd83b5"
      ],
      "layout": "IPY_MODEL_63efe1c1be344d3d964dc06307fa4a63"
     }
    },
    "842466b7f40043b8a40720a56bdc4558": {
     "model_module": "@jupyter-widgets/base",
     "model_name": "LayoutModel",
     "state": {
      "_model_module": "@jupyter-widgets/base",
      "_model_module_version": "1.2.0",
      "_model_name": "LayoutModel",
      "_view_count": null,
      "_view_module": "@jupyter-widgets/base",
      "_view_module_version": "1.2.0",
      "_view_name": "LayoutView",
      "align_content": null,
      "align_items": null,
      "align_self": null,
      "border": null,
      "bottom": null,
      "display": null,
      "flex": null,
      "flex_flow": null,
      "grid_area": null,
      "grid_auto_columns": null,
      "grid_auto_flow": null,
      "grid_auto_rows": null,
      "grid_column": null,
      "grid_gap": null,
      "grid_row": null,
      "grid_template_areas": null,
      "grid_template_columns": null,
      "grid_template_rows": null,
      "height": null,
      "justify_content": null,
      "justify_items": null,
      "left": null,
      "margin": null,
      "max_height": null,
      "max_width": null,
      "min_height": null,
      "min_width": null,
      "object_fit": null,
      "object_position": null,
      "order": null,
      "overflow": null,
      "overflow_x": null,
      "overflow_y": null,
      "padding": null,
      "right": null,
      "top": null,
      "visibility": null,
      "width": null
     }
    },
    "8f542def7583415e86c2831bcb2ddf7a": {
     "model_module": "@jupyter-widgets/controls",
     "model_name": "HBoxModel",
     "state": {
      "_dom_classes": [],
      "_model_module": "@jupyter-widgets/controls",
      "_model_module_version": "1.5.0",
      "_model_name": "HBoxModel",
      "_view_count": null,
      "_view_module": "@jupyter-widgets/controls",
      "_view_module_version": "1.5.0",
      "_view_name": "HBoxView",
      "box_style": "",
      "children": [
       "IPY_MODEL_2860da84f58740608ac2e685bdc903b6",
       "IPY_MODEL_644577e7814540ba9e5a29c0115d3984"
      ],
      "layout": "IPY_MODEL_352831fdb7c24d749aba75d23cd12668"
     }
    },
    "a05fb6a6875047499c663933299a547c": {
     "model_module": "@jupyter-widgets/controls",
     "model_name": "ProgressStyleModel",
     "state": {
      "_model_module": "@jupyter-widgets/controls",
      "_model_module_version": "1.5.0",
      "_model_name": "ProgressStyleModel",
      "_view_count": null,
      "_view_module": "@jupyter-widgets/base",
      "_view_module_version": "1.2.0",
      "_view_name": "StyleView",
      "bar_color": null,
      "description_width": "initial"
     }
    },
    "a3aa609e0e3f49109debc02430ea7df0": {
     "model_module": "@jupyter-widgets/controls",
     "model_name": "HBoxModel",
     "state": {
      "_dom_classes": [],
      "_model_module": "@jupyter-widgets/controls",
      "_model_module_version": "1.5.0",
      "_model_name": "HBoxModel",
      "_view_count": null,
      "_view_module": "@jupyter-widgets/controls",
      "_view_module_version": "1.5.0",
      "_view_name": "HBoxView",
      "box_style": "",
      "children": [
       "IPY_MODEL_c7c807047a5f489488f95ab7be6ed027",
       "IPY_MODEL_d2aac853da2a46609087238424a51372"
      ],
      "layout": "IPY_MODEL_7270f85acd02481288a8e64216e142f8"
     }
    },
    "af2fc27ab5094887877bad2a56208058": {
     "model_module": "@jupyter-widgets/controls",
     "model_name": "HBoxModel",
     "state": {
      "_dom_classes": [],
      "_model_module": "@jupyter-widgets/controls",
      "_model_module_version": "1.5.0",
      "_model_name": "HBoxModel",
      "_view_count": null,
      "_view_module": "@jupyter-widgets/controls",
      "_view_module_version": "1.5.0",
      "_view_name": "HBoxView",
      "box_style": "",
      "children": [
       "IPY_MODEL_56fee33226384096b22af1a159390105",
       "IPY_MODEL_3a6aa561c6c541789b1956d832cccd24"
      ],
      "layout": "IPY_MODEL_b40fb44b3e77497d9caa70e88b7522cd"
     }
    },
    "b1a4a59f43ca406d8738a775119bf85a": {
     "model_module": "@jupyter-widgets/controls",
     "model_name": "ProgressStyleModel",
     "state": {
      "_model_module": "@jupyter-widgets/controls",
      "_model_module_version": "1.5.0",
      "_model_name": "ProgressStyleModel",
      "_view_count": null,
      "_view_module": "@jupyter-widgets/base",
      "_view_module_version": "1.2.0",
      "_view_name": "StyleView",
      "bar_color": null,
      "description_width": "initial"
     }
    },
    "b2c9744f75be4b82ad5f5ef3b8f7a82f": {
     "model_module": "@jupyter-widgets/base",
     "model_name": "LayoutModel",
     "state": {
      "_model_module": "@jupyter-widgets/base",
      "_model_module_version": "1.2.0",
      "_model_name": "LayoutModel",
      "_view_count": null,
      "_view_module": "@jupyter-widgets/base",
      "_view_module_version": "1.2.0",
      "_view_name": "LayoutView",
      "align_content": null,
      "align_items": null,
      "align_self": null,
      "border": null,
      "bottom": null,
      "display": null,
      "flex": null,
      "flex_flow": null,
      "grid_area": null,
      "grid_auto_columns": null,
      "grid_auto_flow": null,
      "grid_auto_rows": null,
      "grid_column": null,
      "grid_gap": null,
      "grid_row": null,
      "grid_template_areas": null,
      "grid_template_columns": null,
      "grid_template_rows": null,
      "height": null,
      "justify_content": null,
      "justify_items": null,
      "left": null,
      "margin": null,
      "max_height": null,
      "max_width": null,
      "min_height": null,
      "min_width": null,
      "object_fit": null,
      "object_position": null,
      "order": null,
      "overflow": null,
      "overflow_x": null,
      "overflow_y": null,
      "padding": null,
      "right": null,
      "top": null,
      "visibility": null,
      "width": null
     }
    },
    "b40fb44b3e77497d9caa70e88b7522cd": {
     "model_module": "@jupyter-widgets/base",
     "model_name": "LayoutModel",
     "state": {
      "_model_module": "@jupyter-widgets/base",
      "_model_module_version": "1.2.0",
      "_model_name": "LayoutModel",
      "_view_count": null,
      "_view_module": "@jupyter-widgets/base",
      "_view_module_version": "1.2.0",
      "_view_name": "LayoutView",
      "align_content": null,
      "align_items": null,
      "align_self": null,
      "border": null,
      "bottom": null,
      "display": null,
      "flex": null,
      "flex_flow": null,
      "grid_area": null,
      "grid_auto_columns": null,
      "grid_auto_flow": null,
      "grid_auto_rows": null,
      "grid_column": null,
      "grid_gap": null,
      "grid_row": null,
      "grid_template_areas": null,
      "grid_template_columns": null,
      "grid_template_rows": null,
      "height": null,
      "justify_content": null,
      "justify_items": null,
      "left": null,
      "margin": null,
      "max_height": null,
      "max_width": null,
      "min_height": null,
      "min_width": null,
      "object_fit": null,
      "object_position": null,
      "order": null,
      "overflow": null,
      "overflow_x": null,
      "overflow_y": null,
      "padding": null,
      "right": null,
      "top": null,
      "visibility": null,
      "width": null
     }
    },
    "b43aa08fd25d412fad9bc911a6c26aad": {
     "model_module": "@jupyter-widgets/controls",
     "model_name": "FloatProgressModel",
     "state": {
      "_dom_classes": [],
      "_model_module": "@jupyter-widgets/controls",
      "_model_module_version": "1.5.0",
      "_model_name": "FloatProgressModel",
      "_view_count": null,
      "_view_module": "@jupyter-widgets/controls",
      "_view_module_version": "1.5.0",
      "_view_name": "ProgressView",
      "bar_style": "success",
      "description": "100%",
      "description_tooltip": null,
      "layout": "IPY_MODEL_efd56c64f06b42f8a1ffb63f44624909",
      "max": 5336,
      "min": 0,
      "orientation": "horizontal",
      "style": "IPY_MODEL_f5b986cbcfd24a0091ac851ffb285434",
      "value": 5336
     }
    },
    "c7c807047a5f489488f95ab7be6ed027": {
     "model_module": "@jupyter-widgets/controls",
     "model_name": "FloatProgressModel",
     "state": {
      "_dom_classes": [],
      "_model_module": "@jupyter-widgets/controls",
      "_model_module_version": "1.5.0",
      "_model_name": "FloatProgressModel",
      "_view_count": null,
      "_view_module": "@jupyter-widgets/controls",
      "_view_module_version": "1.5.0",
      "_view_name": "ProgressView",
      "bar_style": "success",
      "description": "100%",
      "description_tooltip": null,
      "layout": "IPY_MODEL_071b478325ea4b3a8ec9839c1f09ff77",
      "max": 533245,
      "min": 0,
      "orientation": "horizontal",
      "style": "IPY_MODEL_a05fb6a6875047499c663933299a547c",
      "value": 533245
     }
    },
    "d0d4f96db9264e6ab2f7642ba388fd8a": {
     "model_module": "@jupyter-widgets/base",
     "model_name": "LayoutModel",
     "state": {
      "_model_module": "@jupyter-widgets/base",
      "_model_module_version": "1.2.0",
      "_model_name": "LayoutModel",
      "_view_count": null,
      "_view_module": "@jupyter-widgets/base",
      "_view_module_version": "1.2.0",
      "_view_name": "LayoutView",
      "align_content": null,
      "align_items": null,
      "align_self": null,
      "border": null,
      "bottom": null,
      "display": null,
      "flex": null,
      "flex_flow": null,
      "grid_area": null,
      "grid_auto_columns": null,
      "grid_auto_flow": null,
      "grid_auto_rows": null,
      "grid_column": null,
      "grid_gap": null,
      "grid_row": null,
      "grid_template_areas": null,
      "grid_template_columns": null,
      "grid_template_rows": null,
      "height": null,
      "justify_content": null,
      "justify_items": null,
      "left": null,
      "margin": null,
      "max_height": null,
      "max_width": null,
      "min_height": null,
      "min_width": null,
      "object_fit": null,
      "object_position": null,
      "order": null,
      "overflow": null,
      "overflow_x": null,
      "overflow_y": null,
      "padding": null,
      "right": null,
      "top": null,
      "visibility": null,
      "width": null
     }
    },
    "d2aac853da2a46609087238424a51372": {
     "model_module": "@jupyter-widgets/controls",
     "model_name": "HTMLModel",
     "state": {
      "_dom_classes": [],
      "_model_module": "@jupyter-widgets/controls",
      "_model_module_version": "1.5.0",
      "_model_name": "HTMLModel",
      "_view_count": null,
      "_view_module": "@jupyter-widgets/controls",
      "_view_module_version": "1.5.0",
      "_view_name": "HTMLView",
      "description": "",
      "description_tooltip": null,
      "layout": "IPY_MODEL_f6972735711d48a5aba54f5ef59abcc9",
      "placeholder": "​",
      "style": "IPY_MODEL_46d6923f5a4f4c169580a6a23771bec3",
      "value": " 533245/533245 [04:18&lt;00:00, 2063.87it/s]"
     }
    },
    "d9f9e11b47ba4c8abb56f991d1bb903f": {
     "model_module": "@jupyter-widgets/base",
     "model_name": "LayoutModel",
     "state": {
      "_model_module": "@jupyter-widgets/base",
      "_model_module_version": "1.2.0",
      "_model_name": "LayoutModel",
      "_view_count": null,
      "_view_module": "@jupyter-widgets/base",
      "_view_module_version": "1.2.0",
      "_view_name": "LayoutView",
      "align_content": null,
      "align_items": null,
      "align_self": null,
      "border": null,
      "bottom": null,
      "display": null,
      "flex": null,
      "flex_flow": null,
      "grid_area": null,
      "grid_auto_columns": null,
      "grid_auto_flow": null,
      "grid_auto_rows": null,
      "grid_column": null,
      "grid_gap": null,
      "grid_row": null,
      "grid_template_areas": null,
      "grid_template_columns": null,
      "grid_template_rows": null,
      "height": null,
      "justify_content": null,
      "justify_items": null,
      "left": null,
      "margin": null,
      "max_height": null,
      "max_width": null,
      "min_height": null,
      "min_width": null,
      "object_fit": null,
      "object_position": null,
      "order": null,
      "overflow": null,
      "overflow_x": null,
      "overflow_y": null,
      "padding": null,
      "right": null,
      "top": null,
      "visibility": null,
      "width": null
     }
    },
    "efd56c64f06b42f8a1ffb63f44624909": {
     "model_module": "@jupyter-widgets/base",
     "model_name": "LayoutModel",
     "state": {
      "_model_module": "@jupyter-widgets/base",
      "_model_module_version": "1.2.0",
      "_model_name": "LayoutModel",
      "_view_count": null,
      "_view_module": "@jupyter-widgets/base",
      "_view_module_version": "1.2.0",
      "_view_name": "LayoutView",
      "align_content": null,
      "align_items": null,
      "align_self": null,
      "border": null,
      "bottom": null,
      "display": null,
      "flex": null,
      "flex_flow": null,
      "grid_area": null,
      "grid_auto_columns": null,
      "grid_auto_flow": null,
      "grid_auto_rows": null,
      "grid_column": null,
      "grid_gap": null,
      "grid_row": null,
      "grid_template_areas": null,
      "grid_template_columns": null,
      "grid_template_rows": null,
      "height": null,
      "justify_content": null,
      "justify_items": null,
      "left": null,
      "margin": null,
      "max_height": null,
      "max_width": null,
      "min_height": null,
      "min_width": null,
      "object_fit": null,
      "object_position": null,
      "order": null,
      "overflow": null,
      "overflow_x": null,
      "overflow_y": null,
      "padding": null,
      "right": null,
      "top": null,
      "visibility": null,
      "width": null
     }
    },
    "f177282ccd5e4865b3ffff3dc1a7efd1": {
     "model_module": "@jupyter-widgets/controls",
     "model_name": "ProgressStyleModel",
     "state": {
      "_model_module": "@jupyter-widgets/controls",
      "_model_module_version": "1.5.0",
      "_model_name": "ProgressStyleModel",
      "_view_count": null,
      "_view_module": "@jupyter-widgets/base",
      "_view_module_version": "1.2.0",
      "_view_name": "StyleView",
      "bar_color": null,
      "description_width": "initial"
     }
    },
    "f5b986cbcfd24a0091ac851ffb285434": {
     "model_module": "@jupyter-widgets/controls",
     "model_name": "ProgressStyleModel",
     "state": {
      "_model_module": "@jupyter-widgets/controls",
      "_model_module_version": "1.5.0",
      "_model_name": "ProgressStyleModel",
      "_view_count": null,
      "_view_module": "@jupyter-widgets/base",
      "_view_module_version": "1.2.0",
      "_view_name": "StyleView",
      "bar_color": null,
      "description_width": "initial"
     }
    },
    "f6972735711d48a5aba54f5ef59abcc9": {
     "model_module": "@jupyter-widgets/base",
     "model_name": "LayoutModel",
     "state": {
      "_model_module": "@jupyter-widgets/base",
      "_model_module_version": "1.2.0",
      "_model_name": "LayoutModel",
      "_view_count": null,
      "_view_module": "@jupyter-widgets/base",
      "_view_module_version": "1.2.0",
      "_view_name": "LayoutView",
      "align_content": null,
      "align_items": null,
      "align_self": null,
      "border": null,
      "bottom": null,
      "display": null,
      "flex": null,
      "flex_flow": null,
      "grid_area": null,
      "grid_auto_columns": null,
      "grid_auto_flow": null,
      "grid_auto_rows": null,
      "grid_column": null,
      "grid_gap": null,
      "grid_row": null,
      "grid_template_areas": null,
      "grid_template_columns": null,
      "grid_template_rows": null,
      "height": null,
      "justify_content": null,
      "justify_items": null,
      "left": null,
      "margin": null,
      "max_height": null,
      "max_width": null,
      "min_height": null,
      "min_width": null,
      "object_fit": null,
      "object_position": null,
      "order": null,
      "overflow": null,
      "overflow_x": null,
      "overflow_y": null,
      "padding": null,
      "right": null,
      "top": null,
      "visibility": null,
      "width": null
     }
    },
    "f6c55fd3d20a4f2c9f8c49ccdd3a1333": {
     "model_module": "@jupyter-widgets/controls",
     "model_name": "FloatProgressModel",
     "state": {
      "_dom_classes": [],
      "_model_module": "@jupyter-widgets/controls",
      "_model_module_version": "1.5.0",
      "_model_name": "FloatProgressModel",
      "_view_count": null,
      "_view_module": "@jupyter-widgets/controls",
      "_view_module_version": "1.5.0",
      "_view_name": "ProgressView",
      "bar_style": "success",
      "description": "Downloading: 100%",
      "description_tooltip": null,
      "layout": "IPY_MODEL_0e15c5ddfa454729ba3e3ab08a3b2a6f",
      "max": 231508,
      "min": 0,
      "orientation": "horizontal",
      "style": "IPY_MODEL_b1a4a59f43ca406d8738a775119bf85a",
      "value": 231508
     }
    },
    "f8b38947e6ef4424bf36e2508de8663f": {
     "model_module": "@jupyter-widgets/controls",
     "model_name": "DescriptionStyleModel",
     "state": {
      "_model_module": "@jupyter-widgets/controls",
      "_model_module_version": "1.5.0",
      "_model_name": "DescriptionStyleModel",
      "_view_count": null,
      "_view_module": "@jupyter-widgets/base",
      "_view_module_version": "1.2.0",
      "_view_name": "StyleView",
      "description_width": ""
     }
    }
   }
  }
 },
 "nbformat": 4,
 "nbformat_minor": 5
}
