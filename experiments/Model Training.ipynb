{
 "cells": [
  {
   "cell_type": "code",
   "execution_count": 1,
   "id": "unlimited-above",
   "metadata": {},
   "outputs": [],
   "source": [
    "%load_ext autoreload\n",
    "%autoreload 2\n",
    "\n",
    "import sys, os\n",
    "sys.path.append(os.path.dirname(sys.path[0]))\n",
    "\n",
    "from tqdm.notebook import tqdm\n",
    "from segtok import tokenizer"
   ]
  },
  {
   "cell_type": "code",
   "execution_count": null,
   "id": "rural-float",
   "metadata": {},
   "outputs": [],
   "source": [
    "from data_parsing import load_dataset\n",
    "data = load_dataset(\"../yelp_review_training_dataset.jsonl\")"
   ]
  },
  {
   "cell_type": "code",
   "execution_count": null,
   "id": "precise-stevens",
   "metadata": {},
   "outputs": [],
   "source": [
    "from training_utils import split_train_validation\n",
    "train_x, valid_x, train_y, valid_y = split_train_validation(data, 0.01)"
   ]
  },
  {
   "cell_type": "code",
   "execution_count": null,
   "id": "subjective-privacy",
   "metadata": {},
   "outputs": [],
   "source": [
    "print(len(train_x))\n",
    "print(len(train_y))\n",
    "print(len(valid_x))\n",
    "print(len(valid_y))"
   ]
  },
  {
   "cell_type": "code",
   "execution_count": null,
   "id": "oriented-disclosure",
   "metadata": {},
   "outputs": [],
   "source": [
    "from collections import defaultdict\n",
    "\n",
    "vocab_frequency = defaultdict(lambda: 0)\n",
    "for text in tqdm(train_x):\n",
    "    tokenized = tokenizer.word_tokenizer(text.lower())\n",
    "    for word in tokenized:\n",
    "        vocab_frequency[word] += 1"
   ]
  },
  {
   "cell_type": "code",
   "execution_count": null,
   "id": "dried-mailman",
   "metadata": {},
   "outputs": [],
   "source": [
    "print(list(vocab_frequency.keys())[:10])"
   ]
  },
  {
   "cell_type": "code",
   "execution_count": null,
   "id": "disciplinary-skating",
   "metadata": {},
   "outputs": [],
   "source": [
    "print(len(vocab_frequency.keys()))\n",
    "words_to_keep = [key for key in vocab_frequency.keys() if vocab_frequency[key] >= 100]\n",
    "print(len(words_to_keep))"
   ]
  },
  {
   "cell_type": "code",
   "execution_count": null,
   "id": "tender-ensemble",
   "metadata": {},
   "outputs": [],
   "source": [
    "word2index = dict()\n",
    "unk_index = 0\n",
    "pad_index = 1\n",
    "next_index = 2\n",
    "for word in tqdm(vocab_frequency.keys()):\n",
    "    if word in words_to_keep:\n",
    "        word2index[word] = next_index\n",
    "        next_index += 1\n",
    "    else:\n",
    "        word2index[word] = unk_index"
   ]
  },
  {
   "cell_type": "code",
   "execution_count": null,
   "id": "still-brain",
   "metadata": {},
   "outputs": [],
   "source": [
    "print(word2index[\"hi\"])"
   ]
  },
  {
   "cell_type": "code",
   "execution_count": null,
   "id": "antique-salad",
   "metadata": {},
   "outputs": [],
   "source": [
    "vocab_size = max(word2index.values()) + 1 # zero-indexed\n",
    "print(vocab_size)"
   ]
  },
  {
   "cell_type": "code",
   "execution_count": null,
   "id": "classical-riding",
   "metadata": {},
   "outputs": [],
   "source": [
    "max_len = 0\n",
    "def numerize_text(text):\n",
    "    global max_len\n",
    "    tokenized = tokenizer.word_tokenizer(text.lower())\n",
    "    numerized = []\n",
    "    for word in tokenized:\n",
    "        if word in word2index:\n",
    "            numerized.append(word2index[word])\n",
    "        else:\n",
    "            numerized.append(unk_index)\n",
    "    max_len = max(max_len, len(numerized))\n",
    "    return numerized\n",
    "\n",
    "train_x_numerized = [numerize_text(text) for text in tqdm(train_x)]\n",
    "valid_x_numerized = [numerize_text(text) for text in tqdm(valid_x)]"
   ]
  },
  {
   "cell_type": "code",
   "execution_count": null,
   "id": "circular-journalist",
   "metadata": {},
   "outputs": [],
   "source": [
    "print(max_len)\n",
    "from training_utils import pad_text\n",
    "train_x_numerized = [pad_text(text, max_len, pad_index) for text in tqdm(train_x_numerized)]\n",
    "valid_x_numerized = [pad_text(text, max_len, pad_index) for text in tqdm(valid_x_numerized)]"
   ]
  },
  {
   "cell_type": "code",
   "execution_count": 2,
   "id": "solved-mount",
   "metadata": {},
   "outputs": [],
   "source": [
    "from utils import memo_load\n",
    "(train_x_numerized, train_y, valid_x_numerized, valid_y, vocab_size) = memo_load(\n",
    "    lambda: (train_x_numerized, train_y, valid_x_numerized, valid_y, vocab_size),\n",
    "    \"training_data\"\n",
    ")"
   ]
  },
  {
   "cell_type": "code",
   "execution_count": 3,
   "id": "twenty-course",
   "metadata": {},
   "outputs": [],
   "source": [
    "import numpy as np\n",
    "\n",
    "train_x_numerized = np.array(train_x_numerized)[:,:64]\n",
    "train_y = np.array(train_y)\n",
    "valid_x_numerized = np.array(valid_x_numerized)[:,:64]\n",
    "valid_y = np.array(valid_y)"
   ]
  },
  {
   "cell_type": "code",
   "execution_count": 4,
   "id": "absent-hungarian",
   "metadata": {},
   "outputs": [
    {
     "name": "stdout",
     "output_type": "stream",
     "text": [
      "cuda\n"
     ]
    }
   ],
   "source": [
    "from model import ReviewPredictionModel\n",
    "import torch as th\n",
    "import torch.optim as optim\n",
    "\n",
    "device = th.device(\"cuda\" if th.cuda.is_available() else \"cpu\")\n",
    "print(device)\n",
    "\n",
    "model_to_train = None\n",
    "model_to_train = ReviewPredictionModel(vocab_size, 256)\n",
    "model_to_train.to(device)\n",
    "optimizer = optim.Adam(model_to_train.parameters(), lr=1e-4)\n",
    "batch_size = 128\n",
    "epochs = 10"
   ]
  },
  {
   "cell_type": "code",
   "execution_count": 5,
   "id": "fleet-storage",
   "metadata": {},
   "outputs": [
    {
     "name": "stderr",
     "output_type": "stream",
     "text": [
      "Epoch: 0 Iteration: 4120 Loss: 0.782 Validation Loss: 0.807 Accuracy: 0.440 Validation Accuracy: 0.418: 100%|██████████| 4127/4127 [01:35<00:00, 43.37it/s]\n",
      "Epoch: 1 Iteration: 4120 Loss: 0.685 Validation Loss: 0.698 Accuracy: 0.438 Validation Accuracy: 0.462: 100%|██████████| 4127/4127 [01:35<00:00, 43.10it/s]\n",
      "Epoch: 2 Iteration: 4120 Loss: 0.596 Validation Loss: 0.676 Accuracy: 0.488 Validation Accuracy: 0.482: 100%|██████████| 4127/4127 [01:35<00:00, 43.06it/s]\n",
      "Epoch: 3 Iteration: 4120 Loss: 0.552 Validation Loss: 0.628 Accuracy: 0.510 Validation Accuracy: 0.496: 100%|██████████| 4127/4127 [01:35<00:00, 43.02it/s]\n",
      "Epoch: 4 Iteration: 4120 Loss: 0.567 Validation Loss: 0.654 Accuracy: 0.510 Validation Accuracy: 0.519: 100%|██████████| 4127/4127 [01:35<00:00, 43.04it/s]\n",
      "Epoch: 5 Iteration: 4120 Loss: 0.499 Validation Loss: 0.631 Accuracy: 0.513 Validation Accuracy: 0.519: 100%|██████████| 4127/4127 [01:35<00:00, 43.02it/s]\n",
      "Epoch: 6 Iteration: 4120 Loss: 0.448 Validation Loss: 0.638 Accuracy: 0.577 Validation Accuracy: 0.544: 100%|██████████| 4127/4127 [01:36<00:00, 42.98it/s]\n",
      "Epoch: 7 Iteration: 4120 Loss: 0.430 Validation Loss: 0.646 Accuracy: 0.570 Validation Accuracy: 0.557: 100%|██████████| 4127/4127 [01:35<00:00, 43.03it/s]\n",
      "Epoch: 8 Iteration: 4120 Loss: 0.389 Validation Loss: 0.666 Accuracy: 0.572 Validation Accuracy: 0.560: 100%|██████████| 4127/4127 [01:35<00:00, 43.02it/s]\n",
      "Epoch: 9 Iteration: 4120 Loss: 0.325 Validation Loss: 0.665 Accuracy: 0.627 Validation Accuracy: 0.574: 100%|██████████| 4127/4127 [01:35<00:00, 43.06it/s]\n"
     ]
    }
   ],
   "source": [
    "from training_utils import run_training_loop\n",
    "\n",
    "training_accuracies, validation_accuracies = run_training_loop(\n",
    "    model_to_train, optimizer, device,\n",
    "    batch_size, epochs,\n",
    "    train_x_numerized, train_y, valid_x_numerized, valid_y\n",
    ")"
   ]
  },
  {
   "cell_type": "code",
   "execution_count": 7,
   "id": "opened-jacket",
   "metadata": {},
   "outputs": [
    {
     "data": {
      "text/plain": [
       "<matplotlib.legend.Legend at 0x7ff0756295d0>"
      ]
     },
     "execution_count": 7,
     "metadata": {},
     "output_type": "execute_result"
    },
    {
     "data": {
      "image/png": "[encoded data removed]",
      "text/plain": [
       "<Figure size 432x288 with 1 Axes>"
      ]
     },
     "metadata": {
      "needs_background": "light"
     },
     "output_type": "display_data"
    }
   ],
   "source": [
    "import matplotlib.pyplot as plt\n",
    "plt.plot(range(len(training_accuracies)), training_accuracies, label = \"Training Accuracy\")\n",
    "plt.plot(list(map(lambda x: x * 10, range(len(validation_accuracies)))), validation_accuracies, label = \"Validation Accuracy\")\n",
    "plt.xlabel(\"Training Iteration\")\n",
    "plt.ylabel(\"Accuracy\")\n",
    "plt.legend()"
   ]
  },
  {
   "cell_type": "code",
   "execution_count": null,
   "id": "accessible-imaging",
   "metadata": {},
   "outputs": [],
   "source": []
  }
 ],
 "metadata": {
  "kernelspec": {
   "display_name": "Python 3",
   "language": "python",
   "name": "python3"
  },
  "language_info": {
   "codemirror_mode": {
    "name": "ipython",
    "version": 3
   },
   "file_extension": ".py",
   "mimetype": "text/x-python",
   "name": "python",
   "nbconvert_exporter": "python",
   "pygments_lexer": "ipython3",
   "version": "3.7.10"
  }
 },
 "nbformat": 4,
 "nbformat_minor": 5
}
